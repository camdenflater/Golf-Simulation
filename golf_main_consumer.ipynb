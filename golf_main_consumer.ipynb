{
 "cells": [
  {
   "cell_type": "code",
   "execution_count": 0,
   "metadata": {
    "application/vnd.databricks.v1+cell": {
     "cellMetadata": {
      "byteLimit": 2048000,
      "rowLimit": 10000
     },
     "inputWidgets": {},
     "nuid": "a40b1b6a-2d97-4b84-93d3-b185a10a30e0",
     "showTitle": false,
     "tableResultSettingsMap": {},
     "title": ""
    }
   },
   "outputs": [],
   "source": [
    "%run \"/config\""
   ]
  },
  {
   "cell_type": "code",
   "execution_count": 0,
   "metadata": {
    "application/vnd.databricks.v1+cell": {
     "cellMetadata": {
      "byteLimit": 2048000,
      "rowLimit": 10000
     },
     "inputWidgets": {},
     "nuid": "21d9ff0f-c548-4ffb-a7ec-3eadf1e3104d",
     "showTitle": false,
     "tableResultSettingsMap": {},
     "title": ""
    },
    "jupyter": {
     "outputs_hidden": true
    }
   },
   "outputs": [],
   "source": [
    "# Define Kafka broker parameters and read streaming data from topics\n",
    "kakfa_df_raw = (spark.readStream\n",
    "                   .format(\"kafka\") \n",
    "                   .option(\"kafka.bootstrap.servers\", ip_address) \n",
    "                   .option(\"subscribePattern\", \".*\")\n",
    "                   .option(\"startingOffsets\", \"earliest\")  # Read earliest message first\n",
    "                   .load()) "
   ]
  },
  {
   "cell_type": "code",
   "execution_count": 0,
   "metadata": {
    "application/vnd.databricks.v1+cell": {
     "cellMetadata": {
      "byteLimit": 2048000,
      "rowLimit": 10000
     },
     "inputWidgets": {},
     "nuid": "bd75aa51-19e5-4ff0-a42c-eba67e5db791",
     "showTitle": false,
     "tableResultSettingsMap": {},
     "title": ""
    }
   },
   "outputs": [
    {
     "output_type": "display_data",
     "data": {
      "text/html": [
       "<style scoped>\n",
       "  .table-result-container {\n",
       "    max-height: 300px;\n",
       "    overflow: auto;\n",
       "  }\n",
       "  table, th, td {\n",
       "    border: 1px solid black;\n",
       "    border-collapse: collapse;\n",
       "  }\n",
       "  th, td {\n",
       "    padding: 5px;\n",
       "  }\n",
       "  th {\n",
       "    text-align: left;\n",
       "  }\n",
       "</style><div class='table-result-container'><table class='table-result'><thead style='background-color: white'><tr><th>json_record</th></tr></thead><tbody><tr><td>{\"Record\": \"383ca1aa-1fba-4e30-8019-097a0096e684\", \"Hole\": 1, \"Golfer\": \"Sam\", \"Stroke\": 1, \"Par\": 3, \"Yards_To_Pin\": 119, \"Pin_Distance\": 200, \"Club\": \"8 Iron\"}</td></tr><tr><td>{\"Record\": \"aa225dc0-35dc-47be-a3fb-3c497883450d\", \"Hole\": 1, \"Golfer\": \"Sam\", \"Stroke\": 2, \"Par\": 3, \"Yards_To_Pin\": 139, \"Pin_Distance\": 200, \"Club\": \"52 Degree Wedge\"}</td></tr><tr><td>{\"Record\": \"100b8bd3-db76-456d-933d-5753e794ce62\", \"Hole\": 1, \"Golfer\": \"Sam\", \"Stroke\": 3, \"Par\": 3, \"Yards_To_Pin\": 162, \"Pin_Distance\": 200, \"Club\": \"Putter\"}</td></tr><tr><td>{\"Record\": \"9afd74e6-b45c-45d1-8cdd-85740fdd021a\", \"Hole\": 1, \"Golfer\": \"Sam\", \"Stroke\": 4, \"Par\": 3, \"Yards_To_Pin\": 200, \"Pin_Distance\": 200, \"Club\": \"Putter\"}</td></tr><tr><td>{\"Record\": \"3fd0f83c-dd56-4065-b686-8c7469804cf3\", \"Hole\": 2, \"Golfer\": \"Sam\", \"Stroke\": 1, \"Par\": 4, \"Yards_To_Pin\": 217, \"Pin_Distance\": 440, \"Club\": \"Driver\"}</td></tr><tr><td>{\"Record\": \"309d8c31-903e-4c76-8f5e-bd1f4092d670\", \"Hole\": 2, \"Golfer\": \"Sam\", \"Stroke\": 2, \"Par\": 4, \"Yards_To_Pin\": 323, \"Pin_Distance\": 440, \"Club\": \"6 Iron\"}</td></tr><tr><td>{\"Record\": \"41482f80-ee8e-47ba-8ff5-80c64e035277\", \"Hole\": 2, \"Golfer\": \"Sam\", \"Stroke\": 3, \"Par\": 4, \"Yards_To_Pin\": 390, \"Pin_Distance\": 440, \"Club\": \"54 Degree Wedge\"}</td></tr><tr><td>{\"Record\": \"9d0ee576-bcd6-4ff0-a669-18bacdcdd2bf\", \"Hole\": 2, \"Golfer\": \"Sam\", \"Stroke\": 4, \"Par\": 4, \"Yards_To_Pin\": 434, \"Pin_Distance\": 440, \"Club\": \"52 Degree Wedge\"}</td></tr><tr><td>{\"Record\": \"19d3e1b8-38cf-45bb-90c6-45fd0d81ffcf\", \"Hole\": 2, \"Golfer\": \"Sam\", \"Stroke\": 5, \"Par\": 4, \"Yards_To_Pin\": 440, \"Pin_Distance\": 440, \"Club\": \"56 Degree Wedge\"}</td></tr><tr><td>{\"Record\": \"eaf7ea91-7fdd-404a-b9f6-0798f944072d\", \"Hole\": 3, \"Golfer\": \"Sam\", \"Stroke\": 1, \"Par\": 5, \"Yards_To_Pin\": 215, \"Pin_Distance\": 459, \"Club\": \"Driver\"}</td></tr></tbody></table></div>"
      ]
     },
     "metadata": {
      "application/vnd.databricks.v1+output": {
       "addedWidgets": {},
       "aggData": [],
       "aggError": "",
       "aggOverflow": false,
       "aggSchema": [],
       "aggSeriesLimitReached": false,
       "aggType": "",
       "arguments": {},
       "columnCustomDisplayInfos": {},
       "data": [
        [
         "{\"Record\": \"383ca1aa-1fba-4e30-8019-097a0096e684\", \"Hole\": 1, \"Golfer\": \"Sam\", \"Stroke\": 1, \"Par\": 3, \"Yards_To_Pin\": 119, \"Pin_Distance\": 200, \"Club\": \"8 Iron\"}"
        ],
        [
         "{\"Record\": \"aa225dc0-35dc-47be-a3fb-3c497883450d\", \"Hole\": 1, \"Golfer\": \"Sam\", \"Stroke\": 2, \"Par\": 3, \"Yards_To_Pin\": 139, \"Pin_Distance\": 200, \"Club\": \"52 Degree Wedge\"}"
        ],
        [
         "{\"Record\": \"100b8bd3-db76-456d-933d-5753e794ce62\", \"Hole\": 1, \"Golfer\": \"Sam\", \"Stroke\": 3, \"Par\": 3, \"Yards_To_Pin\": 162, \"Pin_Distance\": 200, \"Club\": \"Putter\"}"
        ],
        [
         "{\"Record\": \"9afd74e6-b45c-45d1-8cdd-85740fdd021a\", \"Hole\": 1, \"Golfer\": \"Sam\", \"Stroke\": 4, \"Par\": 3, \"Yards_To_Pin\": 200, \"Pin_Distance\": 200, \"Club\": \"Putter\"}"
        ],
        [
         "{\"Record\": \"3fd0f83c-dd56-4065-b686-8c7469804cf3\", \"Hole\": 2, \"Golfer\": \"Sam\", \"Stroke\": 1, \"Par\": 4, \"Yards_To_Pin\": 217, \"Pin_Distance\": 440, \"Club\": \"Driver\"}"
        ],
        [
         "{\"Record\": \"309d8c31-903e-4c76-8f5e-bd1f4092d670\", \"Hole\": 2, \"Golfer\": \"Sam\", \"Stroke\": 2, \"Par\": 4, \"Yards_To_Pin\": 323, \"Pin_Distance\": 440, \"Club\": \"6 Iron\"}"
        ],
        [
         "{\"Record\": \"41482f80-ee8e-47ba-8ff5-80c64e035277\", \"Hole\": 2, \"Golfer\": \"Sam\", \"Stroke\": 3, \"Par\": 4, \"Yards_To_Pin\": 390, \"Pin_Distance\": 440, \"Club\": \"54 Degree Wedge\"}"
        ],
        [
         "{\"Record\": \"9d0ee576-bcd6-4ff0-a669-18bacdcdd2bf\", \"Hole\": 2, \"Golfer\": \"Sam\", \"Stroke\": 4, \"Par\": 4, \"Yards_To_Pin\": 434, \"Pin_Distance\": 440, \"Club\": \"52 Degree Wedge\"}"
        ],
        [
         "{\"Record\": \"19d3e1b8-38cf-45bb-90c6-45fd0d81ffcf\", \"Hole\": 2, \"Golfer\": \"Sam\", \"Stroke\": 5, \"Par\": 4, \"Yards_To_Pin\": 440, \"Pin_Distance\": 440, \"Club\": \"56 Degree Wedge\"}"
        ],
        [
         "{\"Record\": \"eaf7ea91-7fdd-404a-b9f6-0798f944072d\", \"Hole\": 3, \"Golfer\": \"Sam\", \"Stroke\": 1, \"Par\": 5, \"Yards_To_Pin\": 215, \"Pin_Distance\": 459, \"Club\": \"Driver\"}"
        ]
       ],
       "datasetInfos": [],
       "dbfsResultPath": null,
       "isJsonSchema": true,
       "metadata": {
        "isDbfsCommandResult": false
       },
       "overflow": false,
       "plotOptions": {
        "customPlotOptions": {},
        "displayType": "table",
        "pivotAggregation": null,
        "pivotColumns": null,
        "xColumns": null,
        "yColumns": null
       },
       "removedWidgets": [],
       "schema": [
        {
         "metadata": "{}",
         "name": "json_record",
         "type": "\"string\""
        }
       ],
       "type": "table"
      }
     },
     "output_type": "display_data"
    }
   ],
   "source": [
    "# Decode raw dataframe\n",
    "decoded_df = kakfa_df_raw.selectExpr(\"CAST(value AS STRING) as json_record\")\n",
    "display(decoded_df.limit(10))"
   ]
  },
  {
   "cell_type": "code",
   "execution_count": 0,
   "metadata": {
    "application/vnd.databricks.v1+cell": {
     "cellMetadata": {
      "byteLimit": 2048000,
      "rowLimit": 10000
     },
     "inputWidgets": {},
     "nuid": "7f7b4290-8788-4e3d-bcaa-e785657361bc",
     "showTitle": false,
     "tableResultSettingsMap": {},
     "title": ""
    }
   },
   "outputs": [
    {
     "output_type": "display_data",
     "data": {
      "text/html": [
       "<style scoped>\n",
       "  .table-result-container {\n",
       "    max-height: 300px;\n",
       "    overflow: auto;\n",
       "  }\n",
       "  table, th, td {\n",
       "    border: 1px solid black;\n",
       "    border-collapse: collapse;\n",
       "  }\n",
       "  th, td {\n",
       "    padding: 5px;\n",
       "  }\n",
       "  th {\n",
       "    text-align: left;\n",
       "  }\n",
       "</style><div class='table-result-container'><table class='table-result'><thead style='background-color: white'><tr><th>Record</th><th>Hole</th><th>Golfer</th><th>Stroke</th><th>Par</th><th>Yards_To_Pin</th><th>Pin_Distance</th><th>Club</th></tr></thead><tbody><tr><td>383ca1aa-1fba-4e30-8019-097a0096e684</td><td>1</td><td>Sam</td><td>1</td><td>3</td><td>119</td><td>200</td><td>8 Iron</td></tr><tr><td>aa225dc0-35dc-47be-a3fb-3c497883450d</td><td>1</td><td>Sam</td><td>2</td><td>3</td><td>139</td><td>200</td><td>52 Degree Wedge</td></tr><tr><td>100b8bd3-db76-456d-933d-5753e794ce62</td><td>1</td><td>Sam</td><td>3</td><td>3</td><td>162</td><td>200</td><td>Putter</td></tr><tr><td>9afd74e6-b45c-45d1-8cdd-85740fdd021a</td><td>1</td><td>Sam</td><td>4</td><td>3</td><td>200</td><td>200</td><td>Putter</td></tr><tr><td>3fd0f83c-dd56-4065-b686-8c7469804cf3</td><td>2</td><td>Sam</td><td>1</td><td>4</td><td>217</td><td>440</td><td>Driver</td></tr><tr><td>309d8c31-903e-4c76-8f5e-bd1f4092d670</td><td>2</td><td>Sam</td><td>2</td><td>4</td><td>323</td><td>440</td><td>6 Iron</td></tr><tr><td>41482f80-ee8e-47ba-8ff5-80c64e035277</td><td>2</td><td>Sam</td><td>3</td><td>4</td><td>390</td><td>440</td><td>54 Degree Wedge</td></tr><tr><td>9d0ee576-bcd6-4ff0-a669-18bacdcdd2bf</td><td>2</td><td>Sam</td><td>4</td><td>4</td><td>434</td><td>440</td><td>52 Degree Wedge</td></tr><tr><td>19d3e1b8-38cf-45bb-90c6-45fd0d81ffcf</td><td>2</td><td>Sam</td><td>5</td><td>4</td><td>440</td><td>440</td><td>56 Degree Wedge</td></tr><tr><td>eaf7ea91-7fdd-404a-b9f6-0798f944072d</td><td>3</td><td>Sam</td><td>1</td><td>5</td><td>215</td><td>459</td><td>Driver</td></tr></tbody></table></div>"
      ]
     },
     "metadata": {
      "application/vnd.databricks.v1+output": {
       "addedWidgets": {},
       "aggData": [],
       "aggError": "",
       "aggOverflow": false,
       "aggSchema": [],
       "aggSeriesLimitReached": false,
       "aggType": "",
       "arguments": {},
       "columnCustomDisplayInfos": {},
       "data": [
        [
         "383ca1aa-1fba-4e30-8019-097a0096e684",
         1,
         "Sam",
         1,
         3,
         119,
         200,
         "8 Iron"
        ],
        [
         "aa225dc0-35dc-47be-a3fb-3c497883450d",
         1,
         "Sam",
         2,
         3,
         139,
         200,
         "52 Degree Wedge"
        ],
        [
         "100b8bd3-db76-456d-933d-5753e794ce62",
         1,
         "Sam",
         3,
         3,
         162,
         200,
         "Putter"
        ],
        [
         "9afd74e6-b45c-45d1-8cdd-85740fdd021a",
         1,
         "Sam",
         4,
         3,
         200,
         200,
         "Putter"
        ],
        [
         "3fd0f83c-dd56-4065-b686-8c7469804cf3",
         2,
         "Sam",
         1,
         4,
         217,
         440,
         "Driver"
        ],
        [
         "309d8c31-903e-4c76-8f5e-bd1f4092d670",
         2,
         "Sam",
         2,
         4,
         323,
         440,
         "6 Iron"
        ],
        [
         "41482f80-ee8e-47ba-8ff5-80c64e035277",
         2,
         "Sam",
         3,
         4,
         390,
         440,
         "54 Degree Wedge"
        ],
        [
         "9d0ee576-bcd6-4ff0-a669-18bacdcdd2bf",
         2,
         "Sam",
         4,
         4,
         434,
         440,
         "52 Degree Wedge"
        ],
        [
         "19d3e1b8-38cf-45bb-90c6-45fd0d81ffcf",
         2,
         "Sam",
         5,
         4,
         440,
         440,
         "56 Degree Wedge"
        ],
        [
         "eaf7ea91-7fdd-404a-b9f6-0798f944072d",
         3,
         "Sam",
         1,
         5,
         215,
         459,
         "Driver"
        ]
       ],
       "datasetInfos": [],
       "dbfsResultPath": null,
       "isJsonSchema": true,
       "metadata": {
        "isDbfsCommandResult": false
       },
       "overflow": false,
       "plotOptions": {
        "customPlotOptions": {},
        "displayType": "table",
        "pivotAggregation": null,
        "pivotColumns": null,
        "xColumns": null,
        "yColumns": null
       },
       "removedWidgets": [],
       "schema": [
        {
         "metadata": "{}",
         "name": "Record",
         "type": "\"string\""
        },
        {
         "metadata": "{}",
         "name": "Hole",
         "type": "\"integer\""
        },
        {
         "metadata": "{}",
         "name": "Golfer",
         "type": "\"string\""
        },
        {
         "metadata": "{}",
         "name": "Stroke",
         "type": "\"integer\""
        },
        {
         "metadata": "{}",
         "name": "Par",
         "type": "\"integer\""
        },
        {
         "metadata": "{}",
         "name": "Yards_To_Pin",
         "type": "\"integer\""
        },
        {
         "metadata": "{}",
         "name": "Pin_Distance",
         "type": "\"integer\""
        },
        {
         "metadata": "{}",
         "name": "Club",
         "type": "\"string\""
        }
       ],
       "type": "table"
      }
     },
     "output_type": "display_data"
    }
   ],
   "source": [
    "from pyspark.sql.types import StructType, StringType, IntegerType\n",
    "from pyspark.sql.functions import from_json, col\n",
    "\n",
    "json_schema = StructType() \\\n",
    "    .add(\"Record\", StringType()) \\\n",
    "    .add(\"Hole\", IntegerType()) \\\n",
    "    .add(\"Golfer\", StringType()) \\\n",
    "    .add(\"Stroke\", IntegerType()) \\\n",
    "    .add(\"Par\", IntegerType()) \\\n",
    "    .add(\"Yards_To_Pin\", IntegerType()) \\\n",
    "    .add(\"Pin_Distance\", IntegerType()) \\\n",
    "    .add(\"Club\", StringType()) \n",
    "\n",
    "\n",
    "df_cleaned = decoded_df.select(\n",
    "    from_json(col(\"json_record\"), json_schema).alias(\"data\")\n",
    ").select(\"data.*\")\n",
    "\n",
    "display(df_cleaned.limit(10))"
   ]
  },
  {
   "cell_type": "code",
   "execution_count": 0,
   "metadata": {
    "application/vnd.databricks.v1+cell": {
     "cellMetadata": {
      "byteLimit": 2048000,
      "rowLimit": 10000
     },
     "inputWidgets": {},
     "nuid": "ed86eda8-471f-473d-955c-44d4f40a628b",
     "showTitle": false,
     "tableResultSettingsMap": {},
     "title": ""
    }
   },
   "outputs": [
    {
     "output_type": "display_data",
     "data": {
      "text/html": [
       "<style scoped>\n",
       "  .ansiout {\n",
       "    display: block;\n",
       "    unicode-bidi: embed;\n",
       "    white-space: pre-wrap;\n",
       "    word-wrap: break-word;\n",
       "    word-break: break-all;\n",
       "    font-family: \"Menlo\", \"Monaco\", \"Consolas\", \"Ubuntu Mono\", \"Source Code Pro\", monospace;\n",
       "    font-size: 13px;\n",
       "    color: #555;\n",
       "    margin-left: 4px;\n",
       "    line-height: 19px;\n",
       "  }\n",
       "</style>"
      ]
     },
     "metadata": {
      "application/vnd.databricks.v1+output": {
       "arguments": {},
       "data": "",
       "errorSummary": "Cancelled",
       "errorTraceType": "html",
       "metadata": {},
       "type": "ipynbError"
      }
     },
     "output_type": "display_data"
    }
   ],
   "source": [
    "# Write decoded dataframe to ADLS as JSON file\n",
    "stream_writer = (df_cleaned.writeStream\n",
    "         .format(\"parquet\") \n",
    "         .option(\"path\", container_path) # ADLS container\n",
    "         .option(\"checkpointLocation\", checkpoint_path)  # Fault tolerance location\n",
    "         .outputMode(\"append\")\n",
    "         .start())\n",
    "\n",
    "# Keep stream running until terminated\n",
    "stream_writer.awaitTermination()"
   ]
  }
 ],
 "metadata": {
  "application/vnd.databricks.v1+notebook": {
   "computePreferences": null,
   "dashboards": [],
   "environmentMetadata": {
    "base_environment": "",
    "environment_version": "1"
   },
   "inputWidgetPreferences": null,
   "language": "python",
   "notebookMetadata": {
    "pythonIndentUnit": 4
   },
   "notebookName": "golf_main_databricks",
   "widgets": {}
  }
 },
 "nbformat": 4,
 "nbformat_minor": 0
}