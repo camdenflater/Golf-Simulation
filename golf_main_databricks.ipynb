{
 "cells": [
  {
   "cell_type": "code",
   "execution_count": 0,
   "metadata": {
    "application/vnd.databricks.v1+cell": {
     "cellMetadata": {
      "byteLimit": 2048000,
      "rowLimit": 10000
     },
     "inputWidgets": {},
     "nuid": "a40b1b6a-2d97-4b84-93d3-b185a10a30e0",
     "showTitle": false,
     "tableResultSettingsMap": {},
     "title": ""
    }
   },
   "outputs": [],
   "source": [
    "%run \"/config\""
   ]
  },
  {
   "cell_type": "code",
   "execution_count": 0,
   "metadata": {
    "application/vnd.databricks.v1+cell": {
     "cellMetadata": {
      "byteLimit": 2048000,
      "rowLimit": 10000
     },
     "inputWidgets": {},
     "nuid": "21d9ff0f-c548-4ffb-a7ec-3eadf1e3104d",
     "showTitle": false,
     "tableResultSettingsMap": {},
     "title": ""
    },
    "jupyter": {
     "outputs_hidden": true
    }
   },
   "outputs": [],
   "source": [
    "# Define Kafka broker parameters and read streaming data from topics\n",
    "kafka_topics = \"scorecard_bob\" \n",
    "kakfa_df_raw = (spark.readStream\n",
    "                   .format(\"kafka\") \n",
    "                   .option(\"kafka.bootstrap.servers\", ip_address) \n",
    "                   .option(\"subscribe\", kafka_topics)\n",
    "                   .option(\"startingOffsets\", \"earliest\")  # Read earliest message first\n",
    "                   .load()) "
   ]
  },
  {
   "cell_type": "code",
   "execution_count": 0,
   "metadata": {
    "application/vnd.databricks.v1+cell": {
     "cellMetadata": {
      "byteLimit": 2048000,
      "rowLimit": 10000
     },
     "collapsed": true,
     "inputWidgets": {},
     "nuid": "bd75aa51-19e5-4ff0-a42c-eba67e5db791",
     "showTitle": false,
     "tableResultSettingsMap": {},
     "title": ""
    }
   },
   "outputs": [
    {
     "output_type": "display_data",
     "data": {
      "text/html": [
       "<style scoped>\n",
       "  .table-result-container {\n",
       "    max-height: 300px;\n",
       "    overflow: auto;\n",
       "  }\n",
       "  table, th, td {\n",
       "    border: 1px solid black;\n",
       "    border-collapse: collapse;\n",
       "  }\n",
       "  th, td {\n",
       "    padding: 5px;\n",
       "  }\n",
       "  th {\n",
       "    text-align: left;\n",
       "  }\n",
       "</style><div class='table-result-container'><table class='table-result'><thead style='background-color: white'><tr><th>value</th></tr></thead><tbody><tr><td>{\"Record\": \"fd114009-86b3-4c2d-b773-157a8b6bc0ba\", \"Hole\": \"1\", \"Golfer\": \"Bob\", \"Stroke\": 1, \"Par\": 5, \"Yards_To_Pin\": 231, \"Pin_Distance\": 461, \"Club\": \"3 Wood\"}</td></tr><tr><td>{\"Record\": \"3734f832-7c04-46f2-9de8-2133f876725f\", \"Hole\": \"1\", \"Golfer\": \"Bob\", \"Stroke\": 2, \"Par\": 5, \"Yards_To_Pin\": 349, \"Pin_Distance\": 461, \"Club\": \"8 Iron\"}</td></tr><tr><td>{\"Record\": \"8b9edf37-0e32-4ce8-a685-c74258376ac2\", \"Hole\": \"1\", \"Golfer\": \"Bob\", \"Stroke\": 3, \"Par\": 5, \"Yards_To_Pin\": 392, \"Pin_Distance\": 461, \"Club\": \"56 Degree Wedge\"}</td></tr><tr><td>{\"Record\": \"99e678b9-bbb8-428d-b3a8-6c0a6c800e1d\", \"Hole\": \"1\", \"Golfer\": \"Bob\", \"Stroke\": 4, \"Par\": 5, \"Yards_To_Pin\": 439, \"Pin_Distance\": 461, \"Club\": \"52 Degree Wedge\"}</td></tr><tr><td>{\"Record\": \"db6e54fa-ff6d-4a16-b27c-42f913ee58e3\", \"Hole\": \"1\", \"Golfer\": \"Bob\", \"Stroke\": 5, \"Par\": 5, \"Yards_To_Pin\": 461, \"Pin_Distance\": 461, \"Club\": \"54 Degree Wedge\"}</td></tr><tr><td>{\"Record\": \"4da8bb4c-562f-4bba-967d-e899addd83d7\", \"Hole\": \"2\", \"Golfer\": \"Bob\", \"Stroke\": 1, \"Par\": 4, \"Yards_To_Pin\": 243, \"Pin_Distance\": 425, \"Club\": \"3 Wood\"}</td></tr><tr><td>{\"Record\": \"e2fdaade-b685-4675-93bb-b5c0025c3a2f\", \"Hole\": \"2\", \"Golfer\": \"Bob\", \"Stroke\": 2, \"Par\": 4, \"Yards_To_Pin\": 359, \"Pin_Distance\": 425, \"Club\": \"9 Iron\"}</td></tr><tr><td>{\"Record\": \"afb38090-7ff1-4d93-b1c8-36ddf83b210b\", \"Hole\": \"2\", \"Golfer\": \"Bob\", \"Stroke\": 3, \"Par\": 4, \"Yards_To_Pin\": 425, \"Pin_Distance\": 425, \"Club\": \"52 Degree Wedge\"}</td></tr><tr><td>{\"Record\": \"55f218d4-c0f7-45e3-8f3b-e88f683eb084\", \"Hole\": \"3\", \"Golfer\": \"Bob\", \"Stroke\": 1, \"Par\": 4, \"Yards_To_Pin\": 218, \"Pin_Distance\": 408, \"Club\": \"Driver\"}</td></tr><tr><td>{\"Record\": \"46d05772-d52b-4f7f-90ad-b8e778de5b5c\", \"Hole\": \"3\", \"Golfer\": \"Bob\", \"Stroke\": 2, \"Par\": 4, \"Yards_To_Pin\": 334, \"Pin_Distance\": 408, \"Club\": \"9 Iron\"}</td></tr><tr><td>{\"Record\": \"42dc057f-a57b-45c9-b6d7-6a3c880d92af\", \"Hole\": \"3\", \"Golfer\": \"Bob\", \"Stroke\": 3, \"Par\": 4, \"Yards_To_Pin\": 394, \"Pin_Distance\": 408, \"Club\": \"56 Degree Wedge\"}</td></tr><tr><td>{\"Record\": \"392d4c65-d7ff-4e4b-8f84-013ef81755c8\", \"Hole\": \"3\", \"Golfer\": \"Bob\", \"Stroke\": 4, \"Par\": 4, \"Yards_To_Pin\": 408, \"Pin_Distance\": 408, \"Club\": \"52 Degree Wedge\"}</td></tr><tr><td>{\"Record\": \"5a87b3f3-17a0-45f3-8cb5-097d33fe7e4d\", \"Hole\": \"4\", \"Golfer\": \"Bob\", \"Stroke\": 1, \"Par\": 4, \"Yards_To_Pin\": 248, \"Pin_Distance\": 412, \"Club\": \"Driver\"}</td></tr><tr><td>{\"Record\": \"124dfd5e-3b3c-4cbc-a7a3-bc7d0a92cfd3\", \"Hole\": \"4\", \"Golfer\": \"Bob\", \"Stroke\": 2, \"Par\": 4, \"Yards_To_Pin\": 357, \"Pin_Distance\": 412, \"Club\": \"7 Iron\"}</td></tr><tr><td>{\"Record\": \"5a78f97e-1d42-4366-9c82-8f45fb2ae760\", \"Hole\": \"4\", \"Golfer\": \"Bob\", \"Stroke\": 3, \"Par\": 4, \"Yards_To_Pin\": 396, \"Pin_Distance\": 412, \"Club\": \"52 Degree Wedge\"}</td></tr><tr><td>{\"Record\": \"cc47ee23-e4ba-4171-81ab-8bea802e9de4\", \"Hole\": \"4\", \"Golfer\": \"Bob\", \"Stroke\": 4, \"Par\": 4, \"Yards_To_Pin\": 412, \"Pin_Distance\": 412, \"Club\": \"52 Degree Wedge\"}</td></tr><tr><td>{\"Record\": \"de18fc82-6af2-4f18-9732-9c46ded23aba\", \"Hole\": \"5\", \"Golfer\": \"Bob\", \"Stroke\": 1, \"Par\": 4, \"Yards_To_Pin\": 232, \"Pin_Distance\": 435, \"Club\": \"Driver\"}</td></tr><tr><td>{\"Record\": \"a9306db8-67f0-4d1b-b3b2-28c35b82a656\", \"Hole\": \"5\", \"Golfer\": \"Bob\", \"Stroke\": 2, \"Par\": 4, \"Yards_To_Pin\": 350, \"Pin_Distance\": 435, \"Club\": \"8 Iron\"}</td></tr><tr><td>{\"Record\": \"ec471dd7-48d1-4586-83b4-ac83cef60274\", \"Hole\": \"5\", \"Golfer\": \"Bob\", \"Stroke\": 3, \"Par\": 4, \"Yards_To_Pin\": 402, \"Pin_Distance\": 435, \"Club\": \"54 Degree Wedge\"}</td></tr><tr><td>{\"Record\": \"e35a0198-48e6-4fa1-ac21-e239719b3e94\", \"Hole\": \"5\", \"Golfer\": \"Bob\", \"Stroke\": 4, \"Par\": 4, \"Yards_To_Pin\": 435, \"Pin_Distance\": 435, \"Club\": \"52 Degree Wedge\"}</td></tr><tr><td>{\"Record\": \"32dd86d5-1201-41bb-b3b0-2daeafdebec3\", \"Hole\": \"6\", \"Golfer\": \"Bob\", \"Stroke\": 1, \"Par\": 5, \"Yards_To_Pin\": 222, \"Pin_Distance\": 492, \"Club\": \"Driver\"}</td></tr><tr><td>{\"Record\": \"7ca7ebaa-5efc-4538-a0c0-af0ad67d0ef3\", \"Hole\": \"6\", \"Golfer\": \"Bob\", \"Stroke\": 2, \"Par\": 5, \"Yards_To_Pin\": 342, \"Pin_Distance\": 492, \"Club\": \"7 Iron\"}</td></tr><tr><td>{\"Record\": \"243b7a5f-b15c-4495-bd9f-71745f641ac0\", \"Hole\": \"6\", \"Golfer\": \"Bob\", \"Stroke\": 3, \"Par\": 5, \"Yards_To_Pin\": 401, \"Pin_Distance\": 492, \"Club\": \"52 Degree Wedge\"}</td></tr><tr><td>{\"Record\": \"a08321cb-ed2f-4e30-bc39-e32dedb99b0a\", \"Hole\": \"6\", \"Golfer\": \"Bob\", \"Stroke\": 4, \"Par\": 5, \"Yards_To_Pin\": 439, \"Pin_Distance\": 492, \"Club\": \"54 Degree Wedge\"}</td></tr><tr><td>{\"Record\": \"8f668131-53eb-455d-b6f0-d3949290235c\", \"Hole\": \"6\", \"Golfer\": \"Bob\", \"Stroke\": 5, \"Par\": 5, \"Yards_To_Pin\": 459, \"Pin_Distance\": 492, \"Club\": \"54 Degree Wedge\"}</td></tr><tr><td>{\"Record\": \"dea46cf4-c409-475f-875f-04fa51fbd0c1\", \"Hole\": \"6\", \"Golfer\": \"Bob\", \"Stroke\": 6, \"Par\": 5, \"Yards_To_Pin\": 477, \"Pin_Distance\": 492, \"Club\": \"Putter\"}</td></tr><tr><td>{\"Record\": \"ff6c3002-90f0-43c4-816d-93deaa83bd16\", \"Hole\": \"6\", \"Golfer\": \"Bob\", \"Stroke\": 7, \"Par\": 5, \"Yards_To_Pin\": 490, \"Pin_Distance\": 492, \"Club\": \"Putter\"}</td></tr><tr><td>{\"Record\": \"7ba04bcb-c41b-4d61-bc8b-63ea7faacb30\", \"Hole\": \"6\", \"Golfer\": \"Bob\", \"Stroke\": 8, \"Par\": 5, \"Yards_To_Pin\": 492, \"Pin_Distance\": 492, \"Club\": \"Putter\"}</td></tr><tr><td>{\"Record\": \"dd3035b1-c534-4f41-a700-c7b200409577\", \"Hole\": \"7\", \"Golfer\": \"Bob\", \"Stroke\": 1, \"Par\": 4, \"Yards_To_Pin\": 262, \"Pin_Distance\": 427, \"Club\": \"3 Wood\"}</td></tr><tr><td>{\"Record\": \"17a88b5e-05d3-4ff6-9014-4bc66b485243\", \"Hole\": \"7\", \"Golfer\": \"Bob\", \"Stroke\": 2, \"Par\": 4, \"Yards_To_Pin\": 362, \"Pin_Distance\": 427, \"Club\": \"7 Iron\"}</td></tr><tr><td>{\"Record\": \"ec99de74-3605-412e-9da8-b2f943bc9e99\", \"Hole\": \"7\", \"Golfer\": \"Bob\", \"Stroke\": 3, \"Par\": 4, \"Yards_To_Pin\": 406, \"Pin_Distance\": 427, \"Club\": \"52 Degree Wedge\"}</td></tr><tr><td>{\"Record\": \"e996a9d5-2991-4bed-a972-13e64ceea1fe\", \"Hole\": \"7\", \"Golfer\": \"Bob\", \"Stroke\": 4, \"Par\": 4, \"Yards_To_Pin\": 427, \"Pin_Distance\": 427, \"Club\": \"54 Degree Wedge\"}</td></tr><tr><td>{\"Record\": \"27e56f84-e1de-4491-a800-0dacd3029ee9\", \"Hole\": \"8\", \"Golfer\": \"Bob\", \"Stroke\": 1, \"Par\": 4, \"Yards_To_Pin\": 201, \"Pin_Distance\": 387, \"Club\": \"Driver\"}</td></tr><tr><td>{\"Record\": \"54440a65-d511-4d28-aff9-83149eefc538\", \"Hole\": \"8\", \"Golfer\": \"Bob\", \"Stroke\": 2, \"Par\": 4, \"Yards_To_Pin\": 321, \"Pin_Distance\": 387, \"Club\": \"7 Iron\"}</td></tr><tr><td>{\"Record\": \"472a42e0-8f30-4bb3-9314-a89635782987\", \"Hole\": \"8\", \"Golfer\": \"Bob\", \"Stroke\": 3, \"Par\": 4, \"Yards_To_Pin\": 380, \"Pin_Distance\": 387, \"Club\": \"52 Degree Wedge\"}</td></tr><tr><td>{\"Record\": \"51feca2e-5843-4b98-ac67-16244b4dc5c0\", \"Hole\": \"8\", \"Golfer\": \"Bob\", \"Stroke\": 4, \"Par\": 4, \"Yards_To_Pin\": 387, \"Pin_Distance\": 387, \"Club\": \"54 Degree Wedge\"}</td></tr><tr><td>{\"Record\": \"08375dde-4f4c-426e-b6ea-db33587ed126\", \"Hole\": \"9\", \"Golfer\": \"Bob\", \"Stroke\": 1, \"Par\": 5, \"Yards_To_Pin\": 218, \"Pin_Distance\": 464, \"Club\": \"3 Wood\"}</td></tr><tr><td>{\"Record\": \"304501ae-b69a-4d27-ac7a-f2be2c45fe1f\", \"Hole\": \"9\", \"Golfer\": \"Bob\", \"Stroke\": 2, \"Par\": 5, \"Yards_To_Pin\": 323, \"Pin_Distance\": 464, \"Club\": \"9 Iron\"}</td></tr><tr><td>{\"Record\": \"4b574d55-288e-4d04-99b7-844116ed378f\", \"Hole\": \"9\", \"Golfer\": \"Bob\", \"Stroke\": 3, \"Par\": 5, \"Yards_To_Pin\": 377, \"Pin_Distance\": 464, \"Club\": \"54 Degree Wedge\"}</td></tr><tr><td>{\"Record\": \"d02e3a88-8169-4a59-8e3c-55213a912a22\", \"Hole\": \"9\", \"Golfer\": \"Bob\", \"Stroke\": 4, \"Par\": 5, \"Yards_To_Pin\": 427, \"Pin_Distance\": 464, \"Club\": \"54 Degree Wedge\"}</td></tr><tr><td>{\"Record\": \"65eb21bd-794f-4871-943f-1daa32115fff\", \"Hole\": \"9\", \"Golfer\": \"Bob\", \"Stroke\": 5, \"Par\": 5, \"Yards_To_Pin\": 448, \"Pin_Distance\": 464, \"Club\": \"54 Degree Wedge\"}</td></tr><tr><td>{\"Record\": \"2f4927da-6453-4284-9237-0537d1c7fe2b\", \"Hole\": \"9\", \"Golfer\": \"Bob\", \"Stroke\": 6, \"Par\": 5, \"Yards_To_Pin\": 464, \"Pin_Distance\": 464, \"Club\": \"Putter\"}</td></tr><tr><td>{\"Record\": \"b9d26a8e-efa8-45bc-b6f9-a399bf23f26d\", \"Hole\": \"10\", \"Golfer\": \"Bob\", \"Stroke\": 1, \"Par\": 5, \"Yards_To_Pin\": 238, \"Pin_Distance\": 484, \"Club\": \"Driver\"}</td></tr><tr><td>{\"Record\": \"0bf36f12-b3b3-4cdd-a8e0-0c812553e74d\", \"Hole\": \"10\", \"Golfer\": \"Bob\", \"Stroke\": 2, \"Par\": 5, \"Yards_To_Pin\": 350, \"Pin_Distance\": 484, \"Club\": \"7 Iron\"}</td></tr><tr><td>{\"Record\": \"3c43de60-a28e-4f0c-a7a9-ebd0918cfacd\", \"Hole\": \"10\", \"Golfer\": \"Bob\", \"Stroke\": 3, \"Par\": 5, \"Yards_To_Pin\": 448, \"Pin_Distance\": 484, \"Club\": \"52 Degree Wedge\"}</td></tr><tr><td>{\"Record\": \"c22d4d3f-ec7e-4a14-b0c7-8a1b9425500f\", \"Hole\": \"10\", \"Golfer\": \"Bob\", \"Stroke\": 4, \"Par\": 5, \"Yards_To_Pin\": 484, \"Pin_Distance\": 484, \"Club\": \"54 Degree Wedge\"}</td></tr><tr><td>{\"Record\": \"31d1f0c8-fa07-40ef-b5f3-73269a2dcb77\", \"Hole\": \"11\", \"Golfer\": \"Bob\", \"Stroke\": 1, \"Par\": 5, \"Yards_To_Pin\": 233, \"Pin_Distance\": 460, \"Club\": \"Driver\"}</td></tr><tr><td>{\"Record\": \"c539c840-938e-4ea0-bf84-db93656af7bb\", \"Hole\": \"11\", \"Golfer\": \"Bob\", \"Stroke\": 2, \"Par\": 5, \"Yards_To_Pin\": 340, \"Pin_Distance\": 460, \"Club\": \"6 Iron\"}</td></tr><tr><td>{\"Record\": \"90e380fd-bb77-41b8-83ac-6afc2795c4cc\", \"Hole\": \"11\", \"Golfer\": \"Bob\", \"Stroke\": 3, \"Par\": 5, \"Yards_To_Pin\": 410, \"Pin_Distance\": 460, \"Club\": \"52 Degree Wedge\"}</td></tr><tr><td>{\"Record\": \"f120cd91-a91c-4604-b846-6abc962a52b3\", \"Hole\": \"11\", \"Golfer\": \"Bob\", \"Stroke\": 4, \"Par\": 5, \"Yards_To_Pin\": 454, \"Pin_Distance\": 460, \"Club\": \"54 Degree Wedge\"}</td></tr><tr><td>{\"Record\": \"1de27035-d9f0-4e09-bad6-90bb79d24d2f\", \"Hole\": \"11\", \"Golfer\": \"Bob\", \"Stroke\": 5, \"Par\": 5, \"Yards_To_Pin\": 460, \"Pin_Distance\": 460, \"Club\": \"56 Degree Wedge\"}</td></tr><tr><td>{\"Record\": \"aeeffe5d-199c-4047-a9c5-22637b133618\", \"Hole\": \"12\", \"Golfer\": \"Bob\", \"Stroke\": 1, \"Par\": 4, \"Yards_To_Pin\": 212, \"Pin_Distance\": 427, \"Club\": \"3 Wood\"}</td></tr><tr><td>{\"Record\": \"a2624b64-9288-4f36-bead-15a33ba999ac\", \"Hole\": \"12\", \"Golfer\": \"Bob\", \"Stroke\": 2, \"Par\": 4, \"Yards_To_Pin\": 316, \"Pin_Distance\": 427, \"Club\": \"9 Iron\"}</td></tr><tr><td>{\"Record\": \"72c9f8f3-cb02-4fdc-832d-1def601b1434\", \"Hole\": \"12\", \"Golfer\": \"Bob\", \"Stroke\": 3, \"Par\": 4, \"Yards_To_Pin\": 351, \"Pin_Distance\": 427, \"Club\": \"54 Degree Wedge\"}</td></tr><tr><td>{\"Record\": \"6ee05156-f8ed-48ca-8582-73278a98eec0\", \"Hole\": \"12\", \"Golfer\": \"Bob\", \"Stroke\": 4, \"Par\": 4, \"Yards_To_Pin\": 399, \"Pin_Distance\": 427, \"Club\": \"52 Degree Wedge\"}</td></tr><tr><td>{\"Record\": \"b13d2b0b-d688-4ad9-b195-6aa018bee910\", \"Hole\": \"12\", \"Golfer\": \"Bob\", \"Stroke\": 5, \"Par\": 4, \"Yards_To_Pin\": 422, \"Pin_Distance\": 427, \"Club\": \"54 Degree Wedge\"}</td></tr><tr><td>{\"Record\": \"e1819f2b-c26d-4efe-84c1-e362b8c8d053\", \"Hole\": \"12\", \"Golfer\": \"Bob\", \"Stroke\": 6, \"Par\": 4, \"Yards_To_Pin\": 427, \"Pin_Distance\": 427, \"Club\": \"Putter\"}</td></tr><tr><td>{\"Record\": \"814f6af6-b86f-48d6-b9f2-ebfb5610db1c\", \"Hole\": \"13\", \"Golfer\": \"Bob\", \"Stroke\": 1, \"Par\": 5, \"Yards_To_Pin\": 257, \"Pin_Distance\": 479, \"Club\": \"3 Wood\"}</td></tr><tr><td>{\"Record\": \"708e5283-7d88-4c45-915b-6a31badc89b8\", \"Hole\": \"13\", \"Golfer\": \"Bob\", \"Stroke\": 2, \"Par\": 5, \"Yards_To_Pin\": 377, \"Pin_Distance\": 479, \"Club\": \"9 Iron\"}</td></tr><tr><td>{\"Record\": \"c1306d6f-60b5-4148-926c-42abc33e8cfd\", \"Hole\": \"13\", \"Golfer\": \"Bob\", \"Stroke\": 3, \"Par\": 5, \"Yards_To_Pin\": 460, \"Pin_Distance\": 479, \"Club\": \"56 Degree Wedge\"}</td></tr><tr><td>{\"Record\": \"a2b1dc60-1474-4a9e-b2a7-e850820e1483\", \"Hole\": \"13\", \"Golfer\": \"Bob\", \"Stroke\": 4, \"Par\": 5, \"Yards_To_Pin\": 479, \"Pin_Distance\": 479, \"Club\": \"52 Degree Wedge\"}</td></tr><tr><td>{\"Record\": \"25f85a70-c24a-4d71-afc5-64d14fbfa21f\", \"Hole\": \"14\", \"Golfer\": \"Bob\", \"Stroke\": 1, \"Par\": 5, \"Yards_To_Pin\": 261, \"Pin_Distance\": 492, \"Club\": \"Driver\"}</td></tr><tr><td>{\"Record\": \"71a2598c-d339-47cd-813c-28ecb3f8dfff\", \"Hole\": \"14\", \"Golfer\": \"Bob\", \"Stroke\": 2, \"Par\": 5, \"Yards_To_Pin\": 371, \"Pin_Distance\": 492, \"Club\": \"6 Iron\"}</td></tr><tr><td>{\"Record\": \"2d06d4b4-7c34-45f9-ae7e-c22d6d163363\", \"Hole\": \"14\", \"Golfer\": \"Bob\", \"Stroke\": 3, \"Par\": 5, \"Yards_To_Pin\": 444, \"Pin_Distance\": 492, \"Club\": \"52 Degree Wedge\"}</td></tr><tr><td>{\"Record\": \"bb827b5d-3a3c-4181-a9cd-e2c3b57ef899\", \"Hole\": \"14\", \"Golfer\": \"Bob\", \"Stroke\": 4, \"Par\": 5, \"Yards_To_Pin\": 492, \"Pin_Distance\": 492, \"Club\": \"52 Degree Wedge\"}</td></tr><tr><td>{\"Record\": \"08467b78-3868-45ae-a6d4-112fb99629ba\", \"Hole\": \"15\", \"Golfer\": \"Bob\", \"Stroke\": 1, \"Par\": 4, \"Yards_To_Pin\": 203, \"Pin_Distance\": 450, \"Club\": \"3 Wood\"}</td></tr><tr><td>{\"Record\": \"8d3392d0-85c8-40a1-969d-0fb1e8e95771\", \"Hole\": \"15\", \"Golfer\": \"Bob\", \"Stroke\": 2, \"Par\": 4, \"Yards_To_Pin\": 318, \"Pin_Distance\": 450, \"Club\": \"7 Iron\"}</td></tr><tr><td>{\"Record\": \"000c9fdc-e728-4039-817e-e79373f83202\", \"Hole\": \"15\", \"Golfer\": \"Bob\", \"Stroke\": 3, \"Par\": 4, \"Yards_To_Pin\": 368, \"Pin_Distance\": 450, \"Club\": \"56 Degree Wedge\"}</td></tr><tr><td>{\"Record\": \"80d28688-0337-4aba-be45-ff280b71bc00\", \"Hole\": \"15\", \"Golfer\": \"Bob\", \"Stroke\": 4, \"Par\": 4, \"Yards_To_Pin\": 415, \"Pin_Distance\": 450, \"Club\": \"52 Degree Wedge\"}</td></tr><tr><td>{\"Record\": \"2daea1ab-31cf-492c-aac3-a69ffe8f6e38\", \"Hole\": \"15\", \"Golfer\": \"Bob\", \"Stroke\": 5, \"Par\": 4, \"Yards_To_Pin\": 440, \"Pin_Distance\": 450, \"Club\": \"54 Degree Wedge\"}</td></tr><tr><td>{\"Record\": \"19d8c18b-596e-450d-9c7f-bd870094ad78\", \"Hole\": \"15\", \"Golfer\": \"Bob\", \"Stroke\": 6, \"Par\": 4, \"Yards_To_Pin\": 450, \"Pin_Distance\": 450, \"Club\": \"Putter\"}</td></tr><tr><td>{\"Record\": \"d4c11fbf-2a40-4441-a934-a918eabb470d\", \"Hole\": \"16\", \"Golfer\": \"Bob\", \"Stroke\": 1, \"Par\": 4, \"Yards_To_Pin\": 220, \"Pin_Distance\": 414, \"Club\": \"Driver\"}</td></tr><tr><td>{\"Record\": \"e9df99de-be53-4232-9c82-c5108ce25900\", \"Hole\": \"16\", \"Golfer\": \"Bob\", \"Stroke\": 2, \"Par\": 4, \"Yards_To_Pin\": 336, \"Pin_Distance\": 414, \"Club\": \"8 Iron\"}</td></tr><tr><td>{\"Record\": \"1ee40783-7c7c-48e6-bd1a-e312a01dd449\", \"Hole\": \"16\", \"Golfer\": \"Bob\", \"Stroke\": 3, \"Par\": 4, \"Yards_To_Pin\": 377, \"Pin_Distance\": 414, \"Club\": \"56 Degree Wedge\"}</td></tr><tr><td>{\"Record\": \"21584f56-6ddb-4446-bf79-ca5a287a0678\", \"Hole\": \"16\", \"Golfer\": \"Bob\", \"Stroke\": 4, \"Par\": 4, \"Yards_To_Pin\": 414, \"Pin_Distance\": 414, \"Club\": \"54 Degree Wedge\"}</td></tr><tr><td>{\"Record\": \"85dfe6ff-0eac-4847-b9df-5efbb4c1b896\", \"Hole\": \"17\", \"Golfer\": \"Bob\", \"Stroke\": 1, \"Par\": 4, \"Yards_To_Pin\": 204, \"Pin_Distance\": 400, \"Club\": \"Driver\"}</td></tr><tr><td>{\"Record\": \"aa133f7a-741f-4dd0-9b57-c1c6b38cb1b0\", \"Hole\": \"17\", \"Golfer\": \"Bob\", \"Stroke\": 2, \"Par\": 4, \"Yards_To_Pin\": 312, \"Pin_Distance\": 400, \"Club\": \"9 Iron\"}</td></tr><tr><td>{\"Record\": \"08d8b419-458e-4969-a2e7-c6bfb1b08cd9\", \"Hole\": \"17\", \"Golfer\": \"Bob\", \"Stroke\": 3, \"Par\": 4, \"Yards_To_Pin\": 354, \"Pin_Distance\": 400, \"Club\": \"52 Degree Wedge\"}</td></tr><tr><td>{\"Record\": \"fd236c1f-786e-4e9c-8c77-c383225e8955\", \"Hole\": \"17\", \"Golfer\": \"Bob\", \"Stroke\": 4, \"Par\": 4, \"Yards_To_Pin\": 398, \"Pin_Distance\": 400, \"Club\": \"52 Degree Wedge\"}</td></tr><tr><td>{\"Record\": \"7f73478e-da93-41f9-a23c-a2df14188f9b\", \"Hole\": \"17\", \"Golfer\": \"Bob\", \"Stroke\": 5, \"Par\": 4, \"Yards_To_Pin\": 400, \"Pin_Distance\": 400, \"Club\": \"56 Degree Wedge\"}</td></tr><tr><td>{\"Record\": \"49d1d600-62c5-48b3-b402-e5d431b067ee\", \"Hole\": \"18\", \"Golfer\": \"Bob\", \"Stroke\": 1, \"Par\": 5, \"Yards_To_Pin\": 231, \"Pin_Distance\": 483, \"Club\": \"Driver\"}</td></tr><tr><td>{\"Record\": \"5ef9c0a8-e4bd-40d8-aa56-2cea3744feba\", \"Hole\": \"18\", \"Golfer\": \"Bob\", \"Stroke\": 2, \"Par\": 5, \"Yards_To_Pin\": 339, \"Pin_Distance\": 483, \"Club\": \"7 Iron\"}</td></tr><tr><td>{\"Record\": \"158fe8af-6a01-4ac8-a291-6d021c9e64e3\", \"Hole\": \"18\", \"Golfer\": \"Bob\", \"Stroke\": 3, \"Par\": 5, \"Yards_To_Pin\": 409, \"Pin_Distance\": 483, \"Club\": \"52 Degree Wedge\"}</td></tr><tr><td>{\"Record\": \"dfe6649f-2678-427e-ac8c-cca8d45980a0\", \"Hole\": \"18\", \"Golfer\": \"Bob\", \"Stroke\": 4, \"Par\": 5, \"Yards_To_Pin\": 449, \"Pin_Distance\": 483, \"Club\": \"54 Degree Wedge\"}</td></tr><tr><td>{\"Record\": \"ff4b17b9-ce21-41b7-8400-ddfc8422cecb\", \"Hole\": \"18\", \"Golfer\": \"Bob\", \"Stroke\": 5, \"Par\": 5, \"Yards_To_Pin\": 472, \"Pin_Distance\": 483, \"Club\": \"56 Degree Wedge\"}</td></tr><tr><td>{\"Record\": \"1a04cb8d-dc7a-4cf8-be5f-0c7a8a8e8a37\", \"Hole\": \"18\", \"Golfer\": \"Bob\", \"Stroke\": 6, \"Par\": 5, \"Yards_To_Pin\": 483, \"Pin_Distance\": 483, \"Club\": \"Putter\"}</td></tr><tr><td>{\"Record\": \"b7880b02-976a-4837-9f6f-20b0e8acd7e2\", \"Hole\": \"1\", \"Golfer\": \"Bob\", \"Stroke\": 1, \"Par\": 5, \"Yards_To_Pin\": 203, \"Pin_Distance\": 475, \"Club\": \"3 Wood\"}</td></tr><tr><td>{\"Record\": \"7e5816c2-ee05-452c-8a80-e0051d136a15\", \"Hole\": \"1\", \"Golfer\": \"Bob\", \"Stroke\": 2, \"Par\": 5, \"Yards_To_Pin\": 308, \"Pin_Distance\": 475, \"Club\": \"8 Iron\"}</td></tr><tr><td>{\"Record\": \"6ea0c825-7ef5-4f3e-b655-4ed00ffad722\", \"Hole\": \"1\", \"Golfer\": \"Bob\", \"Stroke\": 3, \"Par\": 5, \"Yards_To_Pin\": 388, \"Pin_Distance\": 475, \"Club\": \"56 Degree Wedge\"}</td></tr><tr><td>{\"Record\": \"04b7316a-9bd3-4d40-b1cb-c9b11a24b802\", \"Hole\": \"1\", \"Golfer\": \"Bob\", \"Stroke\": 4, \"Par\": 5, \"Yards_To_Pin\": 437, \"Pin_Distance\": 475, \"Club\": \"54 Degree Wedge\"}</td></tr><tr><td>{\"Record\": \"5d18d6e8-73dd-44a5-aaf0-752cd4db120a\", \"Hole\": \"1\", \"Golfer\": \"Bob\", \"Stroke\": 5, \"Par\": 5, \"Yards_To_Pin\": 459, \"Pin_Distance\": 475, \"Club\": \"54 Degree Wedge\"}</td></tr><tr><td>{\"Record\": \"9d0bd9c4-b4fa-4720-925a-274e282ef1bc\", \"Hole\": \"1\", \"Golfer\": \"Bob\", \"Stroke\": 6, \"Par\": 5, \"Yards_To_Pin\": 475, \"Pin_Distance\": 475, \"Club\": \"Putter\"}</td></tr><tr><td>{\"Record\": \"953d0db9-0cae-4fae-a6cb-37a61b7b4154\", \"Hole\": \"2\", \"Golfer\": \"Bob\", \"Stroke\": 1, \"Par\": 5, \"Yards_To_Pin\": 205, \"Pin_Distance\": 453, \"Club\": \"3 Wood\"}</td></tr><tr><td>{\"Record\": \"3cfc6ff4-d432-4cb9-acb5-d3e0a737ef58\", \"Hole\": \"2\", \"Golfer\": \"Bob\", \"Stroke\": 2, \"Par\": 5, \"Yards_To_Pin\": 324, \"Pin_Distance\": 453, \"Club\": \"6 Iron\"}</td></tr><tr><td>{\"Record\": \"c910a22d-2d43-4faf-98fa-707aa2cc5fdf\", \"Hole\": \"2\", \"Golfer\": \"Bob\", \"Stroke\": 3, \"Par\": 5, \"Yards_To_Pin\": 386, \"Pin_Distance\": 453, \"Club\": \"56 Degree Wedge\"}</td></tr><tr><td>{\"Record\": \"7c4b9134-e4a0-4a36-8bb1-d4323df45e02\", \"Hole\": \"2\", \"Golfer\": \"Bob\", \"Stroke\": 4, \"Par\": 5, \"Yards_To_Pin\": 432, \"Pin_Distance\": 453, \"Club\": \"54 Degree Wedge\"}</td></tr><tr><td>{\"Record\": \"6fd6f675-117c-493c-b477-4abc0fdb7b62\", \"Hole\": \"2\", \"Golfer\": \"Bob\", \"Stroke\": 5, \"Par\": 5, \"Yards_To_Pin\": 453, \"Pin_Distance\": 453, \"Club\": \"56 Degree Wedge\"}</td></tr><tr><td>{\"Record\": \"41277e26-7c72-44f2-8b7b-11d25953557c\", \"Hole\": \"3\", \"Golfer\": \"Bob\", \"Stroke\": 1, \"Par\": 4, \"Yards_To_Pin\": 217, \"Pin_Distance\": 419, \"Club\": \"3 Wood\"}</td></tr><tr><td>{\"Record\": \"3340ef6f-1323-49b6-9f94-b3663f03a24d\", \"Hole\": \"3\", \"Golfer\": \"Bob\", \"Stroke\": 2, \"Par\": 4, \"Yards_To_Pin\": 326, \"Pin_Distance\": 419, \"Club\": \"7 Iron\"}</td></tr><tr><td>{\"Record\": \"1f958b6f-cc5f-4a0b-858b-f4875d3dfbcf\", \"Hole\": \"3\", \"Golfer\": \"Bob\", \"Stroke\": 3, \"Par\": 4, \"Yards_To_Pin\": 378, \"Pin_Distance\": 419, \"Club\": \"54 Degree Wedge\"}</td></tr><tr><td>{\"Record\": \"1c867f3f-01bf-4738-920d-ff29715b1aa6\", \"Hole\": \"3\", \"Golfer\": \"Bob\", \"Stroke\": 4, \"Par\": 4, \"Yards_To_Pin\": 419, \"Pin_Distance\": 419, \"Club\": \"54 Degree Wedge\"}</td></tr><tr><td>{\"Record\": \"ddfd1237-d514-4862-b680-39959bbd9302\", \"Hole\": \"4\", \"Golfer\": \"Bob\", \"Stroke\": 1, \"Par\": 5, \"Yards_To_Pin\": 242, \"Pin_Distance\": 459, \"Club\": \"3 Wood\"}</td></tr><tr><td>{\"Record\": \"be10eb6a-837f-4b24-8cd0-0aae030331a6\", \"Hole\": \"4\", \"Golfer\": \"Bob\", \"Stroke\": 2, \"Par\": 5, \"Yards_To_Pin\": 355, \"Pin_Distance\": 459, \"Club\": \"9 Iron\"}</td></tr><tr><td>{\"Record\": \"ae3d9ab2-7d87-424b-ae8f-d0aeda1f4639\", \"Hole\": \"4\", \"Golfer\": \"Bob\", \"Stroke\": 3, \"Par\": 5, \"Yards_To_Pin\": 397, \"Pin_Distance\": 459, \"Club\": \"52 Degree Wedge\"}</td></tr><tr><td>{\"Record\": \"49d4ad8b-43c1-4a4c-bf2d-960aac8f2b39\", \"Hole\": \"4\", \"Golfer\": \"Bob\", \"Stroke\": 4, \"Par\": 5, \"Yards_To_Pin\": 435, \"Pin_Distance\": 459, \"Club\": \"54 Degree Wedge\"}</td></tr><tr><td>{\"Record\": \"0cc6db7f-28f8-482c-b5e7-c72bba1228c2\", \"Hole\": \"4\", \"Golfer\": \"Bob\", \"Stroke\": 5, \"Par\": 5, \"Yards_To_Pin\": 459, \"Pin_Distance\": 459, \"Club\": \"56 Degree Wedge\"}</td></tr><tr><td>{\"Record\": \"185c3fc0-1a23-4765-babd-c0efb7a8c620\", \"Hole\": \"5\", \"Golfer\": \"Bob\", \"Stroke\": 1, \"Par\": 5, \"Yards_To_Pin\": 214, \"Pin_Distance\": 452, \"Club\": \"Driver\"}</td></tr><tr><td>{\"Record\": \"36414ab8-caab-4f01-9937-388a690366fc\", \"Hole\": \"5\", \"Golfer\": \"Bob\", \"Stroke\": 2, \"Par\": 5, \"Yards_To_Pin\": 328, \"Pin_Distance\": 452, \"Club\": \"9 Iron\"}</td></tr><tr><td>{\"Record\": \"7c037594-ae6e-41f0-af02-325d1ca23e1c\", \"Hole\": \"5\", \"Golfer\": \"Bob\", \"Stroke\": 3, \"Par\": 5, \"Yards_To_Pin\": 395, \"Pin_Distance\": 452, \"Club\": \"54 Degree Wedge\"}</td></tr><tr><td>{\"Record\": \"bd8a7e74-bc95-4be3-95d1-c7df1c0b08bf\", \"Hole\": \"5\", \"Golfer\": \"Bob\", \"Stroke\": 4, \"Par\": 5, \"Yards_To_Pin\": 438, \"Pin_Distance\": 452, \"Club\": \"54 Degree Wedge\"}</td></tr><tr><td>{\"Record\": \"3a6fcd42-b6cd-4bab-9244-463512798dc4\", \"Hole\": \"5\", \"Golfer\": \"Bob\", \"Stroke\": 5, \"Par\": 5, \"Yards_To_Pin\": 452, \"Pin_Distance\": 452, \"Club\": \"54 Degree Wedge\"}</td></tr><tr><td>{\"Record\": \"becc32d4-142c-4fe2-a3fa-28d13b811827\", \"Hole\": \"6\", \"Golfer\": \"Bob\", \"Stroke\": 1, \"Par\": 3, \"Yards_To_Pin\": 97, \"Pin_Distance\": 199, \"Club\": \"8 Iron\"}</td></tr><tr><td>{\"Record\": \"80523017-1d15-488c-bee4-e027f854bb1b\", \"Hole\": \"6\", \"Golfer\": \"Bob\", \"Stroke\": 2, \"Par\": 3, \"Yards_To_Pin\": 121, \"Pin_Distance\": 199, \"Club\": \"54 Degree Wedge\"}</td></tr><tr><td>{\"Record\": \"3f346751-cec4-4445-86e1-7a4de6999166\", \"Hole\": \"6\", \"Golfer\": \"Bob\", \"Stroke\": 3, \"Par\": 3, \"Yards_To_Pin\": 148, \"Pin_Distance\": 199, \"Club\": \"Putter\"}</td></tr><tr><td>{\"Record\": \"e7128067-81b8-4d60-adf6-6512d8f35224\", \"Hole\": \"6\", \"Golfer\": \"Bob\", \"Stroke\": 4, \"Par\": 3, \"Yards_To_Pin\": 194, \"Pin_Distance\": 199, \"Club\": \"Putter\"}</td></tr><tr><td>{\"Record\": \"e6eded55-7b17-4d6c-95cc-11905080ad88\", \"Hole\": \"6\", \"Golfer\": \"Bob\", \"Stroke\": 5, \"Par\": 3, \"Yards_To_Pin\": 199, \"Pin_Distance\": 199, \"Club\": \"Putter\"}</td></tr><tr><td>{\"Record\": \"0b45945c-7793-4ff6-bb20-c18efa22f3a9\", \"Hole\": \"7\", \"Golfer\": \"Bob\", \"Stroke\": 1, \"Par\": 4, \"Yards_To_Pin\": 208, \"Pin_Distance\": 390, \"Club\": \"3 Wood\"}</td></tr><tr><td>{\"Record\": \"b1761419-5193-48f7-a084-549447d3e1ee\", \"Hole\": \"7\", \"Golfer\": \"Bob\", \"Stroke\": 2, \"Par\": 4, \"Yards_To_Pin\": 311, \"Pin_Distance\": 390, \"Club\": \"8 Iron\"}</td></tr><tr><td>{\"Record\": \"e1ce50b4-da61-4375-a8a1-51e4dd128c4a\", \"Hole\": \"7\", \"Golfer\": \"Bob\", \"Stroke\": 3, \"Par\": 4, \"Yards_To_Pin\": 373, \"Pin_Distance\": 390, \"Club\": \"56 Degree Wedge\"}</td></tr><tr><td>{\"Record\": \"f7936abc-d4f3-4a56-b7ea-82dd5d70ea4a\", \"Hole\": \"7\", \"Golfer\": \"Bob\", \"Stroke\": 4, \"Par\": 4, \"Yards_To_Pin\": 390, \"Pin_Distance\": 390, \"Club\": \"54 Degree Wedge\"}</td></tr><tr><td>{\"Record\": \"35e73804-36f0-423b-8b1f-909cfc792355\", \"Hole\": \"8\", \"Golfer\": \"Bob\", \"Stroke\": 1, \"Par\": 3, \"Yards_To_Pin\": 100, \"Pin_Distance\": 174, \"Club\": \"6 Iron\"}</td></tr><tr><td>{\"Record\": \"7f2710ad-6d89-4244-b0b6-2e1a598220d6\", \"Hole\": \"8\", \"Golfer\": \"Bob\", \"Stroke\": 2, \"Par\": 3, \"Yards_To_Pin\": 127, \"Pin_Distance\": 174, \"Club\": \"52 Degree Wedge\"}</td></tr><tr><td>{\"Record\": \"2224cd48-4f8b-4544-844d-e4df86a81bd2\", \"Hole\": \"8\", \"Golfer\": \"Bob\", \"Stroke\": 3, \"Par\": 3, \"Yards_To_Pin\": 152, \"Pin_Distance\": 174, \"Club\": \"Putter\"}</td></tr><tr><td>{\"Record\": \"dd9482cc-ea44-44f1-92a8-e0186752619e\", \"Hole\": \"8\", \"Golfer\": \"Bob\", \"Stroke\": 4, \"Par\": 3, \"Yards_To_Pin\": 174, \"Pin_Distance\": 174, \"Club\": \"Putter\"}</td></tr><tr><td>{\"Record\": \"4a6b7301-d0b8-4db4-ab2d-b37c467fdde8\", \"Hole\": \"9\", \"Golfer\": \"Bob\", \"Stroke\": 1, \"Par\": 3, \"Yards_To_Pin\": 128, \"Pin_Distance\": 166, \"Club\": \"9 Iron\"}</td></tr><tr><td>{\"Record\": \"ea132dac-7024-42ec-8794-1e91ea4d99ba\", \"Hole\": \"9\", \"Golfer\": \"Bob\", \"Stroke\": 2, \"Par\": 3, \"Yards_To_Pin\": 153, \"Pin_Distance\": 166, \"Club\": \"54 Degree Wedge\"}</td></tr><tr><td>{\"Record\": \"3906b468-06ca-44dc-8431-05be98b79371\", \"Hole\": \"9\", \"Golfer\": \"Bob\", \"Stroke\": 3, \"Par\": 3, \"Yards_To_Pin\": 163, \"Pin_Distance\": 166, \"Club\": \"Putter\"}</td></tr><tr><td>{\"Record\": \"af75ba08-9d91-4969-8344-f7841afc78c2\", \"Hole\": \"9\", \"Golfer\": \"Bob\", \"Stroke\": 4, \"Par\": 3, \"Yards_To_Pin\": 166, \"Pin_Distance\": 166, \"Club\": \"Putter\"}</td></tr><tr><td>{\"Record\": \"b3ce123c-ca61-476d-9d19-99c07f5f36cd\", \"Hole\": \"10\", \"Golfer\": \"Bob\", \"Stroke\": 1, \"Par\": 5, \"Yards_To_Pin\": 250, \"Pin_Distance\": 455, \"Club\": \"Driver\"}</td></tr><tr><td>{\"Record\": \"95ca870d-fefc-4ac7-b630-637f68ce089b\", \"Hole\": \"10\", \"Golfer\": \"Bob\", \"Stroke\": 2, \"Par\": 5, \"Yards_To_Pin\": 361, \"Pin_Distance\": 455, \"Club\": \"9 Iron\"}</td></tr><tr><td>{\"Record\": \"e0e5f8fc-e2ff-4448-9aeb-6813be3e88e6\", \"Hole\": \"10\", \"Golfer\": \"Bob\", \"Stroke\": 3, \"Par\": 5, \"Yards_To_Pin\": 415, \"Pin_Distance\": 455, \"Club\": \"52 Degree Wedge\"}</td></tr><tr><td>{\"Record\": \"d1196e7b-b2c0-413a-b4b7-48ddbc07f9a1\", \"Hole\": \"10\", \"Golfer\": \"Bob\", \"Stroke\": 4, \"Par\": 5, \"Yards_To_Pin\": 451, \"Pin_Distance\": 455, \"Club\": \"52 Degree Wedge\"}</td></tr><tr><td>{\"Record\": \"3b58cc32-cd8f-4261-b0fd-2f5f1c181b1c\", \"Hole\": \"10\", \"Golfer\": \"Bob\", \"Stroke\": 5, \"Par\": 5, \"Yards_To_Pin\": 455, \"Pin_Distance\": 455, \"Club\": \"56 Degree Wedge\"}</td></tr><tr><td>{\"Record\": \"27adb044-7ece-4d49-b70d-7d6d1218309f\", \"Hole\": \"11\", \"Golfer\": \"Bob\", \"Stroke\": 1, \"Par\": 4, \"Yards_To_Pin\": 254, \"Pin_Distance\": 407, \"Club\": \"Driver\"}</td></tr><tr><td>{\"Record\": \"737a1daf-345c-4804-97af-6a17feb964a9\", \"Hole\": \"11\", \"Golfer\": \"Bob\", \"Stroke\": 2, \"Par\": 4, \"Yards_To_Pin\": 368, \"Pin_Distance\": 407, \"Club\": \"6 Iron\"}</td></tr><tr><td>{\"Record\": \"2cb08f97-f621-41d3-be9b-8b74ae15dd3a\", \"Hole\": \"11\", \"Golfer\": \"Bob\", \"Stroke\": 3, \"Par\": 4, \"Yards_To_Pin\": 407, \"Pin_Distance\": 407, \"Club\": \"54 Degree Wedge\"}</td></tr><tr><td>{\"Record\": \"ef97d8ea-b2ec-4123-bb58-86c9b80ca128\", \"Hole\": \"12\", \"Golfer\": \"Bob\", \"Stroke\": 1, \"Par\": 5, \"Yards_To_Pin\": 200, \"Pin_Distance\": 474, \"Club\": \"Driver\"}</td></tr><tr><td>{\"Record\": \"a011e759-c07b-4faf-ad58-f2752196963a\", \"Hole\": \"12\", \"Golfer\": \"Bob\", \"Stroke\": 2, \"Par\": 5, \"Yards_To_Pin\": 308, \"Pin_Distance\": 474, \"Club\": \"8 Iron\"}</td></tr><tr><td>{\"Record\": \"c1bd3e37-ad8c-4dfa-ab1d-14b303bf6a0d\", \"Hole\": \"12\", \"Golfer\": \"Bob\", \"Stroke\": 3, \"Par\": 5, \"Yards_To_Pin\": 398, \"Pin_Distance\": 474, \"Club\": \"54 Degree Wedge\"}</td></tr><tr><td>{\"Record\": \"77a6eff6-65f0-4424-a181-f9100ada5a32\", \"Hole\": \"12\", \"Golfer\": \"Bob\", \"Stroke\": 4, \"Par\": 5, \"Yards_To_Pin\": 446, \"Pin_Distance\": 474, \"Club\": \"54 Degree Wedge\"}</td></tr><tr><td>{\"Record\": \"46603cb7-871a-4d7c-9906-07af3fd789a7\", \"Hole\": \"12\", \"Golfer\": \"Bob\", \"Stroke\": 5, \"Par\": 5, \"Yards_To_Pin\": 468, \"Pin_Distance\": 474, \"Club\": \"54 Degree Wedge\"}</td></tr><tr><td>{\"Record\": \"b139a736-8c61-42ab-8d02-6f741f1d8b8e\", \"Hole\": \"12\", \"Golfer\": \"Bob\", \"Stroke\": 6, \"Par\": 5, \"Yards_To_Pin\": 474, \"Pin_Distance\": 474, \"Club\": \"Putter\"}</td></tr><tr><td>{\"Record\": \"12220731-d834-4b3d-a8c3-53b98933465a\", \"Hole\": \"13\", \"Golfer\": \"Bob\", \"Stroke\": 1, \"Par\": 4, \"Yards_To_Pin\": 218, \"Pin_Distance\": 443, \"Club\": \"Driver\"}</td></tr><tr><td>{\"Record\": \"669f6569-22b6-46e3-b15e-ba18d7b822ae\", \"Hole\": \"13\", \"Golfer\": \"Bob\", \"Stroke\": 2, \"Par\": 4, \"Yards_To_Pin\": 336, \"Pin_Distance\": 443, \"Club\": \"6 Iron\"}</td></tr><tr><td>{\"Record\": \"ed3d87f3-4b28-44d7-9613-5b118424e1e0\", \"Hole\": \"13\", \"Golfer\": \"Bob\", \"Stroke\": 3, \"Par\": 4, \"Yards_To_Pin\": 421, \"Pin_Distance\": 443, \"Club\": \"54 Degree Wedge\"}</td></tr><tr><td>{\"Record\": \"a59d4b37-61fd-4a46-8c56-ad19c11c751f\", \"Hole\": \"13\", \"Golfer\": \"Bob\", \"Stroke\": 4, \"Par\": 4, \"Yards_To_Pin\": 443, \"Pin_Distance\": 443, \"Club\": \"54 Degree Wedge\"}</td></tr><tr><td>{\"Record\": \"f1ca0237-7c42-41aa-ad00-7098de30d53f\", \"Hole\": \"14\", \"Golfer\": \"Bob\", \"Stroke\": 1, \"Par\": 3, \"Yards_To_Pin\": 80, \"Pin_Distance\": 191, \"Club\": \"7 Iron\"}</td></tr><tr><td>{\"Record\": \"feb8ea6a-6636-4066-8f79-4b011b5b79da\", \"Hole\": \"14\", \"Golfer\": \"Bob\", \"Stroke\": 2, \"Par\": 3, \"Yards_To_Pin\": 103, \"Pin_Distance\": 191, \"Club\": \"52 Degree Wedge\"}</td></tr><tr><td>{\"Record\": \"9f2670bf-f89d-4203-96fb-6479a60eba62\", \"Hole\": \"14\", \"Golfer\": \"Bob\", \"Stroke\": 3, \"Par\": 3, \"Yards_To_Pin\": 122, \"Pin_Distance\": 191, \"Club\": \"Putter\"}</td></tr><tr><td>{\"Record\": \"22104b26-c74b-4ca5-935a-bea82abc9ca7\", \"Hole\": \"14\", \"Golfer\": \"Bob\", \"Stroke\": 4, \"Par\": 3, \"Yards_To_Pin\": 168, \"Pin_Distance\": 191, \"Club\": \"Putter\"}</td></tr><tr><td>{\"Record\": \"cdae176e-2bca-4699-a3bf-748eea4051b2\", \"Hole\": \"14\", \"Golfer\": \"Bob\", \"Stroke\": 5, \"Par\": 3, \"Yards_To_Pin\": 191, \"Pin_Distance\": 191, \"Club\": \"Putter\"}</td></tr><tr><td>{\"Record\": \"29ba8fc5-306e-47fd-bced-285c8aefae14\", \"Hole\": \"15\", \"Golfer\": \"Bob\", \"Stroke\": 1, \"Par\": 3, \"Yards_To_Pin\": 122, \"Pin_Distance\": 162, \"Club\": \"9 Iron\"}</td></tr><tr><td>{\"Record\": \"e6c2d0f4-ee22-4cf8-a8f4-61161afb6f2c\", \"Hole\": \"15\", \"Golfer\": \"Bob\", \"Stroke\": 2, \"Par\": 3, \"Yards_To_Pin\": 144, \"Pin_Distance\": 162, \"Club\": \"54 Degree Wedge\"}</td></tr><tr><td>{\"Record\": \"077fcf86-7aa9-49ab-939f-777a2fff380d\", \"Hole\": \"15\", \"Golfer\": \"Bob\", \"Stroke\": 3, \"Par\": 3, \"Yards_To_Pin\": 162, \"Pin_Distance\": 162, \"Club\": \"Putter\"}</td></tr><tr><td>{\"Record\": \"af95f067-8579-43d7-a0ce-cf73e640801e\", \"Hole\": \"16\", \"Golfer\": \"Bob\", \"Stroke\": 1, \"Par\": 3, \"Yards_To_Pin\": 103, \"Pin_Distance\": 175, \"Club\": \"8 Iron\"}</td></tr><tr><td>{\"Record\": \"908696a7-5b04-4ce9-b0d7-df1738e2ee00\", \"Hole\": \"16\", \"Golfer\": \"Bob\", \"Stroke\": 2, \"Par\": 3, \"Yards_To_Pin\": 129, \"Pin_Distance\": 175, \"Club\": \"52 Degree Wedge\"}</td></tr><tr><td>{\"Record\": \"698dde43-c6c9-416c-8ffb-a6cfed7d1bd0\", \"Hole\": \"16\", \"Golfer\": \"Bob\", \"Stroke\": 3, \"Par\": 3, \"Yards_To_Pin\": 142, \"Pin_Distance\": 175, \"Club\": \"Putter\"}</td></tr><tr><td>{\"Record\": \"91cedcf0-3cba-4403-8040-d49083fe8f47\", \"Hole\": \"16\", \"Golfer\": \"Bob\", \"Stroke\": 4, \"Par\": 3, \"Yards_To_Pin\": 175, \"Pin_Distance\": 175, \"Club\": \"Putter\"}</td></tr><tr><td>{\"Record\": \"417508b5-7775-4472-aa04-12d881d0cf6d\", \"Hole\": \"17\", \"Golfer\": \"Bob\", \"Stroke\": 1, \"Par\": 4, \"Yards_To_Pin\": 207, \"Pin_Distance\": 405, \"Club\": \"Driver\"}</td></tr><tr><td>{\"Record\": \"958d494d-a714-4a87-8498-ce28129a5597\", \"Hole\": \"17\", \"Golfer\": \"Bob\", \"Stroke\": 2, \"Par\": 4, \"Yards_To_Pin\": 321, \"Pin_Distance\": 405, \"Club\": \"9 Iron\"}</td></tr><tr><td>{\"Record\": \"da6e6f14-f74f-48c2-9bc3-673d9a371f32\", \"Hole\": \"17\", \"Golfer\": \"Bob\", \"Stroke\": 3, \"Par\": 4, \"Yards_To_Pin\": 392, \"Pin_Distance\": 405, \"Club\": \"52 Degree Wedge\"}</td></tr><tr><td>{\"Record\": \"92b4a923-0f07-4de7-8b3d-e8298ba1e4c6\", \"Hole\": \"17\", \"Golfer\": \"Bob\", \"Stroke\": 4, \"Par\": 4, \"Yards_To_Pin\": 405, \"Pin_Distance\": 405, \"Club\": \"54 Degree Wedge\"}</td></tr><tr><td>{\"Record\": \"5543732a-a3b5-42eb-9932-6ce629135e51\", \"Hole\": \"18\", \"Golfer\": \"Bob\", \"Stroke\": 1, \"Par\": 4, \"Yards_To_Pin\": 218, \"Pin_Distance\": 411, \"Club\": \"3 Wood\"}</td></tr><tr><td>{\"Record\": \"7bdff915-da23-45db-b602-ac709dd826cf\", \"Hole\": \"18\", \"Golfer\": \"Bob\", \"Stroke\": 2, \"Par\": 4, \"Yards_To_Pin\": 323, \"Pin_Distance\": 411, \"Club\": \"9 Iron\"}</td></tr><tr><td>{\"Record\": \"55cf99c4-8e94-43f1-b48d-4263e90490f3\", \"Hole\": \"18\", \"Golfer\": \"Bob\", \"Stroke\": 3, \"Par\": 4, \"Yards_To_Pin\": 403, \"Pin_Distance\": 411, \"Club\": \"52 Degree Wedge\"}</td></tr><tr><td>{\"Record\": \"95ad2057-818f-4b23-90b6-2e0daf614b0d\", \"Hole\": \"18\", \"Golfer\": \"Bob\", \"Stroke\": 4, \"Par\": 4, \"Yards_To_Pin\": 411, \"Pin_Distance\": 411, \"Club\": \"52 Degree Wedge\"}</td></tr><tr><td>{\"Record\": \"6a607be4-bf07-45ff-98f6-c4e838bae815\", \"Hole\": \"1\", \"Golfer\": \"Bob\", \"Stroke\": 1, \"Par\": 3, \"Yards_To_Pin\": 123, \"Pin_Distance\": 177, \"Club\": \"9 Iron\"}</td></tr><tr><td>{\"Record\": \"889e2813-8f0e-4003-b224-352347748191\", \"Hole\": \"1\", \"Golfer\": \"Bob\", \"Stroke\": 2, \"Par\": 3, \"Yards_To_Pin\": 151, \"Pin_Distance\": 177, \"Club\": \"52 Degree Wedge\"}</td></tr><tr><td>{\"Record\": \"eef50fef-a7a1-4e25-bdd8-5e21e6073cb0\", \"Hole\": \"1\", \"Golfer\": \"Bob\", \"Stroke\": 3, \"Par\": 3, \"Yards_To_Pin\": 177, \"Pin_Distance\": 177, \"Club\": \"Putter\"}</td></tr><tr><td>{\"Record\": \"125ebe86-dc3e-424e-8b0f-11f25a5fcaa8\", \"Hole\": \"2\", \"Golfer\": \"Bob\", \"Stroke\": 1, \"Par\": 3, \"Yards_To_Pin\": 98, \"Pin_Distance\": 167, \"Club\": \"6 Iron\"}</td></tr><tr><td>{\"Record\": \"e8e83971-089a-408c-a802-3154ef0f966c\", \"Hole\": \"2\", \"Golfer\": \"Bob\", \"Stroke\": 2, \"Par\": 3, \"Yards_To_Pin\": 125, \"Pin_Distance\": 167, \"Club\": \"54 Degree Wedge\"}</td></tr><tr><td>{\"Record\": \"6779df6f-4a82-4945-905d-34038628b052\", \"Hole\": \"2\", \"Golfer\": \"Bob\", \"Stroke\": 3, \"Par\": 3, \"Yards_To_Pin\": 135, \"Pin_Distance\": 167, \"Club\": \"Putter\"}</td></tr><tr><td>{\"Record\": \"1b32822f-4751-41e8-963a-258236bffd4b\", \"Hole\": \"2\", \"Golfer\": \"Bob\", \"Stroke\": 4, \"Par\": 3, \"Yards_To_Pin\": 167, \"Pin_Distance\": 167, \"Club\": \"Putter\"}</td></tr><tr><td>{\"Record\": \"738c051f-cd3a-4e55-a1e1-78896be3c06b\", \"Hole\": \"3\", \"Golfer\": \"Bob\", \"Stroke\": 1, \"Par\": 4, \"Yards_To_Pin\": 231, \"Pin_Distance\": 408, \"Club\": \"3 Wood\"}</td></tr><tr><td>{\"Record\": \"21f193db-441b-4615-a0a8-eb42ccf86847\", \"Hole\": \"3\", \"Golfer\": \"Bob\", \"Stroke\": 2, \"Par\": 4, \"Yards_To_Pin\": 349, \"Pin_Distance\": 408, \"Club\": \"8 Iron\"}</td></tr><tr><td>{\"Record\": \"3956673c-d364-4be6-8cbc-2ee8ef7bd361\", \"Hole\": \"3\", \"Golfer\": \"Bob\", \"Stroke\": 3, \"Par\": 4, \"Yards_To_Pin\": 387, \"Pin_Distance\": 408, \"Club\": \"52 Degree Wedge\"}</td></tr><tr><td>{\"Record\": \"651c54f0-4ca5-4e6d-a1d3-ea6ad6b939aa\", \"Hole\": \"3\", \"Golfer\": \"Bob\", \"Stroke\": 4, \"Par\": 4, \"Yards_To_Pin\": 408, \"Pin_Distance\": 408, \"Club\": \"52 Degree Wedge\"}</td></tr><tr><td>{\"Record\": \"bdb4b4b2-caab-46c0-8025-bb5c4c77f0d6\", \"Hole\": \"4\", \"Golfer\": \"Bob\", \"Stroke\": 1, \"Par\": 5, \"Yards_To_Pin\": 220, \"Pin_Distance\": 494, \"Club\": \"3 Wood\"}</td></tr><tr><td>{\"Record\": \"56ca98aa-cdad-4399-8dde-119cb09ed51a\", \"Hole\": \"4\", \"Golfer\": \"Bob\", \"Stroke\": 2, \"Par\": 5, \"Yards_To_Pin\": 335, \"Pin_Distance\": 494, \"Club\": \"6 Iron\"}</td></tr><tr><td>{\"Record\": \"578f58a1-19f8-427a-aeda-7bfb6d6e85ee\", \"Hole\": \"4\", \"Golfer\": \"Bob\", \"Stroke\": 3, \"Par\": 5, \"Yards_To_Pin\": 427, \"Pin_Distance\": 494, \"Club\": \"52 Degree Wedge\"}</td></tr><tr><td>{\"Record\": \"46ea3186-c8d4-48a6-9b19-36d0f2b94b2f\", \"Hole\": \"4\", \"Golfer\": \"Bob\", \"Stroke\": 4, \"Par\": 5, \"Yards_To_Pin\": 471, \"Pin_Distance\": 494, \"Club\": \"54 Degree Wedge\"}</td></tr><tr><td>{\"Record\": \"db29a5c2-2f77-4176-b8a8-5a8a3ffa69ac\", \"Hole\": \"4\", \"Golfer\": \"Bob\", \"Stroke\": 5, \"Par\": 5, \"Yards_To_Pin\": 492, \"Pin_Distance\": 494, \"Club\": \"56 Degree Wedge\"}</td></tr><tr><td>{\"Record\": \"80117572-52da-44f2-938d-fbd3d8766e49\", \"Hole\": \"4\", \"Golfer\": \"Bob\", \"Stroke\": 6, \"Par\": 5, \"Yards_To_Pin\": 494, \"Pin_Distance\": 494, \"Club\": \"Putter\"}</td></tr><tr><td>{\"Record\": \"81ecf214-b887-4917-9935-45aa246662e0\", \"Hole\": \"5\", \"Golfer\": \"Bob\", \"Stroke\": 1, \"Par\": 4, \"Yards_To_Pin\": 203, \"Pin_Distance\": 402, \"Club\": \"Driver\"}</td></tr><tr><td>{\"Record\": \"f6e99bf8-0589-46cc-8c6f-a65178080ae8\", \"Hole\": \"5\", \"Golfer\": \"Bob\", \"Stroke\": 2, \"Par\": 4, \"Yards_To_Pin\": 322, \"Pin_Distance\": 402, \"Club\": \"7 Iron\"}</td></tr><tr><td>{\"Record\": \"f8215462-3e14-4c1d-b5ca-8cbfc31cfdf7\", \"Hole\": \"5\", \"Golfer\": \"Bob\", \"Stroke\": 3, \"Par\": 4, \"Yards_To_Pin\": 402, \"Pin_Distance\": 402, \"Club\": \"54 Degree Wedge\"}</td></tr><tr><td>{\"Record\": \"32f976bb-6ec0-4a0c-a7b0-f6fad5362b88\", \"Hole\": \"6\", \"Golfer\": \"Bob\", \"Stroke\": 1, \"Par\": 5, \"Yards_To_Pin\": 239, \"Pin_Distance\": 483, \"Club\": \"3 Wood\"}</td></tr><tr><td>{\"Record\": \"f90037e6-34f6-4a9d-b5dd-2cfab2c682f4\", \"Hole\": \"6\", \"Golfer\": \"Bob\", \"Stroke\": 2, \"Par\": 5, \"Yards_To_Pin\": 359, \"Pin_Distance\": 483, \"Club\": \"6 Iron\"}</td></tr><tr><td>{\"Record\": \"9ee32915-a4fa-4349-a510-6ba984cb3613\", \"Hole\": \"6\", \"Golfer\": \"Bob\", \"Stroke\": 3, \"Par\": 5, \"Yards_To_Pin\": 432, \"Pin_Distance\": 483, \"Club\": \"56 Degree Wedge\"}</td></tr><tr><td>{\"Record\": \"fcfbaf75-f4e8-4602-89fd-15ea41b7d71b\", \"Hole\": \"6\", \"Golfer\": \"Bob\", \"Stroke\": 4, \"Par\": 5, \"Yards_To_Pin\": 482, \"Pin_Distance\": 483, \"Club\": \"54 Degree Wedge\"}</td></tr><tr><td>{\"Record\": \"8ff2a2de-4d21-4a8d-b04a-a08ee3cc4283\", \"Hole\": \"6\", \"Golfer\": \"Bob\", \"Stroke\": 5, \"Par\": 5, \"Yards_To_Pin\": 483, \"Pin_Distance\": 483, \"Club\": \"54 Degree Wedge\"}</td></tr><tr><td>{\"Record\": \"32b28839-4337-4646-92a4-d96a6d1d1bc1\", \"Hole\": \"7\", \"Golfer\": \"Bob\", \"Stroke\": 1, \"Par\": 4, \"Yards_To_Pin\": 202, \"Pin_Distance\": 419, \"Club\": \"Driver\"}</td></tr><tr><td>{\"Record\": \"bb4c396e-b971-434a-8915-68c2fba871fa\", \"Hole\": \"7\", \"Golfer\": \"Bob\", \"Stroke\": 2, \"Par\": 4, \"Yards_To_Pin\": 308, \"Pin_Distance\": 419, \"Club\": \"7 Iron\"}</td></tr><tr><td>{\"Record\": \"4e8109fe-fdd3-45cb-a2cd-97f27a9d7f1d\", \"Hole\": \"7\", \"Golfer\": \"Bob\", \"Stroke\": 3, \"Par\": 4, \"Yards_To_Pin\": 354, \"Pin_Distance\": 419, \"Club\": \"52 Degree Wedge\"}</td></tr><tr><td>{\"Record\": \"e9ec45a2-52f7-4327-8624-1cdea83d0ebd\", \"Hole\": \"7\", \"Golfer\": \"Bob\", \"Stroke\": 4, \"Par\": 4, \"Yards_To_Pin\": 390, \"Pin_Distance\": 419, \"Club\": \"54 Degree Wedge\"}</td></tr><tr><td>{\"Record\": \"d927b07e-995f-4627-92a6-ef816002c633\", \"Hole\": \"7\", \"Golfer\": \"Bob\", \"Stroke\": 5, \"Par\": 4, \"Yards_To_Pin\": 415, \"Pin_Distance\": 419, \"Club\": \"56 Degree Wedge\"}</td></tr><tr><td>{\"Record\": \"4019ea4d-2702-4137-a427-966f07918872\", \"Hole\": \"7\", \"Golfer\": \"Bob\", \"Stroke\": 6, \"Par\": 4, \"Yards_To_Pin\": 419, \"Pin_Distance\": 419, \"Club\": \"Putter\"}</td></tr><tr><td>{\"Record\": \"69d605ac-c303-4049-b9fa-c6525f2592a2\", \"Hole\": \"8\", \"Golfer\": \"Bob\", \"Stroke\": 1, \"Par\": 3, \"Yards_To_Pin\": 112, \"Pin_Distance\": 196, \"Club\": \"6 Iron\"}</td></tr><tr><td>{\"Record\": \"94ed6efa-3835-4dd6-9439-620003b02ef2\", \"Hole\": \"8\", \"Golfer\": \"Bob\", \"Stroke\": 2, \"Par\": 3, \"Yards_To_Pin\": 139, \"Pin_Distance\": 196, \"Club\": \"54 Degree Wedge\"}</td></tr><tr><td>{\"Record\": \"1aa9d48c-0bb4-4fd4-9752-3e060606f502\", \"Hole\": \"8\", \"Golfer\": \"Bob\", \"Stroke\": 3, \"Par\": 3, \"Yards_To_Pin\": 154, \"Pin_Distance\": 196, \"Club\": \"Putter\"}</td></tr><tr><td>{\"Record\": \"af48172e-0c3b-4ec6-b403-47c9e0533796\", \"Hole\": \"8\", \"Golfer\": \"Bob\", \"Stroke\": 4, \"Par\": 3, \"Yards_To_Pin\": 196, \"Pin_Distance\": 196, \"Club\": \"Putter\"}</td></tr><tr><td>{\"Record\": \"cc7e9479-db3a-4b79-8227-936bf13713f9\", \"Hole\": \"9\", \"Golfer\": \"Bob\", \"Stroke\": 1, \"Par\": 5, \"Yards_To_Pin\": 256, \"Pin_Distance\": 490, \"Club\": \"Driver\"}</td></tr><tr><td>{\"Record\": \"19423a52-cccc-42f3-9438-7c85e9014eb2\", \"Hole\": \"9\", \"Golfer\": \"Bob\", \"Stroke\": 2, \"Par\": 5, \"Yards_To_Pin\": 374, \"Pin_Distance\": 490, \"Club\": \"8 Iron\"}</td></tr><tr><td>{\"Record\": \"c6e9ff13-631f-445d-97ad-8f8b4900baad\", \"Hole\": \"9\", \"Golfer\": \"Bob\", \"Stroke\": 3, \"Par\": 5, \"Yards_To_Pin\": 421, \"Pin_Distance\": 490, \"Club\": \"52 Degree Wedge\"}</td></tr><tr><td>{\"Record\": \"bfd027f0-9dc7-4b36-90a3-f67a29da94c2\", \"Hole\": \"9\", \"Golfer\": \"Bob\", \"Stroke\": 4, \"Par\": 5, \"Yards_To_Pin\": 459, \"Pin_Distance\": 490, \"Club\": \"52 Degree Wedge\"}</td></tr><tr><td>{\"Record\": \"290b1a8c-406e-4a07-9f0a-7d202a0be2ff\", \"Hole\": \"9\", \"Golfer\": \"Bob\", \"Stroke\": 5, \"Par\": 5, \"Yards_To_Pin\": 479, \"Pin_Distance\": 490, \"Club\": \"54 Degree Wedge\"}</td></tr><tr><td>{\"Record\": \"507e3256-b592-4ef4-9ad8-1dc341a7c002\", \"Hole\": \"9\", \"Golfer\": \"Bob\", \"Stroke\": 6, \"Par\": 5, \"Yards_To_Pin\": 490, \"Pin_Distance\": 490, \"Club\": \"Putter\"}</td></tr><tr><td>{\"Record\": \"a82dca7d-7f50-443b-b1e2-b7aa3f81caf6\", \"Hole\": \"10\", \"Golfer\": \"Bob\", \"Stroke\": 1, \"Par\": 5, \"Yards_To_Pin\": 249, \"Pin_Distance\": 452, \"Club\": \"3 Wood\"}</td></tr><tr><td>{\"Record\": \"618c9782-94cb-4156-98d0-fd8416b05223\", \"Hole\": \"10\", \"Golfer\": \"Bob\", \"Stroke\": 2, \"Par\": 5, \"Yards_To_Pin\": 368, \"Pin_Distance\": 452, \"Club\": \"7 Iron\"}</td></tr><tr><td>{\"Record\": \"196fea21-55f3-4d3a-a891-2ec779e69974\", \"Hole\": \"10\", \"Golfer\": \"Bob\", \"Stroke\": 3, \"Par\": 5, \"Yards_To_Pin\": 425, \"Pin_Distance\": 452, \"Club\": \"56 Degree Wedge\"}</td></tr><tr><td>{\"Record\": \"4e8e1414-422b-43c9-b563-5366cb00af6c\", \"Hole\": \"10\", \"Golfer\": \"Bob\", \"Stroke\": 4, \"Par\": 5, \"Yards_To_Pin\": 452, \"Pin_Distance\": 452, \"Club\": \"54 Degree Wedge\"}</td></tr><tr><td>{\"Record\": \"896da4ee-853c-4618-9120-794527909ba5\", \"Hole\": \"11\", \"Golfer\": \"Bob\", \"Stroke\": 1, \"Par\": 4, \"Yards_To_Pin\": 242, \"Pin_Distance\": 395, \"Club\": \"3 Wood\"}</td></tr><tr><td>{\"Record\": \"6faabb10-5084-4db7-8bc2-3344b43fcbfa\", \"Hole\": \"11\", \"Golfer\": \"Bob\", \"Stroke\": 2, \"Par\": 4, \"Yards_To_Pin\": 354, \"Pin_Distance\": 395, \"Club\": \"8 Iron\"}</td></tr><tr><td>{\"Record\": \"151ebf19-44b5-4621-9d15-ac373a1c364d\", \"Hole\": \"11\", \"Golfer\": \"Bob\", \"Stroke\": 3, \"Par\": 4, \"Yards_To_Pin\": 391, \"Pin_Distance\": 395, \"Club\": \"56 Degree Wedge\"}</td></tr><tr><td>{\"Record\": \"86f191fd-f16d-43df-8afe-309cda9c20bd\", \"Hole\": \"11\", \"Golfer\": \"Bob\", \"Stroke\": 4, \"Par\": 4, \"Yards_To_Pin\": 395, \"Pin_Distance\": 395, \"Club\": \"54 Degree Wedge\"}</td></tr><tr><td>{\"Record\": \"82cf396f-6528-4c42-a377-1c11710b239b\", \"Hole\": \"12\", \"Golfer\": \"Bob\", \"Stroke\": 1, \"Par\": 3, \"Yards_To_Pin\": 112, \"Pin_Distance\": 170, \"Club\": \"6 Iron\"}</td></tr><tr><td>{\"Record\": \"47914baa-17aa-4b4b-82c9-ad533d3eb052\", \"Hole\": \"12\", \"Golfer\": \"Bob\", \"Stroke\": 2, \"Par\": 3, \"Yards_To_Pin\": 137, \"Pin_Distance\": 170, \"Club\": \"52 Degree Wedge\"}</td></tr><tr><td>{\"Record\": \"3d018e71-77d6-4b5d-ba66-ae304865811f\", \"Hole\": \"12\", \"Golfer\": \"Bob\", \"Stroke\": 3, \"Par\": 3, \"Yards_To_Pin\": 150, \"Pin_Distance\": 170, \"Club\": \"Putter\"}</td></tr><tr><td>{\"Record\": \"8ae74862-4b69-4c93-bad9-895f19cd38ad\", \"Hole\": \"12\", \"Golfer\": \"Bob\", \"Stroke\": 4, \"Par\": 3, \"Yards_To_Pin\": 170, \"Pin_Distance\": 170, \"Club\": \"Putter\"}</td></tr><tr><td>{\"Record\": \"24db381a-e658-44c4-a053-13bcb8c54358\", \"Hole\": \"13\", \"Golfer\": \"Bob\", \"Stroke\": 1, \"Par\": 4, \"Yards_To_Pin\": 223, \"Pin_Distance\": 405, \"Club\": \"Driver\"}</td></tr><tr><td>{\"Record\": \"6c4e20ef-4ba8-4e49-b973-0e9ff777d3e6\", \"Hole\": \"13\", \"Golfer\": \"Bob\", \"Stroke\": 2, \"Par\": 4, \"Yards_To_Pin\": 331, \"Pin_Distance\": 405, \"Club\": \"7 Iron\"}</td></tr><tr><td>{\"Record\": \"a3cca993-e0c2-46a0-aee5-39881d114503\", \"Hole\": \"13\", \"Golfer\": \"Bob\", \"Stroke\": 3, \"Par\": 4, \"Yards_To_Pin\": 405, \"Pin_Distance\": 405, \"Club\": \"54 Degree Wedge\"}</td></tr><tr><td>{\"Record\": \"d3039636-2c23-4e22-832a-a4d778885d59\", \"Hole\": \"14\", \"Golfer\": \"Bob\", \"Stroke\": 1, \"Par\": 4, \"Yards_To_Pin\": 211, \"Pin_Distance\": 439, \"Club\": \"Driver\"}</td></tr><tr><td>{\"Record\": \"8dbefb3a-72b8-43f0-9f3a-a859eb1cb865\", \"Hole\": \"14\", \"Golfer\": \"Bob\", \"Stroke\": 2, \"Par\": 4, \"Yards_To_Pin\": 316, \"Pin_Distance\": 439, \"Club\": \"9 Iron\"}</td></tr><tr><td>{\"Record\": \"a0754ce1-3960-488f-ac72-dbfe1b03827d\", \"Hole\": \"14\", \"Golfer\": \"Bob\", \"Stroke\": 3, \"Par\": 4, \"Yards_To_Pin\": 373, \"Pin_Distance\": 439, \"Club\": \"54 Degree Wedge\"}</td></tr><tr><td>{\"Record\": \"35bf6559-8539-4bfd-bd65-f0d1a2196856\", \"Hole\": \"14\", \"Golfer\": \"Bob\", \"Stroke\": 4, \"Par\": 4, \"Yards_To_Pin\": 421, \"Pin_Distance\": 439, \"Club\": \"52 Degree Wedge\"}</td></tr><tr><td>{\"Record\": \"70b702ae-c12a-4926-8d61-37883c44b637\", \"Hole\": \"14\", \"Golfer\": \"Bob\", \"Stroke\": 5, \"Par\": 4, \"Yards_To_Pin\": 439, \"Pin_Distance\": 439, \"Club\": \"56 Degree Wedge\"}</td></tr><tr><td>{\"Record\": \"d63214a3-5e59-415a-bee2-819abacdd5b9\", \"Hole\": \"15\", \"Golfer\": \"Bob\", \"Stroke\": 1, \"Par\": 3, \"Yards_To_Pin\": 148, \"Pin_Distance\": 194, \"Club\": \"8 Iron\"}</td></tr><tr><td>{\"Record\": \"f4a23461-122e-4373-a2ba-f8a6ff583cc0\", \"Hole\": \"15\", \"Golfer\": \"Bob\", \"Stroke\": 2, \"Par\": 3, \"Yards_To_Pin\": 178, \"Pin_Distance\": 194, \"Club\": \"52 Degree Wedge\"}</td></tr><tr><td>{\"Record\": \"7693d08d-b822-4c4b-b909-7e5bfb55234c\", \"Hole\": \"15\", \"Golfer\": \"Bob\", \"Stroke\": 3, \"Par\": 3, \"Yards_To_Pin\": 191, \"Pin_Distance\": 194, \"Club\": \"Putter\"}</td></tr><tr><td>{\"Record\": \"94bce3aa-0cad-4cef-8c46-12faae7908d4\", \"Hole\": \"15\", \"Golfer\": \"Bob\", \"Stroke\": 4, \"Par\": 3, \"Yards_To_Pin\": 194, \"Pin_Distance\": 194, \"Club\": \"Putter\"}</td></tr><tr><td>{\"Record\": \"53ae1888-6f65-4158-aa7b-8800bd44eb86\", \"Hole\": \"16\", \"Golfer\": \"Bob\", \"Stroke\": 1, \"Par\": 4, \"Yards_To_Pin\": 257, \"Pin_Distance\": 389, \"Club\": \"Driver\"}</td></tr><tr><td>{\"Record\": \"ab41284e-21c0-4217-9bed-81257dbe764f\", \"Hole\": \"16\", \"Golfer\": \"Bob\", \"Stroke\": 2, \"Par\": 4, \"Yards_To_Pin\": 371, \"Pin_Distance\": 389, \"Club\": \"9 Iron\"}</td></tr><tr><td>{\"Record\": \"e737f33e-b94d-44ef-89c4-728c53b74a4e\", \"Hole\": \"16\", \"Golfer\": \"Bob\", \"Stroke\": 3, \"Par\": 4, \"Yards_To_Pin\": 389, \"Pin_Distance\": 389, \"Club\": \"54 Degree Wedge\"}</td></tr><tr><td>{\"Record\": \"0d82188f-ae5c-4f7e-8754-672edc5ccbc8\", \"Hole\": \"17\", \"Golfer\": \"Bob\", \"Stroke\": 1, \"Par\": 5, \"Yards_To_Pin\": 253, \"Pin_Distance\": 452, \"Club\": \"Driver\"}</td></tr><tr><td>{\"Record\": \"389fcdc0-b0c2-479d-998d-e375c6406565\", \"Hole\": \"17\", \"Golfer\": \"Bob\", \"Stroke\": 2, \"Par\": 5, \"Yards_To_Pin\": 355, \"Pin_Distance\": 452, \"Club\": \"7 Iron\"}</td></tr><tr><td>{\"Record\": \"1803631f-fdf4-4bfd-91c4-5365ae45b33f\", \"Hole\": \"17\", \"Golfer\": \"Bob\", \"Stroke\": 3, \"Par\": 5, \"Yards_To_Pin\": 413, \"Pin_Distance\": 452, \"Club\": \"52 Degree Wedge\"}</td></tr><tr><td>{\"Record\": \"590967d5-0f90-4982-b36e-2f8cff70c645\", \"Hole\": \"17\", \"Golfer\": \"Bob\", \"Stroke\": 4, \"Par\": 5, \"Yards_To_Pin\": 452, \"Pin_Distance\": 452, \"Club\": \"52 Degree Wedge\"}</td></tr><tr><td>{\"Record\": \"95b7a510-87c4-4ea9-8d0b-626cea4a7d79\", \"Hole\": \"18\", \"Golfer\": \"Bob\", \"Stroke\": 1, \"Par\": 3, \"Yards_To_Pin\": 130, \"Pin_Distance\": 176, \"Club\": \"6 Iron\"}</td></tr><tr><td>{\"Record\": \"3118bb12-bc6d-41d4-b781-a1b391d370ee\", \"Hole\": \"18\", \"Golfer\": \"Bob\", \"Stroke\": 2, \"Par\": 3, \"Yards_To_Pin\": 152, \"Pin_Distance\": 176, \"Club\": \"52 Degree Wedge\"}</td></tr><tr><td>{\"Record\": \"abc85401-e518-48ef-9bc9-7fb661c051e0\", \"Hole\": \"18\", \"Golfer\": \"Bob\", \"Stroke\": 3, \"Par\": 3, \"Yards_To_Pin\": 164, \"Pin_Distance\": 176, \"Club\": \"Putter\"}</td></tr><tr><td>{\"Record\": \"636d9eae-ba84-4ab1-83cd-a2ebe61c9716\", \"Hole\": \"18\", \"Golfer\": \"Bob\", \"Stroke\": 4, \"Par\": 3, \"Yards_To_Pin\": 176, \"Pin_Distance\": 176, \"Club\": \"Putter\"}</td></tr><tr><td>{\"Record\": \"22631093-7340-4a87-a509-9a1640485825\", \"Hole\": \"1\", \"Golfer\": \"Bob\", \"Stroke\": 1, \"Par\": 3, \"Yards_To_Pin\": 141, \"Pin_Distance\": 199, \"Club\": \"7 Iron\"}</td></tr><tr><td>{\"Record\": \"0269ec03-031b-438f-8433-13e0faba7fe2\", \"Hole\": \"1\", \"Golfer\": \"Bob\", \"Stroke\": 2, \"Par\": 3, \"Yards_To_Pin\": 165, \"Pin_Distance\": 199, \"Club\": \"54 Degree Wedge\"}</td></tr><tr><td>{\"Record\": \"0abf4175-bbf6-4ca8-ac60-502e21b4457b\", \"Hole\": \"1\", \"Golfer\": \"Bob\", \"Stroke\": 3, \"Par\": 3, \"Yards_To_Pin\": 185, \"Pin_Distance\": 199, \"Club\": \"Putter\"}</td></tr><tr><td>{\"Record\": \"00f74e52-3491-409b-b00c-a646274b910e\", \"Hole\": \"1\", \"Golfer\": \"Bob\", \"Stroke\": 4, \"Par\": 3, \"Yards_To_Pin\": 199, \"Pin_Distance\": 199, \"Club\": \"Putter\"}</td></tr><tr><td>{\"Record\": \"1530fadc-7599-4708-a765-a66e1bdb7e67\", \"Hole\": \"2\", \"Golfer\": \"Bob\", \"Stroke\": 1, \"Par\": 5, \"Yards_To_Pin\": 231, \"Pin_Distance\": 478, \"Club\": \"3 Wood\"}</td></tr><tr><td>{\"Record\": \"53f2b5d4-57b8-4576-b9a1-bd7086160fcc\", \"Hole\": \"2\", \"Golfer\": \"Bob\", \"Stroke\": 2, \"Par\": 5, \"Yards_To_Pin\": 338, \"Pin_Distance\": 478, \"Club\": \"7 Iron\"}</td></tr><tr><td>{\"Record\": \"6826a9f8-7e8d-4b56-93a4-743324d07411\", \"Hole\": \"2\", \"Golfer\": \"Bob\", \"Stroke\": 3, \"Par\": 5, \"Yards_To_Pin\": 432, \"Pin_Distance\": 478, \"Club\": \"54 Degree Wedge\"}</td></tr><tr><td>{\"Record\": \"613d7a05-af31-4edc-a2b8-4893ced18c4a\", \"Hole\": \"2\", \"Golfer\": \"Bob\", \"Stroke\": 4, \"Par\": 5, \"Yards_To_Pin\": 478, \"Pin_Distance\": 478, \"Club\": \"52 Degree Wedge\"}</td></tr><tr><td>{\"Record\": \"8c7a301a-583e-40b3-9274-25fd60db0893\", \"Hole\": \"3\", \"Golfer\": \"Bob\", \"Stroke\": 1, \"Par\": 3, \"Yards_To_Pin\": 87, \"Pin_Distance\": 185, \"Club\": \"9 Iron\"}</td></tr><tr><td>{\"Record\": \"d3639176-39ec-4929-b0d0-463afad1d773\", \"Hole\": \"3\", \"Golfer\": \"Bob\", \"Stroke\": 2, \"Par\": 3, \"Yards_To_Pin\": 117, \"Pin_Distance\": 185, \"Club\": \"52 Degree Wedge\"}</td></tr><tr><td>{\"Record\": \"a26d3827-72f0-4cf0-bb8b-fd4888095889\", \"Hole\": \"3\", \"Golfer\": \"Bob\", \"Stroke\": 3, \"Par\": 3, \"Yards_To_Pin\": 143, \"Pin_Distance\": 185, \"Club\": \"Putter\"}</td></tr><tr><td>{\"Record\": \"5e448780-e64f-47f4-80c2-7a14073c1c06\", \"Hole\": \"3\", \"Golfer\": \"Bob\", \"Stroke\": 4, \"Par\": 3, \"Yards_To_Pin\": 183, \"Pin_Distance\": 185, \"Club\": \"Putter\"}</td></tr><tr><td>{\"Record\": \"dc247707-74ca-4867-a324-dffefc4b4090\", \"Hole\": \"3\", \"Golfer\": \"Bob\", \"Stroke\": 5, \"Par\": 3, \"Yards_To_Pin\": 185, \"Pin_Distance\": 185, \"Club\": \"Putter\"}</td></tr><tr><td>{\"Record\": \"7a444bf9-aca2-4c6f-967a-28326cc5fdeb\", \"Hole\": \"4\", \"Golfer\": \"Bob\", \"Stroke\": 1, \"Par\": 3, \"Yards_To_Pin\": 99, \"Pin_Distance\": 150, \"Club\": \"7 Iron\"}</td></tr><tr><td>{\"Record\": \"1709d11b-0006-4fb3-8510-f3f9949ceb81\", \"Hole\": \"4\", \"Golfer\": \"Bob\", \"Stroke\": 2, \"Par\": 3, \"Yards_To_Pin\": 126, \"Pin_Distance\": 150, \"Club\": \"52 Degree Wedge\"}</td></tr><tr><td>{\"Record\": \"4086aa38-53e2-4469-adf3-362ac91771d9\", \"Hole\": \"4\", \"Golfer\": \"Bob\", \"Stroke\": 3, \"Par\": 3, \"Yards_To_Pin\": 150, \"Pin_Distance\": 150, \"Club\": \"Putter\"}</td></tr><tr><td>{\"Record\": \"7d9f2dc5-c40c-46a4-bb64-24c2734906a3\", \"Hole\": \"5\", \"Golfer\": \"Bob\", \"Stroke\": 1, \"Par\": 5, \"Yards_To_Pin\": 231, \"Pin_Distance\": 473, \"Club\": \"Driver\"}</td></tr><tr><td>{\"Record\": \"0959ec7e-9bb1-41dd-a9fd-c332b0ecd383\", \"Hole\": \"5\", \"Golfer\": \"Bob\", \"Stroke\": 2, \"Par\": 5, \"Yards_To_Pin\": 348, \"Pin_Distance\": 473, \"Club\": \"9 Iron\"}</td></tr><tr><td>{\"Record\": \"00dce994-0833-4483-96ea-194569b8c44e\", \"Hole\": \"5\", \"Golfer\": \"Bob\", \"Stroke\": 3, \"Par\": 5, \"Yards_To_Pin\": 439, \"Pin_Distance\": 473, \"Club\": \"56 Degree Wedge\"}</td></tr><tr><td>{\"Record\": \"2b3d3ba3-b227-4b3c-aeb2-786e3494bf91\", \"Hole\": \"5\", \"Golfer\": \"Bob\", \"Stroke\": 4, \"Par\": 5, \"Yards_To_Pin\": 473, \"Pin_Distance\": 473, \"Club\": \"52 Degree Wedge\"}</td></tr><tr><td>{\"Record\": \"7eb56d57-f043-4b32-8b80-fd022b698a9e\", \"Hole\": \"6\", \"Golfer\": \"Bob\", \"Stroke\": 1, \"Par\": 4, \"Yards_To_Pin\": 260, \"Pin_Distance\": 413, \"Club\": \"Driver\"}</td></tr><tr><td>{\"Record\": \"3a8c7b36-ccb5-434e-babc-7ccaba13b355\", \"Hole\": \"6\", \"Golfer\": \"Bob\", \"Stroke\": 2, \"Par\": 4, \"Yards_To_Pin\": 367, \"Pin_Distance\": 413, \"Club\": \"7 Iron\"}</td></tr><tr><td>{\"Record\": \"5380e696-3b90-409a-a309-b50bce0c9ff8\", \"Hole\": \"6\", \"Golfer\": \"Bob\", \"Stroke\": 3, \"Par\": 4, \"Yards_To_Pin\": 413, \"Pin_Distance\": 413, \"Club\": \"52 Degree Wedge\"}</td></tr><tr><td>{\"Record\": \"e3eba505-0561-48af-80af-2382f696e963\", \"Hole\": \"7\", \"Golfer\": \"Bob\", \"Stroke\": 1, \"Par\": 4, \"Yards_To_Pin\": 202, \"Pin_Distance\": 400, \"Club\": \"3 Wood\"}</td></tr><tr><td>{\"Record\": \"b7561f97-dd2f-4b28-bbcb-b17e4d644fd5\", \"Hole\": \"7\", \"Golfer\": \"Bob\", \"Stroke\": 2, \"Par\": 4, \"Yards_To_Pin\": 313, \"Pin_Distance\": 400, \"Club\": \"7 Iron\"}</td></tr><tr><td>{\"Record\": \"a64deba0-ad69-4836-afe0-a9c150b0f4a2\", \"Hole\": \"7\", \"Golfer\": \"Bob\", \"Stroke\": 3, \"Par\": 4, \"Yards_To_Pin\": 388, \"Pin_Distance\": 400, \"Club\": \"54 Degree Wedge\"}</td></tr><tr><td>{\"Record\": \"824f61d0-ef84-4f96-bd35-5ac0767992d7\", \"Hole\": \"7\", \"Golfer\": \"Bob\", \"Stroke\": 4, \"Par\": 4, \"Yards_To_Pin\": 400, \"Pin_Distance\": 400, \"Club\": \"52 Degree Wedge\"}</td></tr><tr><td>{\"Record\": \"b4336186-770c-431d-9bcd-270b228daf32\", \"Hole\": \"8\", \"Golfer\": \"Bob\", \"Stroke\": 1, \"Par\": 4, \"Yards_To_Pin\": 225, \"Pin_Distance\": 411, \"Club\": \"3 Wood\"}</td></tr><tr><td>{\"Record\": \"6706b1c9-26b1-4a11-9816-6b03a3037c1b\", \"Hole\": \"8\", \"Golfer\": \"Bob\", \"Stroke\": 2, \"Par\": 4, \"Yards_To_Pin\": 333, \"Pin_Distance\": 411, \"Club\": \"7 Iron\"}</td></tr><tr><td>{\"Record\": \"190b9a5f-0fa6-427f-b7bc-c5190729752a\", \"Hole\": \"8\", \"Golfer\": \"Bob\", \"Stroke\": 3, \"Par\": 4, \"Yards_To_Pin\": 383, \"Pin_Distance\": 411, \"Club\": \"54 Degree Wedge\"}</td></tr><tr><td>{\"Record\": \"d4fc4b9f-451c-4499-a469-cd3a68f6db4e\", \"Hole\": \"8\", \"Golfer\": \"Bob\", \"Stroke\": 4, \"Par\": 4, \"Yards_To_Pin\": 411, \"Pin_Distance\": 411, \"Club\": \"52 Degree Wedge\"}</td></tr><tr><td>{\"Record\": \"3ab93dee-bf6c-48eb-9a00-306a6ac12837\", \"Hole\": \"9\", \"Golfer\": \"Bob\", \"Stroke\": 1, \"Par\": 3, \"Yards_To_Pin\": 103, \"Pin_Distance\": 200, \"Club\": \"8 Iron\"}</td></tr><tr><td>{\"Record\": \"ad92ae3e-4a45-4882-ba14-a2e515061d50\", \"Hole\": \"9\", \"Golfer\": \"Bob\", \"Stroke\": 2, \"Par\": 3, \"Yards_To_Pin\": 124, \"Pin_Distance\": 200, \"Club\": \"52 Degree Wedge\"}</td></tr><tr><td>{\"Record\": \"1a4a4ffa-1d1d-4a45-bd37-ccb118672fed\", \"Hole\": \"9\", \"Golfer\": \"Bob\", \"Stroke\": 3, \"Par\": 3, \"Yards_To_Pin\": 142, \"Pin_Distance\": 200, \"Club\": \"Putter\"}</td></tr><tr><td>{\"Record\": \"6c2a3893-7461-433c-8ba5-e495562b5d8b\", \"Hole\": \"9\", \"Golfer\": \"Bob\", \"Stroke\": 4, \"Par\": 3, \"Yards_To_Pin\": 187, \"Pin_Distance\": 200, \"Club\": \"Putter\"}</td></tr><tr><td>{\"Record\": \"444c02bb-7413-4ffe-ba28-7fb7b0be1ab1\", \"Hole\": \"9\", \"Golfer\": \"Bob\", \"Stroke\": 5, \"Par\": 3, \"Yards_To_Pin\": 200, \"Pin_Distance\": 200, \"Club\": \"Putter\"}</td></tr><tr><td>{\"Record\": \"1ffad68e-9aec-4b3a-970b-08fcae869a01\", \"Hole\": \"10\", \"Golfer\": \"Bob\", \"Stroke\": 1, \"Par\": 4, \"Yards_To_Pin\": 239, \"Pin_Distance\": 442, \"Club\": \"3 Wood\"}</td></tr><tr><td>{\"Record\": \"10cf729f-9a65-4c96-abc2-6d15f829fd95\", \"Hole\": \"10\", \"Golfer\": \"Bob\", \"Stroke\": 2, \"Par\": 4, \"Yards_To_Pin\": 351, \"Pin_Distance\": 442, \"Club\": \"9 Iron\"}</td></tr><tr><td>{\"Record\": \"f7760377-8978-44e8-b0fd-86539252e818\", \"Hole\": \"10\", \"Golfer\": \"Bob\", \"Stroke\": 3, \"Par\": 4, \"Yards_To_Pin\": 424, \"Pin_Distance\": 442, \"Club\": \"54 Degree Wedge\"}</td></tr><tr><td>{\"Record\": \"a1528002-a826-49e7-9350-0cae33746fff\", \"Hole\": \"10\", \"Golfer\": \"Bob\", \"Stroke\": 4, \"Par\": 4, \"Yards_To_Pin\": 442, \"Pin_Distance\": 442, \"Club\": \"52 Degree Wedge\"}</td></tr><tr><td>{\"Record\": \"4ccc335e-455d-4067-8872-c9bd08f99682\", \"Hole\": \"11\", \"Golfer\": \"Bob\", \"Stroke\": 1, \"Par\": 4, \"Yards_To_Pin\": 231, \"Pin_Distance\": 428, \"Club\": \"Driver\"}</td></tr><tr><td>{\"Record\": \"0b1de753-9630-47fa-8150-ce4aa250a272\", \"Hole\": \"11\", \"Golfer\": \"Bob\", \"Stroke\": 2, \"Par\": 4, \"Yards_To_Pin\": 350, \"Pin_Distance\": 428, \"Club\": \"7 Iron\"}</td></tr><tr><td>{\"Record\": \"ffbf6263-b8b6-478a-982f-22a05ccdc111\", \"Hole\": \"11\", \"Golfer\": \"Bob\", \"Stroke\": 3, \"Par\": 4, \"Yards_To_Pin\": 423, \"Pin_Distance\": 428, \"Club\": \"54 Degree Wedge\"}</td></tr><tr><td>{\"Record\": \"e6b313fa-6178-455d-b238-10cbaf099b87\", \"Hole\": \"11\", \"Golfer\": \"Bob\", \"Stroke\": 4, \"Par\": 4, \"Yards_To_Pin\": 428, \"Pin_Distance\": 428, \"Club\": \"52 Degree Wedge\"}</td></tr><tr><td>{\"Record\": \"6351cf62-4293-4411-9ea8-c8e0dad61073\", \"Hole\": \"12\", \"Golfer\": \"Bob\", \"Stroke\": 1, \"Par\": 4, \"Yards_To_Pin\": 204, \"Pin_Distance\": 449, \"Club\": \"Driver\"}</td></tr><tr><td>{\"Record\": \"47243c3a-548a-47b0-9be8-ba284c142b75\", \"Hole\": \"12\", \"Golfer\": \"Bob\", \"Stroke\": 2, \"Par\": 4, \"Yards_To_Pin\": 306, \"Pin_Distance\": 449, \"Club\": \"8 Iron\"}</td></tr><tr><td>{\"Record\": \"bbee67d1-cd4a-4d2b-af22-9a8d54195d0b\", \"Hole\": \"12\", \"Golfer\": \"Bob\", \"Stroke\": 3, \"Par\": 4, \"Yards_To_Pin\": 351, \"Pin_Distance\": 449, \"Club\": \"52 Degree Wedge\"}</td></tr><tr><td>{\"Record\": \"38e61425-719d-405d-a5d5-bd094fdb4f2a\", \"Hole\": \"12\", \"Golfer\": \"Bob\", \"Stroke\": 4, \"Par\": 4, \"Yards_To_Pin\": 398, \"Pin_Distance\": 449, \"Club\": \"52 Degree Wedge\"}</td></tr><tr><td>{\"Record\": \"cc39e8f0-23eb-4c0c-95dd-29b31ed8680d\", \"Hole\": \"12\", \"Golfer\": \"Bob\", \"Stroke\": 5, \"Par\": 4, \"Yards_To_Pin\": 422, \"Pin_Distance\": 449, \"Club\": \"54 Degree Wedge\"}</td></tr><tr><td>{\"Record\": \"a99c9242-68e4-433a-9ac0-6dad8d28022b\", \"Hole\": \"12\", \"Golfer\": \"Bob\", \"Stroke\": 6, \"Par\": 4, \"Yards_To_Pin\": 440, \"Pin_Distance\": 449, \"Club\": \"Putter\"}</td></tr><tr><td>{\"Record\": \"8683edbe-4dd4-4f34-ac98-22e0d663ec9c\", \"Hole\": \"12\", \"Golfer\": \"Bob\", \"Stroke\": 7, \"Par\": 4, \"Yards_To_Pin\": 449, \"Pin_Distance\": 449, \"Club\": \"Putter\"}</td></tr><tr><td>{\"Record\": \"69a5a04e-e5f0-4c6a-91a1-6a56855d2ac9\", \"Hole\": \"13\", \"Golfer\": \"Bob\", \"Stroke\": 1, \"Par\": 5, \"Yards_To_Pin\": 200, \"Pin_Distance\": 480, \"Club\": \"3 Wood\"}</td></tr><tr><td>{\"Record\": \"1fd5e46f-5010-4dd3-909b-25a232c75dee\", \"Hole\": \"13\", \"Golfer\": \"Bob\", \"Stroke\": 2, \"Par\": 5, \"Yards_To_Pin\": 320, \"Pin_Distance\": 480, \"Club\": \"7 Iron\"}</td></tr><tr><td>{\"Record\": \"918f9364-8347-4640-a98c-3e9c95e68d04\", \"Hole\": \"13\", \"Golfer\": \"Bob\", \"Stroke\": 3, \"Par\": 5, \"Yards_To_Pin\": 377, \"Pin_Distance\": 480, \"Club\": \"52 Degree Wedge\"}</td></tr><tr><td>{\"Record\": \"a0c93065-6c00-415e-bc62-fbfd65e81559\", \"Hole\": \"13\", \"Golfer\": \"Bob\", \"Stroke\": 4, \"Par\": 5, \"Yards_To_Pin\": 427, \"Pin_Distance\": 480, \"Club\": \"52 Degree Wedge\"}</td></tr><tr><td>{\"Record\": \"4553c579-db4f-4f7c-a29e-76eabf83a636\", \"Hole\": \"13\", \"Golfer\": \"Bob\", \"Stroke\": 5, \"Par\": 5, \"Yards_To_Pin\": 451, \"Pin_Distance\": 480, \"Club\": \"54 Degree Wedge\"}</td></tr><tr><td>{\"Record\": \"b506b8ba-4b76-444c-8920-ed33f1976948\", \"Hole\": \"13\", \"Golfer\": \"Bob\", \"Stroke\": 6, \"Par\": 5, \"Yards_To_Pin\": 471, \"Pin_Distance\": 480, \"Club\": \"Putter\"}</td></tr><tr><td>{\"Record\": \"07faca66-e984-4e2a-8bd9-e32c8ef8ba34\", \"Hole\": \"13\", \"Golfer\": \"Bob\", \"Stroke\": 7, \"Par\": 5, \"Yards_To_Pin\": 480, \"Pin_Distance\": 480, \"Club\": \"Putter\"}</td></tr><tr><td>{\"Record\": \"34c19b37-3e7c-41b4-bddd-7cef4acaa458\", \"Hole\": \"14\", \"Golfer\": \"Bob\", \"Stroke\": 1, \"Par\": 5, \"Yards_To_Pin\": 262, \"Pin_Distance\": 473, \"Club\": \"Driver\"}</td></tr><tr><td>{\"Record\": \"de6ba71b-8a7e-407c-9f33-1fbfcab271b8\", \"Hole\": \"14\", \"Golfer\": \"Bob\", \"Stroke\": 2, \"Par\": 5, \"Yards_To_Pin\": 378, \"Pin_Distance\": 473, \"Club\": \"7 Iron\"}</td></tr><tr><td>{\"Record\": \"e7e52d24-1cee-484f-8a05-89c15bda507f\", \"Hole\": \"14\", \"Golfer\": \"Bob\", \"Stroke\": 3, \"Par\": 5, \"Yards_To_Pin\": 470, \"Pin_Distance\": 473, \"Club\": \"52 Degree Wedge\"}</td></tr><tr><td>{\"Record\": \"d430c3c6-b25d-4814-b74f-79c82903ddb4\", \"Hole\": \"14\", \"Golfer\": \"Bob\", \"Stroke\": 4, \"Par\": 5, \"Yards_To_Pin\": 473, \"Pin_Distance\": 473, \"Club\": \"52 Degree Wedge\"}</td></tr><tr><td>{\"Record\": \"ba933a37-cd44-480c-9ca3-34007c3efbd6\", \"Hole\": \"15\", \"Golfer\": \"Bob\", \"Stroke\": 1, \"Par\": 5, \"Yards_To_Pin\": 206, \"Pin_Distance\": 473, \"Club\": \"3 Wood\"}</td></tr><tr><td>{\"Record\": \"ca58da0e-a3ab-4b94-8746-026f63c44798\", \"Hole\": \"15\", \"Golfer\": \"Bob\", \"Stroke\": 2, \"Par\": 5, \"Yards_To_Pin\": 313, \"Pin_Distance\": 473, \"Club\": \"7 Iron\"}</td></tr><tr><td>{\"Record\": \"6c55b62d-498a-4475-9dec-76f62795c8da\", \"Hole\": \"15\", \"Golfer\": \"Bob\", \"Stroke\": 3, \"Par\": 5, \"Yards_To_Pin\": 402, \"Pin_Distance\": 473, \"Club\": \"54 Degree Wedge\"}</td></tr><tr><td>{\"Record\": \"17f584f7-0daa-4841-a4d7-d4a11fe80ed6\", \"Hole\": \"15\", \"Golfer\": \"Bob\", \"Stroke\": 4, \"Par\": 5, \"Yards_To_Pin\": 444, \"Pin_Distance\": 473, \"Club\": \"54 Degree Wedge\"}</td></tr><tr><td>{\"Record\": \"939c826a-2fc2-4ecf-b0b4-d9b4215683a2\", \"Hole\": \"15\", \"Golfer\": \"Bob\", \"Stroke\": 5, \"Par\": 5, \"Yards_To_Pin\": 466, \"Pin_Distance\": 473, \"Club\": \"54 Degree Wedge\"}</td></tr><tr><td>{\"Record\": \"48e09104-5901-478d-a6ce-a9dc714c9c3c\", \"Hole\": \"15\", \"Golfer\": \"Bob\", \"Stroke\": 6, \"Par\": 5, \"Yards_To_Pin\": 473, \"Pin_Distance\": 473, \"Club\": \"Putter\"}</td></tr><tr><td>{\"Record\": \"900da32c-3856-45b0-8d45-cf04a1f074cc\", \"Hole\": \"16\", \"Golfer\": \"Bob\", \"Stroke\": 1, \"Par\": 5, \"Yards_To_Pin\": 201, \"Pin_Distance\": 456, \"Club\": \"Driver\"}</td></tr><tr><td>{\"Record\": \"9613f72f-30b3-4541-8a81-0c15028163c3\", \"Hole\": \"16\", \"Golfer\": \"Bob\", \"Stroke\": 2, \"Par\": 5, \"Yards_To_Pin\": 307, \"Pin_Distance\": 456, \"Club\": \"8 Iron\"}</td></tr><tr><td>{\"Record\": \"ffd6f25c-1dc5-4953-ae5b-b4bc21580b27\", \"Hole\": \"16\", \"Golfer\": \"Bob\", \"Stroke\": 3, \"Par\": 5, \"Yards_To_Pin\": 356, \"Pin_Distance\": 456, \"Club\": \"54 Degree Wedge\"}</td></tr><tr><td>{\"Record\": \"69651d35-12f7-427b-a37a-eda661b3b3dc\", \"Hole\": \"16\", \"Golfer\": \"Bob\", \"Stroke\": 4, \"Par\": 5, \"Yards_To_Pin\": 399, \"Pin_Distance\": 456, \"Club\": \"54 Degree Wedge\"}</td></tr><tr><td>{\"Record\": \"ae7ae60b-453b-40cd-9529-efeb8e655729\", \"Hole\": \"16\", \"Golfer\": \"Bob\", \"Stroke\": 5, \"Par\": 5, \"Yards_To_Pin\": 419, \"Pin_Distance\": 456, \"Club\": \"56 Degree Wedge\"}</td></tr><tr><td>{\"Record\": \"d2578312-40ab-4bdd-8a5e-fdded1ebc868\", \"Hole\": \"16\", \"Golfer\": \"Bob\", \"Stroke\": 6, \"Par\": 5, \"Yards_To_Pin\": 439, \"Pin_Distance\": 456, \"Club\": \"Putter\"}</td></tr><tr><td>{\"Record\": \"10116d47-4426-40cd-92cb-c1f4dc65107e\", \"Hole\": \"16\", \"Golfer\": \"Bob\", \"Stroke\": 7, \"Par\": 5, \"Yards_To_Pin\": 454, \"Pin_Distance\": 456, \"Club\": \"Putter\"}</td></tr><tr><td>{\"Record\": \"af11f728-fbb2-422f-ad6c-d11503332726\", \"Hole\": \"16\", \"Golfer\": \"Bob\", \"Stroke\": 8, \"Par\": 5, \"Yards_To_Pin\": 456, \"Pin_Distance\": 456, \"Club\": \"Putter\"}</td></tr><tr><td>{\"Record\": \"dfeb9761-a89e-4372-9e58-38ef30d4e851\", \"Hole\": \"17\", \"Golfer\": \"Bob\", \"Stroke\": 1, \"Par\": 4, \"Yards_To_Pin\": 265, \"Pin_Distance\": 392, \"Club\": \"3 Wood\"}</td></tr><tr><td>{\"Record\": \"6c9adbdd-0753-40a7-90cf-2c851d140cd7\", \"Hole\": \"17\", \"Golfer\": \"Bob\", \"Stroke\": 2, \"Par\": 4, \"Yards_To_Pin\": 381, \"Pin_Distance\": 392, \"Club\": \"6 Iron\"}</td></tr><tr><td>{\"Record\": \"53a9ba7e-91dc-433e-a96d-c028b0657648\", \"Hole\": \"17\", \"Golfer\": \"Bob\", \"Stroke\": 3, \"Par\": 4, \"Yards_To_Pin\": 392, \"Pin_Distance\": 392, \"Club\": \"52 Degree Wedge\"}</td></tr><tr><td>{\"Record\": \"f85554ac-0978-4cfc-96da-92f02541d3d8\", \"Hole\": \"18\", \"Golfer\": \"Bob\", \"Stroke\": 1, \"Par\": 4, \"Yards_To_Pin\": 251, \"Pin_Distance\": 432, \"Club\": \"3 Wood\"}</td></tr><tr><td>{\"Record\": \"54e5d033-c386-434e-a285-6303d6cf82da\", \"Hole\": \"18\", \"Golfer\": \"Bob\", \"Stroke\": 2, \"Par\": 4, \"Yards_To_Pin\": 368, \"Pin_Distance\": 432, \"Club\": \"6 Iron\"}</td></tr><tr><td>{\"Record\": \"6faf4090-1466-4e9f-99df-25ee6b105747\", \"Hole\": \"18\", \"Golfer\": \"Bob\", \"Stroke\": 3, \"Par\": 4, \"Yards_To_Pin\": 432, \"Pin_Distance\": 432, \"Club\": \"52 Degree Wedge\"}</td></tr></tbody></table></div>"
      ]
     },
     "metadata": {
      "application/vnd.databricks.v1+output": {
       "addedWidgets": {},
       "aggData": [],
       "aggError": "",
       "aggOverflow": false,
       "aggSchema": [],
       "aggSeriesLimitReached": false,
       "aggType": "",
       "arguments": {},
       "columnCustomDisplayInfos": {},
       "data": [
        [
         "{\"Record\": \"fd114009-86b3-4c2d-b773-157a8b6bc0ba\", \"Hole\": \"1\", \"Golfer\": \"Bob\", \"Stroke\": 1, \"Par\": 5, \"Yards_To_Pin\": 231, \"Pin_Distance\": 461, \"Club\": \"3 Wood\"}"
        ],
        [
         "{\"Record\": \"3734f832-7c04-46f2-9de8-2133f876725f\", \"Hole\": \"1\", \"Golfer\": \"Bob\", \"Stroke\": 2, \"Par\": 5, \"Yards_To_Pin\": 349, \"Pin_Distance\": 461, \"Club\": \"8 Iron\"}"
        ],
        [
         "{\"Record\": \"8b9edf37-0e32-4ce8-a685-c74258376ac2\", \"Hole\": \"1\", \"Golfer\": \"Bob\", \"Stroke\": 3, \"Par\": 5, \"Yards_To_Pin\": 392, \"Pin_Distance\": 461, \"Club\": \"56 Degree Wedge\"}"
        ],
        [
         "{\"Record\": \"99e678b9-bbb8-428d-b3a8-6c0a6c800e1d\", \"Hole\": \"1\", \"Golfer\": \"Bob\", \"Stroke\": 4, \"Par\": 5, \"Yards_To_Pin\": 439, \"Pin_Distance\": 461, \"Club\": \"52 Degree Wedge\"}"
        ],
        [
         "{\"Record\": \"db6e54fa-ff6d-4a16-b27c-42f913ee58e3\", \"Hole\": \"1\", \"Golfer\": \"Bob\", \"Stroke\": 5, \"Par\": 5, \"Yards_To_Pin\": 461, \"Pin_Distance\": 461, \"Club\": \"54 Degree Wedge\"}"
        ],
        [
         "{\"Record\": \"4da8bb4c-562f-4bba-967d-e899addd83d7\", \"Hole\": \"2\", \"Golfer\": \"Bob\", \"Stroke\": 1, \"Par\": 4, \"Yards_To_Pin\": 243, \"Pin_Distance\": 425, \"Club\": \"3 Wood\"}"
        ],
        [
         "{\"Record\": \"e2fdaade-b685-4675-93bb-b5c0025c3a2f\", \"Hole\": \"2\", \"Golfer\": \"Bob\", \"Stroke\": 2, \"Par\": 4, \"Yards_To_Pin\": 359, \"Pin_Distance\": 425, \"Club\": \"9 Iron\"}"
        ],
        [
         "{\"Record\": \"afb38090-7ff1-4d93-b1c8-36ddf83b210b\", \"Hole\": \"2\", \"Golfer\": \"Bob\", \"Stroke\": 3, \"Par\": 4, \"Yards_To_Pin\": 425, \"Pin_Distance\": 425, \"Club\": \"52 Degree Wedge\"}"
        ],
        [
         "{\"Record\": \"55f218d4-c0f7-45e3-8f3b-e88f683eb084\", \"Hole\": \"3\", \"Golfer\": \"Bob\", \"Stroke\": 1, \"Par\": 4, \"Yards_To_Pin\": 218, \"Pin_Distance\": 408, \"Club\": \"Driver\"}"
        ],
        [
         "{\"Record\": \"46d05772-d52b-4f7f-90ad-b8e778de5b5c\", \"Hole\": \"3\", \"Golfer\": \"Bob\", \"Stroke\": 2, \"Par\": 4, \"Yards_To_Pin\": 334, \"Pin_Distance\": 408, \"Club\": \"9 Iron\"}"
        ],
        [
         "{\"Record\": \"42dc057f-a57b-45c9-b6d7-6a3c880d92af\", \"Hole\": \"3\", \"Golfer\": \"Bob\", \"Stroke\": 3, \"Par\": 4, \"Yards_To_Pin\": 394, \"Pin_Distance\": 408, \"Club\": \"56 Degree Wedge\"}"
        ],
        [
         "{\"Record\": \"392d4c65-d7ff-4e4b-8f84-013ef81755c8\", \"Hole\": \"3\", \"Golfer\": \"Bob\", \"Stroke\": 4, \"Par\": 4, \"Yards_To_Pin\": 408, \"Pin_Distance\": 408, \"Club\": \"52 Degree Wedge\"}"
        ],
        [
         "{\"Record\": \"5a87b3f3-17a0-45f3-8cb5-097d33fe7e4d\", \"Hole\": \"4\", \"Golfer\": \"Bob\", \"Stroke\": 1, \"Par\": 4, \"Yards_To_Pin\": 248, \"Pin_Distance\": 412, \"Club\": \"Driver\"}"
        ],
        [
         "{\"Record\": \"124dfd5e-3b3c-4cbc-a7a3-bc7d0a92cfd3\", \"Hole\": \"4\", \"Golfer\": \"Bob\", \"Stroke\": 2, \"Par\": 4, \"Yards_To_Pin\": 357, \"Pin_Distance\": 412, \"Club\": \"7 Iron\"}"
        ],
        [
         "{\"Record\": \"5a78f97e-1d42-4366-9c82-8f45fb2ae760\", \"Hole\": \"4\", \"Golfer\": \"Bob\", \"Stroke\": 3, \"Par\": 4, \"Yards_To_Pin\": 396, \"Pin_Distance\": 412, \"Club\": \"52 Degree Wedge\"}"
        ],
        [
         "{\"Record\": \"cc47ee23-e4ba-4171-81ab-8bea802e9de4\", \"Hole\": \"4\", \"Golfer\": \"Bob\", \"Stroke\": 4, \"Par\": 4, \"Yards_To_Pin\": 412, \"Pin_Distance\": 412, \"Club\": \"52 Degree Wedge\"}"
        ],
        [
         "{\"Record\": \"de18fc82-6af2-4f18-9732-9c46ded23aba\", \"Hole\": \"5\", \"Golfer\": \"Bob\", \"Stroke\": 1, \"Par\": 4, \"Yards_To_Pin\": 232, \"Pin_Distance\": 435, \"Club\": \"Driver\"}"
        ],
        [
         "{\"Record\": \"a9306db8-67f0-4d1b-b3b2-28c35b82a656\", \"Hole\": \"5\", \"Golfer\": \"Bob\", \"Stroke\": 2, \"Par\": 4, \"Yards_To_Pin\": 350, \"Pin_Distance\": 435, \"Club\": \"8 Iron\"}"
        ],
        [
         "{\"Record\": \"ec471dd7-48d1-4586-83b4-ac83cef60274\", \"Hole\": \"5\", \"Golfer\": \"Bob\", \"Stroke\": 3, \"Par\": 4, \"Yards_To_Pin\": 402, \"Pin_Distance\": 435, \"Club\": \"54 Degree Wedge\"}"
        ],
        [
         "{\"Record\": \"e35a0198-48e6-4fa1-ac21-e239719b3e94\", \"Hole\": \"5\", \"Golfer\": \"Bob\", \"Stroke\": 4, \"Par\": 4, \"Yards_To_Pin\": 435, \"Pin_Distance\": 435, \"Club\": \"52 Degree Wedge\"}"
        ],
        [
         "{\"Record\": \"32dd86d5-1201-41bb-b3b0-2daeafdebec3\", \"Hole\": \"6\", \"Golfer\": \"Bob\", \"Stroke\": 1, \"Par\": 5, \"Yards_To_Pin\": 222, \"Pin_Distance\": 492, \"Club\": \"Driver\"}"
        ],
        [
         "{\"Record\": \"7ca7ebaa-5efc-4538-a0c0-af0ad67d0ef3\", \"Hole\": \"6\", \"Golfer\": \"Bob\", \"Stroke\": 2, \"Par\": 5, \"Yards_To_Pin\": 342, \"Pin_Distance\": 492, \"Club\": \"7 Iron\"}"
        ],
        [
         "{\"Record\": \"243b7a5f-b15c-4495-bd9f-71745f641ac0\", \"Hole\": \"6\", \"Golfer\": \"Bob\", \"Stroke\": 3, \"Par\": 5, \"Yards_To_Pin\": 401, \"Pin_Distance\": 492, \"Club\": \"52 Degree Wedge\"}"
        ],
        [
         "{\"Record\": \"a08321cb-ed2f-4e30-bc39-e32dedb99b0a\", \"Hole\": \"6\", \"Golfer\": \"Bob\", \"Stroke\": 4, \"Par\": 5, \"Yards_To_Pin\": 439, \"Pin_Distance\": 492, \"Club\": \"54 Degree Wedge\"}"
        ],
        [
         "{\"Record\": \"8f668131-53eb-455d-b6f0-d3949290235c\", \"Hole\": \"6\", \"Golfer\": \"Bob\", \"Stroke\": 5, \"Par\": 5, \"Yards_To_Pin\": 459, \"Pin_Distance\": 492, \"Club\": \"54 Degree Wedge\"}"
        ],
        [
         "{\"Record\": \"dea46cf4-c409-475f-875f-04fa51fbd0c1\", \"Hole\": \"6\", \"Golfer\": \"Bob\", \"Stroke\": 6, \"Par\": 5, \"Yards_To_Pin\": 477, \"Pin_Distance\": 492, \"Club\": \"Putter\"}"
        ],
        [
         "{\"Record\": \"ff6c3002-90f0-43c4-816d-93deaa83bd16\", \"Hole\": \"6\", \"Golfer\": \"Bob\", \"Stroke\": 7, \"Par\": 5, \"Yards_To_Pin\": 490, \"Pin_Distance\": 492, \"Club\": \"Putter\"}"
        ],
        [
         "{\"Record\": \"7ba04bcb-c41b-4d61-bc8b-63ea7faacb30\", \"Hole\": \"6\", \"Golfer\": \"Bob\", \"Stroke\": 8, \"Par\": 5, \"Yards_To_Pin\": 492, \"Pin_Distance\": 492, \"Club\": \"Putter\"}"
        ],
        [
         "{\"Record\": \"dd3035b1-c534-4f41-a700-c7b200409577\", \"Hole\": \"7\", \"Golfer\": \"Bob\", \"Stroke\": 1, \"Par\": 4, \"Yards_To_Pin\": 262, \"Pin_Distance\": 427, \"Club\": \"3 Wood\"}"
        ],
        [
         "{\"Record\": \"17a88b5e-05d3-4ff6-9014-4bc66b485243\", \"Hole\": \"7\", \"Golfer\": \"Bob\", \"Stroke\": 2, \"Par\": 4, \"Yards_To_Pin\": 362, \"Pin_Distance\": 427, \"Club\": \"7 Iron\"}"
        ],
        [
         "{\"Record\": \"ec99de74-3605-412e-9da8-b2f943bc9e99\", \"Hole\": \"7\", \"Golfer\": \"Bob\", \"Stroke\": 3, \"Par\": 4, \"Yards_To_Pin\": 406, \"Pin_Distance\": 427, \"Club\": \"52 Degree Wedge\"}"
        ],
        [
         "{\"Record\": \"e996a9d5-2991-4bed-a972-13e64ceea1fe\", \"Hole\": \"7\", \"Golfer\": \"Bob\", \"Stroke\": 4, \"Par\": 4, \"Yards_To_Pin\": 427, \"Pin_Distance\": 427, \"Club\": \"54 Degree Wedge\"}"
        ],
        [
         "{\"Record\": \"27e56f84-e1de-4491-a800-0dacd3029ee9\", \"Hole\": \"8\", \"Golfer\": \"Bob\", \"Stroke\": 1, \"Par\": 4, \"Yards_To_Pin\": 201, \"Pin_Distance\": 387, \"Club\": \"Driver\"}"
        ],
        [
         "{\"Record\": \"54440a65-d511-4d28-aff9-83149eefc538\", \"Hole\": \"8\", \"Golfer\": \"Bob\", \"Stroke\": 2, \"Par\": 4, \"Yards_To_Pin\": 321, \"Pin_Distance\": 387, \"Club\": \"7 Iron\"}"
        ],
        [
         "{\"Record\": \"472a42e0-8f30-4bb3-9314-a89635782987\", \"Hole\": \"8\", \"Golfer\": \"Bob\", \"Stroke\": 3, \"Par\": 4, \"Yards_To_Pin\": 380, \"Pin_Distance\": 387, \"Club\": \"52 Degree Wedge\"}"
        ],
        [
         "{\"Record\": \"51feca2e-5843-4b98-ac67-16244b4dc5c0\", \"Hole\": \"8\", \"Golfer\": \"Bob\", \"Stroke\": 4, \"Par\": 4, \"Yards_To_Pin\": 387, \"Pin_Distance\": 387, \"Club\": \"54 Degree Wedge\"}"
        ],
        [
         "{\"Record\": \"08375dde-4f4c-426e-b6ea-db33587ed126\", \"Hole\": \"9\", \"Golfer\": \"Bob\", \"Stroke\": 1, \"Par\": 5, \"Yards_To_Pin\": 218, \"Pin_Distance\": 464, \"Club\": \"3 Wood\"}"
        ],
        [
         "{\"Record\": \"304501ae-b69a-4d27-ac7a-f2be2c45fe1f\", \"Hole\": \"9\", \"Golfer\": \"Bob\", \"Stroke\": 2, \"Par\": 5, \"Yards_To_Pin\": 323, \"Pin_Distance\": 464, \"Club\": \"9 Iron\"}"
        ],
        [
         "{\"Record\": \"4b574d55-288e-4d04-99b7-844116ed378f\", \"Hole\": \"9\", \"Golfer\": \"Bob\", \"Stroke\": 3, \"Par\": 5, \"Yards_To_Pin\": 377, \"Pin_Distance\": 464, \"Club\": \"54 Degree Wedge\"}"
        ],
        [
         "{\"Record\": \"d02e3a88-8169-4a59-8e3c-55213a912a22\", \"Hole\": \"9\", \"Golfer\": \"Bob\", \"Stroke\": 4, \"Par\": 5, \"Yards_To_Pin\": 427, \"Pin_Distance\": 464, \"Club\": \"54 Degree Wedge\"}"
        ],
        [
         "{\"Record\": \"65eb21bd-794f-4871-943f-1daa32115fff\", \"Hole\": \"9\", \"Golfer\": \"Bob\", \"Stroke\": 5, \"Par\": 5, \"Yards_To_Pin\": 448, \"Pin_Distance\": 464, \"Club\": \"54 Degree Wedge\"}"
        ],
        [
         "{\"Record\": \"2f4927da-6453-4284-9237-0537d1c7fe2b\", \"Hole\": \"9\", \"Golfer\": \"Bob\", \"Stroke\": 6, \"Par\": 5, \"Yards_To_Pin\": 464, \"Pin_Distance\": 464, \"Club\": \"Putter\"}"
        ],
        [
         "{\"Record\": \"b9d26a8e-efa8-45bc-b6f9-a399bf23f26d\", \"Hole\": \"10\", \"Golfer\": \"Bob\", \"Stroke\": 1, \"Par\": 5, \"Yards_To_Pin\": 238, \"Pin_Distance\": 484, \"Club\": \"Driver\"}"
        ],
        [
         "{\"Record\": \"0bf36f12-b3b3-4cdd-a8e0-0c812553e74d\", \"Hole\": \"10\", \"Golfer\": \"Bob\", \"Stroke\": 2, \"Par\": 5, \"Yards_To_Pin\": 350, \"Pin_Distance\": 484, \"Club\": \"7 Iron\"}"
        ],
        [
         "{\"Record\": \"3c43de60-a28e-4f0c-a7a9-ebd0918cfacd\", \"Hole\": \"10\", \"Golfer\": \"Bob\", \"Stroke\": 3, \"Par\": 5, \"Yards_To_Pin\": 448, \"Pin_Distance\": 484, \"Club\": \"52 Degree Wedge\"}"
        ],
        [
         "{\"Record\": \"c22d4d3f-ec7e-4a14-b0c7-8a1b9425500f\", \"Hole\": \"10\", \"Golfer\": \"Bob\", \"Stroke\": 4, \"Par\": 5, \"Yards_To_Pin\": 484, \"Pin_Distance\": 484, \"Club\": \"54 Degree Wedge\"}"
        ],
        [
         "{\"Record\": \"31d1f0c8-fa07-40ef-b5f3-73269a2dcb77\", \"Hole\": \"11\", \"Golfer\": \"Bob\", \"Stroke\": 1, \"Par\": 5, \"Yards_To_Pin\": 233, \"Pin_Distance\": 460, \"Club\": \"Driver\"}"
        ],
        [
         "{\"Record\": \"c539c840-938e-4ea0-bf84-db93656af7bb\", \"Hole\": \"11\", \"Golfer\": \"Bob\", \"Stroke\": 2, \"Par\": 5, \"Yards_To_Pin\": 340, \"Pin_Distance\": 460, \"Club\": \"6 Iron\"}"
        ],
        [
         "{\"Record\": \"90e380fd-bb77-41b8-83ac-6afc2795c4cc\", \"Hole\": \"11\", \"Golfer\": \"Bob\", \"Stroke\": 3, \"Par\": 5, \"Yards_To_Pin\": 410, \"Pin_Distance\": 460, \"Club\": \"52 Degree Wedge\"}"
        ],
        [
         "{\"Record\": \"f120cd91-a91c-4604-b846-6abc962a52b3\", \"Hole\": \"11\", \"Golfer\": \"Bob\", \"Stroke\": 4, \"Par\": 5, \"Yards_To_Pin\": 454, \"Pin_Distance\": 460, \"Club\": \"54 Degree Wedge\"}"
        ],
        [
         "{\"Record\": \"1de27035-d9f0-4e09-bad6-90bb79d24d2f\", \"Hole\": \"11\", \"Golfer\": \"Bob\", \"Stroke\": 5, \"Par\": 5, \"Yards_To_Pin\": 460, \"Pin_Distance\": 460, \"Club\": \"56 Degree Wedge\"}"
        ],
        [
         "{\"Record\": \"aeeffe5d-199c-4047-a9c5-22637b133618\", \"Hole\": \"12\", \"Golfer\": \"Bob\", \"Stroke\": 1, \"Par\": 4, \"Yards_To_Pin\": 212, \"Pin_Distance\": 427, \"Club\": \"3 Wood\"}"
        ],
        [
         "{\"Record\": \"a2624b64-9288-4f36-bead-15a33ba999ac\", \"Hole\": \"12\", \"Golfer\": \"Bob\", \"Stroke\": 2, \"Par\": 4, \"Yards_To_Pin\": 316, \"Pin_Distance\": 427, \"Club\": \"9 Iron\"}"
        ],
        [
         "{\"Record\": \"72c9f8f3-cb02-4fdc-832d-1def601b1434\", \"Hole\": \"12\", \"Golfer\": \"Bob\", \"Stroke\": 3, \"Par\": 4, \"Yards_To_Pin\": 351, \"Pin_Distance\": 427, \"Club\": \"54 Degree Wedge\"}"
        ],
        [
         "{\"Record\": \"6ee05156-f8ed-48ca-8582-73278a98eec0\", \"Hole\": \"12\", \"Golfer\": \"Bob\", \"Stroke\": 4, \"Par\": 4, \"Yards_To_Pin\": 399, \"Pin_Distance\": 427, \"Club\": \"52 Degree Wedge\"}"
        ],
        [
         "{\"Record\": \"b13d2b0b-d688-4ad9-b195-6aa018bee910\", \"Hole\": \"12\", \"Golfer\": \"Bob\", \"Stroke\": 5, \"Par\": 4, \"Yards_To_Pin\": 422, \"Pin_Distance\": 427, \"Club\": \"54 Degree Wedge\"}"
        ],
        [
         "{\"Record\": \"e1819f2b-c26d-4efe-84c1-e362b8c8d053\", \"Hole\": \"12\", \"Golfer\": \"Bob\", \"Stroke\": 6, \"Par\": 4, \"Yards_To_Pin\": 427, \"Pin_Distance\": 427, \"Club\": \"Putter\"}"
        ],
        [
         "{\"Record\": \"814f6af6-b86f-48d6-b9f2-ebfb5610db1c\", \"Hole\": \"13\", \"Golfer\": \"Bob\", \"Stroke\": 1, \"Par\": 5, \"Yards_To_Pin\": 257, \"Pin_Distance\": 479, \"Club\": \"3 Wood\"}"
        ],
        [
         "{\"Record\": \"708e5283-7d88-4c45-915b-6a31badc89b8\", \"Hole\": \"13\", \"Golfer\": \"Bob\", \"Stroke\": 2, \"Par\": 5, \"Yards_To_Pin\": 377, \"Pin_Distance\": 479, \"Club\": \"9 Iron\"}"
        ],
        [
         "{\"Record\": \"c1306d6f-60b5-4148-926c-42abc33e8cfd\", \"Hole\": \"13\", \"Golfer\": \"Bob\", \"Stroke\": 3, \"Par\": 5, \"Yards_To_Pin\": 460, \"Pin_Distance\": 479, \"Club\": \"56 Degree Wedge\"}"
        ],
        [
         "{\"Record\": \"a2b1dc60-1474-4a9e-b2a7-e850820e1483\", \"Hole\": \"13\", \"Golfer\": \"Bob\", \"Stroke\": 4, \"Par\": 5, \"Yards_To_Pin\": 479, \"Pin_Distance\": 479, \"Club\": \"52 Degree Wedge\"}"
        ],
        [
         "{\"Record\": \"25f85a70-c24a-4d71-afc5-64d14fbfa21f\", \"Hole\": \"14\", \"Golfer\": \"Bob\", \"Stroke\": 1, \"Par\": 5, \"Yards_To_Pin\": 261, \"Pin_Distance\": 492, \"Club\": \"Driver\"}"
        ],
        [
         "{\"Record\": \"71a2598c-d339-47cd-813c-28ecb3f8dfff\", \"Hole\": \"14\", \"Golfer\": \"Bob\", \"Stroke\": 2, \"Par\": 5, \"Yards_To_Pin\": 371, \"Pin_Distance\": 492, \"Club\": \"6 Iron\"}"
        ],
        [
         "{\"Record\": \"2d06d4b4-7c34-45f9-ae7e-c22d6d163363\", \"Hole\": \"14\", \"Golfer\": \"Bob\", \"Stroke\": 3, \"Par\": 5, \"Yards_To_Pin\": 444, \"Pin_Distance\": 492, \"Club\": \"52 Degree Wedge\"}"
        ],
        [
         "{\"Record\": \"bb827b5d-3a3c-4181-a9cd-e2c3b57ef899\", \"Hole\": \"14\", \"Golfer\": \"Bob\", \"Stroke\": 4, \"Par\": 5, \"Yards_To_Pin\": 492, \"Pin_Distance\": 492, \"Club\": \"52 Degree Wedge\"}"
        ],
        [
         "{\"Record\": \"08467b78-3868-45ae-a6d4-112fb99629ba\", \"Hole\": \"15\", \"Golfer\": \"Bob\", \"Stroke\": 1, \"Par\": 4, \"Yards_To_Pin\": 203, \"Pin_Distance\": 450, \"Club\": \"3 Wood\"}"
        ],
        [
         "{\"Record\": \"8d3392d0-85c8-40a1-969d-0fb1e8e95771\", \"Hole\": \"15\", \"Golfer\": \"Bob\", \"Stroke\": 2, \"Par\": 4, \"Yards_To_Pin\": 318, \"Pin_Distance\": 450, \"Club\": \"7 Iron\"}"
        ],
        [
         "{\"Record\": \"000c9fdc-e728-4039-817e-e79373f83202\", \"Hole\": \"15\", \"Golfer\": \"Bob\", \"Stroke\": 3, \"Par\": 4, \"Yards_To_Pin\": 368, \"Pin_Distance\": 450, \"Club\": \"56 Degree Wedge\"}"
        ],
        [
         "{\"Record\": \"80d28688-0337-4aba-be45-ff280b71bc00\", \"Hole\": \"15\", \"Golfer\": \"Bob\", \"Stroke\": 4, \"Par\": 4, \"Yards_To_Pin\": 415, \"Pin_Distance\": 450, \"Club\": \"52 Degree Wedge\"}"
        ],
        [
         "{\"Record\": \"2daea1ab-31cf-492c-aac3-a69ffe8f6e38\", \"Hole\": \"15\", \"Golfer\": \"Bob\", \"Stroke\": 5, \"Par\": 4, \"Yards_To_Pin\": 440, \"Pin_Distance\": 450, \"Club\": \"54 Degree Wedge\"}"
        ],
        [
         "{\"Record\": \"19d8c18b-596e-450d-9c7f-bd870094ad78\", \"Hole\": \"15\", \"Golfer\": \"Bob\", \"Stroke\": 6, \"Par\": 4, \"Yards_To_Pin\": 450, \"Pin_Distance\": 450, \"Club\": \"Putter\"}"
        ],
        [
         "{\"Record\": \"d4c11fbf-2a40-4441-a934-a918eabb470d\", \"Hole\": \"16\", \"Golfer\": \"Bob\", \"Stroke\": 1, \"Par\": 4, \"Yards_To_Pin\": 220, \"Pin_Distance\": 414, \"Club\": \"Driver\"}"
        ],
        [
         "{\"Record\": \"e9df99de-be53-4232-9c82-c5108ce25900\", \"Hole\": \"16\", \"Golfer\": \"Bob\", \"Stroke\": 2, \"Par\": 4, \"Yards_To_Pin\": 336, \"Pin_Distance\": 414, \"Club\": \"8 Iron\"}"
        ],
        [
         "{\"Record\": \"1ee40783-7c7c-48e6-bd1a-e312a01dd449\", \"Hole\": \"16\", \"Golfer\": \"Bob\", \"Stroke\": 3, \"Par\": 4, \"Yards_To_Pin\": 377, \"Pin_Distance\": 414, \"Club\": \"56 Degree Wedge\"}"
        ],
        [
         "{\"Record\": \"21584f56-6ddb-4446-bf79-ca5a287a0678\", \"Hole\": \"16\", \"Golfer\": \"Bob\", \"Stroke\": 4, \"Par\": 4, \"Yards_To_Pin\": 414, \"Pin_Distance\": 414, \"Club\": \"54 Degree Wedge\"}"
        ],
        [
         "{\"Record\": \"85dfe6ff-0eac-4847-b9df-5efbb4c1b896\", \"Hole\": \"17\", \"Golfer\": \"Bob\", \"Stroke\": 1, \"Par\": 4, \"Yards_To_Pin\": 204, \"Pin_Distance\": 400, \"Club\": \"Driver\"}"
        ],
        [
         "{\"Record\": \"aa133f7a-741f-4dd0-9b57-c1c6b38cb1b0\", \"Hole\": \"17\", \"Golfer\": \"Bob\", \"Stroke\": 2, \"Par\": 4, \"Yards_To_Pin\": 312, \"Pin_Distance\": 400, \"Club\": \"9 Iron\"}"
        ],
        [
         "{\"Record\": \"08d8b419-458e-4969-a2e7-c6bfb1b08cd9\", \"Hole\": \"17\", \"Golfer\": \"Bob\", \"Stroke\": 3, \"Par\": 4, \"Yards_To_Pin\": 354, \"Pin_Distance\": 400, \"Club\": \"52 Degree Wedge\"}"
        ],
        [
         "{\"Record\": \"fd236c1f-786e-4e9c-8c77-c383225e8955\", \"Hole\": \"17\", \"Golfer\": \"Bob\", \"Stroke\": 4, \"Par\": 4, \"Yards_To_Pin\": 398, \"Pin_Distance\": 400, \"Club\": \"52 Degree Wedge\"}"
        ],
        [
         "{\"Record\": \"7f73478e-da93-41f9-a23c-a2df14188f9b\", \"Hole\": \"17\", \"Golfer\": \"Bob\", \"Stroke\": 5, \"Par\": 4, \"Yards_To_Pin\": 400, \"Pin_Distance\": 400, \"Club\": \"56 Degree Wedge\"}"
        ],
        [
         "{\"Record\": \"49d1d600-62c5-48b3-b402-e5d431b067ee\", \"Hole\": \"18\", \"Golfer\": \"Bob\", \"Stroke\": 1, \"Par\": 5, \"Yards_To_Pin\": 231, \"Pin_Distance\": 483, \"Club\": \"Driver\"}"
        ],
        [
         "{\"Record\": \"5ef9c0a8-e4bd-40d8-aa56-2cea3744feba\", \"Hole\": \"18\", \"Golfer\": \"Bob\", \"Stroke\": 2, \"Par\": 5, \"Yards_To_Pin\": 339, \"Pin_Distance\": 483, \"Club\": \"7 Iron\"}"
        ],
        [
         "{\"Record\": \"158fe8af-6a01-4ac8-a291-6d021c9e64e3\", \"Hole\": \"18\", \"Golfer\": \"Bob\", \"Stroke\": 3, \"Par\": 5, \"Yards_To_Pin\": 409, \"Pin_Distance\": 483, \"Club\": \"52 Degree Wedge\"}"
        ],
        [
         "{\"Record\": \"dfe6649f-2678-427e-ac8c-cca8d45980a0\", \"Hole\": \"18\", \"Golfer\": \"Bob\", \"Stroke\": 4, \"Par\": 5, \"Yards_To_Pin\": 449, \"Pin_Distance\": 483, \"Club\": \"54 Degree Wedge\"}"
        ],
        [
         "{\"Record\": \"ff4b17b9-ce21-41b7-8400-ddfc8422cecb\", \"Hole\": \"18\", \"Golfer\": \"Bob\", \"Stroke\": 5, \"Par\": 5, \"Yards_To_Pin\": 472, \"Pin_Distance\": 483, \"Club\": \"56 Degree Wedge\"}"
        ],
        [
         "{\"Record\": \"1a04cb8d-dc7a-4cf8-be5f-0c7a8a8e8a37\", \"Hole\": \"18\", \"Golfer\": \"Bob\", \"Stroke\": 6, \"Par\": 5, \"Yards_To_Pin\": 483, \"Pin_Distance\": 483, \"Club\": \"Putter\"}"
        ],
        [
         "{\"Record\": \"b7880b02-976a-4837-9f6f-20b0e8acd7e2\", \"Hole\": \"1\", \"Golfer\": \"Bob\", \"Stroke\": 1, \"Par\": 5, \"Yards_To_Pin\": 203, \"Pin_Distance\": 475, \"Club\": \"3 Wood\"}"
        ],
        [
         "{\"Record\": \"7e5816c2-ee05-452c-8a80-e0051d136a15\", \"Hole\": \"1\", \"Golfer\": \"Bob\", \"Stroke\": 2, \"Par\": 5, \"Yards_To_Pin\": 308, \"Pin_Distance\": 475, \"Club\": \"8 Iron\"}"
        ],
        [
         "{\"Record\": \"6ea0c825-7ef5-4f3e-b655-4ed00ffad722\", \"Hole\": \"1\", \"Golfer\": \"Bob\", \"Stroke\": 3, \"Par\": 5, \"Yards_To_Pin\": 388, \"Pin_Distance\": 475, \"Club\": \"56 Degree Wedge\"}"
        ],
        [
         "{\"Record\": \"04b7316a-9bd3-4d40-b1cb-c9b11a24b802\", \"Hole\": \"1\", \"Golfer\": \"Bob\", \"Stroke\": 4, \"Par\": 5, \"Yards_To_Pin\": 437, \"Pin_Distance\": 475, \"Club\": \"54 Degree Wedge\"}"
        ],
        [
         "{\"Record\": \"5d18d6e8-73dd-44a5-aaf0-752cd4db120a\", \"Hole\": \"1\", \"Golfer\": \"Bob\", \"Stroke\": 5, \"Par\": 5, \"Yards_To_Pin\": 459, \"Pin_Distance\": 475, \"Club\": \"54 Degree Wedge\"}"
        ],
        [
         "{\"Record\": \"9d0bd9c4-b4fa-4720-925a-274e282ef1bc\", \"Hole\": \"1\", \"Golfer\": \"Bob\", \"Stroke\": 6, \"Par\": 5, \"Yards_To_Pin\": 475, \"Pin_Distance\": 475, \"Club\": \"Putter\"}"
        ],
        [
         "{\"Record\": \"953d0db9-0cae-4fae-a6cb-37a61b7b4154\", \"Hole\": \"2\", \"Golfer\": \"Bob\", \"Stroke\": 1, \"Par\": 5, \"Yards_To_Pin\": 205, \"Pin_Distance\": 453, \"Club\": \"3 Wood\"}"
        ],
        [
         "{\"Record\": \"3cfc6ff4-d432-4cb9-acb5-d3e0a737ef58\", \"Hole\": \"2\", \"Golfer\": \"Bob\", \"Stroke\": 2, \"Par\": 5, \"Yards_To_Pin\": 324, \"Pin_Distance\": 453, \"Club\": \"6 Iron\"}"
        ],
        [
         "{\"Record\": \"c910a22d-2d43-4faf-98fa-707aa2cc5fdf\", \"Hole\": \"2\", \"Golfer\": \"Bob\", \"Stroke\": 3, \"Par\": 5, \"Yards_To_Pin\": 386, \"Pin_Distance\": 453, \"Club\": \"56 Degree Wedge\"}"
        ],
        [
         "{\"Record\": \"7c4b9134-e4a0-4a36-8bb1-d4323df45e02\", \"Hole\": \"2\", \"Golfer\": \"Bob\", \"Stroke\": 4, \"Par\": 5, \"Yards_To_Pin\": 432, \"Pin_Distance\": 453, \"Club\": \"54 Degree Wedge\"}"
        ],
        [
         "{\"Record\": \"6fd6f675-117c-493c-b477-4abc0fdb7b62\", \"Hole\": \"2\", \"Golfer\": \"Bob\", \"Stroke\": 5, \"Par\": 5, \"Yards_To_Pin\": 453, \"Pin_Distance\": 453, \"Club\": \"56 Degree Wedge\"}"
        ],
        [
         "{\"Record\": \"41277e26-7c72-44f2-8b7b-11d25953557c\", \"Hole\": \"3\", \"Golfer\": \"Bob\", \"Stroke\": 1, \"Par\": 4, \"Yards_To_Pin\": 217, \"Pin_Distance\": 419, \"Club\": \"3 Wood\"}"
        ],
        [
         "{\"Record\": \"3340ef6f-1323-49b6-9f94-b3663f03a24d\", \"Hole\": \"3\", \"Golfer\": \"Bob\", \"Stroke\": 2, \"Par\": 4, \"Yards_To_Pin\": 326, \"Pin_Distance\": 419, \"Club\": \"7 Iron\"}"
        ],
        [
         "{\"Record\": \"1f958b6f-cc5f-4a0b-858b-f4875d3dfbcf\", \"Hole\": \"3\", \"Golfer\": \"Bob\", \"Stroke\": 3, \"Par\": 4, \"Yards_To_Pin\": 378, \"Pin_Distance\": 419, \"Club\": \"54 Degree Wedge\"}"
        ],
        [
         "{\"Record\": \"1c867f3f-01bf-4738-920d-ff29715b1aa6\", \"Hole\": \"3\", \"Golfer\": \"Bob\", \"Stroke\": 4, \"Par\": 4, \"Yards_To_Pin\": 419, \"Pin_Distance\": 419, \"Club\": \"54 Degree Wedge\"}"
        ],
        [
         "{\"Record\": \"ddfd1237-d514-4862-b680-39959bbd9302\", \"Hole\": \"4\", \"Golfer\": \"Bob\", \"Stroke\": 1, \"Par\": 5, \"Yards_To_Pin\": 242, \"Pin_Distance\": 459, \"Club\": \"3 Wood\"}"
        ],
        [
         "{\"Record\": \"be10eb6a-837f-4b24-8cd0-0aae030331a6\", \"Hole\": \"4\", \"Golfer\": \"Bob\", \"Stroke\": 2, \"Par\": 5, \"Yards_To_Pin\": 355, \"Pin_Distance\": 459, \"Club\": \"9 Iron\"}"
        ],
        [
         "{\"Record\": \"ae3d9ab2-7d87-424b-ae8f-d0aeda1f4639\", \"Hole\": \"4\", \"Golfer\": \"Bob\", \"Stroke\": 3, \"Par\": 5, \"Yards_To_Pin\": 397, \"Pin_Distance\": 459, \"Club\": \"52 Degree Wedge\"}"
        ],
        [
         "{\"Record\": \"49d4ad8b-43c1-4a4c-bf2d-960aac8f2b39\", \"Hole\": \"4\", \"Golfer\": \"Bob\", \"Stroke\": 4, \"Par\": 5, \"Yards_To_Pin\": 435, \"Pin_Distance\": 459, \"Club\": \"54 Degree Wedge\"}"
        ],
        [
         "{\"Record\": \"0cc6db7f-28f8-482c-b5e7-c72bba1228c2\", \"Hole\": \"4\", \"Golfer\": \"Bob\", \"Stroke\": 5, \"Par\": 5, \"Yards_To_Pin\": 459, \"Pin_Distance\": 459, \"Club\": \"56 Degree Wedge\"}"
        ],
        [
         "{\"Record\": \"185c3fc0-1a23-4765-babd-c0efb7a8c620\", \"Hole\": \"5\", \"Golfer\": \"Bob\", \"Stroke\": 1, \"Par\": 5, \"Yards_To_Pin\": 214, \"Pin_Distance\": 452, \"Club\": \"Driver\"}"
        ],
        [
         "{\"Record\": \"36414ab8-caab-4f01-9937-388a690366fc\", \"Hole\": \"5\", \"Golfer\": \"Bob\", \"Stroke\": 2, \"Par\": 5, \"Yards_To_Pin\": 328, \"Pin_Distance\": 452, \"Club\": \"9 Iron\"}"
        ],
        [
         "{\"Record\": \"7c037594-ae6e-41f0-af02-325d1ca23e1c\", \"Hole\": \"5\", \"Golfer\": \"Bob\", \"Stroke\": 3, \"Par\": 5, \"Yards_To_Pin\": 395, \"Pin_Distance\": 452, \"Club\": \"54 Degree Wedge\"}"
        ],
        [
         "{\"Record\": \"bd8a7e74-bc95-4be3-95d1-c7df1c0b08bf\", \"Hole\": \"5\", \"Golfer\": \"Bob\", \"Stroke\": 4, \"Par\": 5, \"Yards_To_Pin\": 438, \"Pin_Distance\": 452, \"Club\": \"54 Degree Wedge\"}"
        ],
        [
         "{\"Record\": \"3a6fcd42-b6cd-4bab-9244-463512798dc4\", \"Hole\": \"5\", \"Golfer\": \"Bob\", \"Stroke\": 5, \"Par\": 5, \"Yards_To_Pin\": 452, \"Pin_Distance\": 452, \"Club\": \"54 Degree Wedge\"}"
        ],
        [
         "{\"Record\": \"becc32d4-142c-4fe2-a3fa-28d13b811827\", \"Hole\": \"6\", \"Golfer\": \"Bob\", \"Stroke\": 1, \"Par\": 3, \"Yards_To_Pin\": 97, \"Pin_Distance\": 199, \"Club\": \"8 Iron\"}"
        ],
        [
         "{\"Record\": \"80523017-1d15-488c-bee4-e027f854bb1b\", \"Hole\": \"6\", \"Golfer\": \"Bob\", \"Stroke\": 2, \"Par\": 3, \"Yards_To_Pin\": 121, \"Pin_Distance\": 199, \"Club\": \"54 Degree Wedge\"}"
        ],
        [
         "{\"Record\": \"3f346751-cec4-4445-86e1-7a4de6999166\", \"Hole\": \"6\", \"Golfer\": \"Bob\", \"Stroke\": 3, \"Par\": 3, \"Yards_To_Pin\": 148, \"Pin_Distance\": 199, \"Club\": \"Putter\"}"
        ],
        [
         "{\"Record\": \"e7128067-81b8-4d60-adf6-6512d8f35224\", \"Hole\": \"6\", \"Golfer\": \"Bob\", \"Stroke\": 4, \"Par\": 3, \"Yards_To_Pin\": 194, \"Pin_Distance\": 199, \"Club\": \"Putter\"}"
        ],
        [
         "{\"Record\": \"e6eded55-7b17-4d6c-95cc-11905080ad88\", \"Hole\": \"6\", \"Golfer\": \"Bob\", \"Stroke\": 5, \"Par\": 3, \"Yards_To_Pin\": 199, \"Pin_Distance\": 199, \"Club\": \"Putter\"}"
        ],
        [
         "{\"Record\": \"0b45945c-7793-4ff6-bb20-c18efa22f3a9\", \"Hole\": \"7\", \"Golfer\": \"Bob\", \"Stroke\": 1, \"Par\": 4, \"Yards_To_Pin\": 208, \"Pin_Distance\": 390, \"Club\": \"3 Wood\"}"
        ],
        [
         "{\"Record\": \"b1761419-5193-48f7-a084-549447d3e1ee\", \"Hole\": \"7\", \"Golfer\": \"Bob\", \"Stroke\": 2, \"Par\": 4, \"Yards_To_Pin\": 311, \"Pin_Distance\": 390, \"Club\": \"8 Iron\"}"
        ],
        [
         "{\"Record\": \"e1ce50b4-da61-4375-a8a1-51e4dd128c4a\", \"Hole\": \"7\", \"Golfer\": \"Bob\", \"Stroke\": 3, \"Par\": 4, \"Yards_To_Pin\": 373, \"Pin_Distance\": 390, \"Club\": \"56 Degree Wedge\"}"
        ],
        [
         "{\"Record\": \"f7936abc-d4f3-4a56-b7ea-82dd5d70ea4a\", \"Hole\": \"7\", \"Golfer\": \"Bob\", \"Stroke\": 4, \"Par\": 4, \"Yards_To_Pin\": 390, \"Pin_Distance\": 390, \"Club\": \"54 Degree Wedge\"}"
        ],
        [
         "{\"Record\": \"35e73804-36f0-423b-8b1f-909cfc792355\", \"Hole\": \"8\", \"Golfer\": \"Bob\", \"Stroke\": 1, \"Par\": 3, \"Yards_To_Pin\": 100, \"Pin_Distance\": 174, \"Club\": \"6 Iron\"}"
        ],
        [
         "{\"Record\": \"7f2710ad-6d89-4244-b0b6-2e1a598220d6\", \"Hole\": \"8\", \"Golfer\": \"Bob\", \"Stroke\": 2, \"Par\": 3, \"Yards_To_Pin\": 127, \"Pin_Distance\": 174, \"Club\": \"52 Degree Wedge\"}"
        ],
        [
         "{\"Record\": \"2224cd48-4f8b-4544-844d-e4df86a81bd2\", \"Hole\": \"8\", \"Golfer\": \"Bob\", \"Stroke\": 3, \"Par\": 3, \"Yards_To_Pin\": 152, \"Pin_Distance\": 174, \"Club\": \"Putter\"}"
        ],
        [
         "{\"Record\": \"dd9482cc-ea44-44f1-92a8-e0186752619e\", \"Hole\": \"8\", \"Golfer\": \"Bob\", \"Stroke\": 4, \"Par\": 3, \"Yards_To_Pin\": 174, \"Pin_Distance\": 174, \"Club\": \"Putter\"}"
        ],
        [
         "{\"Record\": \"4a6b7301-d0b8-4db4-ab2d-b37c467fdde8\", \"Hole\": \"9\", \"Golfer\": \"Bob\", \"Stroke\": 1, \"Par\": 3, \"Yards_To_Pin\": 128, \"Pin_Distance\": 166, \"Club\": \"9 Iron\"}"
        ],
        [
         "{\"Record\": \"ea132dac-7024-42ec-8794-1e91ea4d99ba\", \"Hole\": \"9\", \"Golfer\": \"Bob\", \"Stroke\": 2, \"Par\": 3, \"Yards_To_Pin\": 153, \"Pin_Distance\": 166, \"Club\": \"54 Degree Wedge\"}"
        ],
        [
         "{\"Record\": \"3906b468-06ca-44dc-8431-05be98b79371\", \"Hole\": \"9\", \"Golfer\": \"Bob\", \"Stroke\": 3, \"Par\": 3, \"Yards_To_Pin\": 163, \"Pin_Distance\": 166, \"Club\": \"Putter\"}"
        ],
        [
         "{\"Record\": \"af75ba08-9d91-4969-8344-f7841afc78c2\", \"Hole\": \"9\", \"Golfer\": \"Bob\", \"Stroke\": 4, \"Par\": 3, \"Yards_To_Pin\": 166, \"Pin_Distance\": 166, \"Club\": \"Putter\"}"
        ],
        [
         "{\"Record\": \"b3ce123c-ca61-476d-9d19-99c07f5f36cd\", \"Hole\": \"10\", \"Golfer\": \"Bob\", \"Stroke\": 1, \"Par\": 5, \"Yards_To_Pin\": 250, \"Pin_Distance\": 455, \"Club\": \"Driver\"}"
        ],
        [
         "{\"Record\": \"95ca870d-fefc-4ac7-b630-637f68ce089b\", \"Hole\": \"10\", \"Golfer\": \"Bob\", \"Stroke\": 2, \"Par\": 5, \"Yards_To_Pin\": 361, \"Pin_Distance\": 455, \"Club\": \"9 Iron\"}"
        ],
        [
         "{\"Record\": \"e0e5f8fc-e2ff-4448-9aeb-6813be3e88e6\", \"Hole\": \"10\", \"Golfer\": \"Bob\", \"Stroke\": 3, \"Par\": 5, \"Yards_To_Pin\": 415, \"Pin_Distance\": 455, \"Club\": \"52 Degree Wedge\"}"
        ],
        [
         "{\"Record\": \"d1196e7b-b2c0-413a-b4b7-48ddbc07f9a1\", \"Hole\": \"10\", \"Golfer\": \"Bob\", \"Stroke\": 4, \"Par\": 5, \"Yards_To_Pin\": 451, \"Pin_Distance\": 455, \"Club\": \"52 Degree Wedge\"}"
        ],
        [
         "{\"Record\": \"3b58cc32-cd8f-4261-b0fd-2f5f1c181b1c\", \"Hole\": \"10\", \"Golfer\": \"Bob\", \"Stroke\": 5, \"Par\": 5, \"Yards_To_Pin\": 455, \"Pin_Distance\": 455, \"Club\": \"56 Degree Wedge\"}"
        ],
        [
         "{\"Record\": \"27adb044-7ece-4d49-b70d-7d6d1218309f\", \"Hole\": \"11\", \"Golfer\": \"Bob\", \"Stroke\": 1, \"Par\": 4, \"Yards_To_Pin\": 254, \"Pin_Distance\": 407, \"Club\": \"Driver\"}"
        ],
        [
         "{\"Record\": \"737a1daf-345c-4804-97af-6a17feb964a9\", \"Hole\": \"11\", \"Golfer\": \"Bob\", \"Stroke\": 2, \"Par\": 4, \"Yards_To_Pin\": 368, \"Pin_Distance\": 407, \"Club\": \"6 Iron\"}"
        ],
        [
         "{\"Record\": \"2cb08f97-f621-41d3-be9b-8b74ae15dd3a\", \"Hole\": \"11\", \"Golfer\": \"Bob\", \"Stroke\": 3, \"Par\": 4, \"Yards_To_Pin\": 407, \"Pin_Distance\": 407, \"Club\": \"54 Degree Wedge\"}"
        ],
        [
         "{\"Record\": \"ef97d8ea-b2ec-4123-bb58-86c9b80ca128\", \"Hole\": \"12\", \"Golfer\": \"Bob\", \"Stroke\": 1, \"Par\": 5, \"Yards_To_Pin\": 200, \"Pin_Distance\": 474, \"Club\": \"Driver\"}"
        ],
        [
         "{\"Record\": \"a011e759-c07b-4faf-ad58-f2752196963a\", \"Hole\": \"12\", \"Golfer\": \"Bob\", \"Stroke\": 2, \"Par\": 5, \"Yards_To_Pin\": 308, \"Pin_Distance\": 474, \"Club\": \"8 Iron\"}"
        ],
        [
         "{\"Record\": \"c1bd3e37-ad8c-4dfa-ab1d-14b303bf6a0d\", \"Hole\": \"12\", \"Golfer\": \"Bob\", \"Stroke\": 3, \"Par\": 5, \"Yards_To_Pin\": 398, \"Pin_Distance\": 474, \"Club\": \"54 Degree Wedge\"}"
        ],
        [
         "{\"Record\": \"77a6eff6-65f0-4424-a181-f9100ada5a32\", \"Hole\": \"12\", \"Golfer\": \"Bob\", \"Stroke\": 4, \"Par\": 5, \"Yards_To_Pin\": 446, \"Pin_Distance\": 474, \"Club\": \"54 Degree Wedge\"}"
        ],
        [
         "{\"Record\": \"46603cb7-871a-4d7c-9906-07af3fd789a7\", \"Hole\": \"12\", \"Golfer\": \"Bob\", \"Stroke\": 5, \"Par\": 5, \"Yards_To_Pin\": 468, \"Pin_Distance\": 474, \"Club\": \"54 Degree Wedge\"}"
        ],
        [
         "{\"Record\": \"b139a736-8c61-42ab-8d02-6f741f1d8b8e\", \"Hole\": \"12\", \"Golfer\": \"Bob\", \"Stroke\": 6, \"Par\": 5, \"Yards_To_Pin\": 474, \"Pin_Distance\": 474, \"Club\": \"Putter\"}"
        ],
        [
         "{\"Record\": \"12220731-d834-4b3d-a8c3-53b98933465a\", \"Hole\": \"13\", \"Golfer\": \"Bob\", \"Stroke\": 1, \"Par\": 4, \"Yards_To_Pin\": 218, \"Pin_Distance\": 443, \"Club\": \"Driver\"}"
        ],
        [
         "{\"Record\": \"669f6569-22b6-46e3-b15e-ba18d7b822ae\", \"Hole\": \"13\", \"Golfer\": \"Bob\", \"Stroke\": 2, \"Par\": 4, \"Yards_To_Pin\": 336, \"Pin_Distance\": 443, \"Club\": \"6 Iron\"}"
        ],
        [
         "{\"Record\": \"ed3d87f3-4b28-44d7-9613-5b118424e1e0\", \"Hole\": \"13\", \"Golfer\": \"Bob\", \"Stroke\": 3, \"Par\": 4, \"Yards_To_Pin\": 421, \"Pin_Distance\": 443, \"Club\": \"54 Degree Wedge\"}"
        ],
        [
         "{\"Record\": \"a59d4b37-61fd-4a46-8c56-ad19c11c751f\", \"Hole\": \"13\", \"Golfer\": \"Bob\", \"Stroke\": 4, \"Par\": 4, \"Yards_To_Pin\": 443, \"Pin_Distance\": 443, \"Club\": \"54 Degree Wedge\"}"
        ],
        [
         "{\"Record\": \"f1ca0237-7c42-41aa-ad00-7098de30d53f\", \"Hole\": \"14\", \"Golfer\": \"Bob\", \"Stroke\": 1, \"Par\": 3, \"Yards_To_Pin\": 80, \"Pin_Distance\": 191, \"Club\": \"7 Iron\"}"
        ],
        [
         "{\"Record\": \"feb8ea6a-6636-4066-8f79-4b011b5b79da\", \"Hole\": \"14\", \"Golfer\": \"Bob\", \"Stroke\": 2, \"Par\": 3, \"Yards_To_Pin\": 103, \"Pin_Distance\": 191, \"Club\": \"52 Degree Wedge\"}"
        ],
        [
         "{\"Record\": \"9f2670bf-f89d-4203-96fb-6479a60eba62\", \"Hole\": \"14\", \"Golfer\": \"Bob\", \"Stroke\": 3, \"Par\": 3, \"Yards_To_Pin\": 122, \"Pin_Distance\": 191, \"Club\": \"Putter\"}"
        ],
        [
         "{\"Record\": \"22104b26-c74b-4ca5-935a-bea82abc9ca7\", \"Hole\": \"14\", \"Golfer\": \"Bob\", \"Stroke\": 4, \"Par\": 3, \"Yards_To_Pin\": 168, \"Pin_Distance\": 191, \"Club\": \"Putter\"}"
        ],
        [
         "{\"Record\": \"cdae176e-2bca-4699-a3bf-748eea4051b2\", \"Hole\": \"14\", \"Golfer\": \"Bob\", \"Stroke\": 5, \"Par\": 3, \"Yards_To_Pin\": 191, \"Pin_Distance\": 191, \"Club\": \"Putter\"}"
        ],
        [
         "{\"Record\": \"29ba8fc5-306e-47fd-bced-285c8aefae14\", \"Hole\": \"15\", \"Golfer\": \"Bob\", \"Stroke\": 1, \"Par\": 3, \"Yards_To_Pin\": 122, \"Pin_Distance\": 162, \"Club\": \"9 Iron\"}"
        ],
        [
         "{\"Record\": \"e6c2d0f4-ee22-4cf8-a8f4-61161afb6f2c\", \"Hole\": \"15\", \"Golfer\": \"Bob\", \"Stroke\": 2, \"Par\": 3, \"Yards_To_Pin\": 144, \"Pin_Distance\": 162, \"Club\": \"54 Degree Wedge\"}"
        ],
        [
         "{\"Record\": \"077fcf86-7aa9-49ab-939f-777a2fff380d\", \"Hole\": \"15\", \"Golfer\": \"Bob\", \"Stroke\": 3, \"Par\": 3, \"Yards_To_Pin\": 162, \"Pin_Distance\": 162, \"Club\": \"Putter\"}"
        ],
        [
         "{\"Record\": \"af95f067-8579-43d7-a0ce-cf73e640801e\", \"Hole\": \"16\", \"Golfer\": \"Bob\", \"Stroke\": 1, \"Par\": 3, \"Yards_To_Pin\": 103, \"Pin_Distance\": 175, \"Club\": \"8 Iron\"}"
        ],
        [
         "{\"Record\": \"908696a7-5b04-4ce9-b0d7-df1738e2ee00\", \"Hole\": \"16\", \"Golfer\": \"Bob\", \"Stroke\": 2, \"Par\": 3, \"Yards_To_Pin\": 129, \"Pin_Distance\": 175, \"Club\": \"52 Degree Wedge\"}"
        ],
        [
         "{\"Record\": \"698dde43-c6c9-416c-8ffb-a6cfed7d1bd0\", \"Hole\": \"16\", \"Golfer\": \"Bob\", \"Stroke\": 3, \"Par\": 3, \"Yards_To_Pin\": 142, \"Pin_Distance\": 175, \"Club\": \"Putter\"}"
        ],
        [
         "{\"Record\": \"91cedcf0-3cba-4403-8040-d49083fe8f47\", \"Hole\": \"16\", \"Golfer\": \"Bob\", \"Stroke\": 4, \"Par\": 3, \"Yards_To_Pin\": 175, \"Pin_Distance\": 175, \"Club\": \"Putter\"}"
        ],
        [
         "{\"Record\": \"417508b5-7775-4472-aa04-12d881d0cf6d\", \"Hole\": \"17\", \"Golfer\": \"Bob\", \"Stroke\": 1, \"Par\": 4, \"Yards_To_Pin\": 207, \"Pin_Distance\": 405, \"Club\": \"Driver\"}"
        ],
        [
         "{\"Record\": \"958d494d-a714-4a87-8498-ce28129a5597\", \"Hole\": \"17\", \"Golfer\": \"Bob\", \"Stroke\": 2, \"Par\": 4, \"Yards_To_Pin\": 321, \"Pin_Distance\": 405, \"Club\": \"9 Iron\"}"
        ],
        [
         "{\"Record\": \"da6e6f14-f74f-48c2-9bc3-673d9a371f32\", \"Hole\": \"17\", \"Golfer\": \"Bob\", \"Stroke\": 3, \"Par\": 4, \"Yards_To_Pin\": 392, \"Pin_Distance\": 405, \"Club\": \"52 Degree Wedge\"}"
        ],
        [
         "{\"Record\": \"92b4a923-0f07-4de7-8b3d-e8298ba1e4c6\", \"Hole\": \"17\", \"Golfer\": \"Bob\", \"Stroke\": 4, \"Par\": 4, \"Yards_To_Pin\": 405, \"Pin_Distance\": 405, \"Club\": \"54 Degree Wedge\"}"
        ],
        [
         "{\"Record\": \"5543732a-a3b5-42eb-9932-6ce629135e51\", \"Hole\": \"18\", \"Golfer\": \"Bob\", \"Stroke\": 1, \"Par\": 4, \"Yards_To_Pin\": 218, \"Pin_Distance\": 411, \"Club\": \"3 Wood\"}"
        ],
        [
         "{\"Record\": \"7bdff915-da23-45db-b602-ac709dd826cf\", \"Hole\": \"18\", \"Golfer\": \"Bob\", \"Stroke\": 2, \"Par\": 4, \"Yards_To_Pin\": 323, \"Pin_Distance\": 411, \"Club\": \"9 Iron\"}"
        ],
        [
         "{\"Record\": \"55cf99c4-8e94-43f1-b48d-4263e90490f3\", \"Hole\": \"18\", \"Golfer\": \"Bob\", \"Stroke\": 3, \"Par\": 4, \"Yards_To_Pin\": 403, \"Pin_Distance\": 411, \"Club\": \"52 Degree Wedge\"}"
        ],
        [
         "{\"Record\": \"95ad2057-818f-4b23-90b6-2e0daf614b0d\", \"Hole\": \"18\", \"Golfer\": \"Bob\", \"Stroke\": 4, \"Par\": 4, \"Yards_To_Pin\": 411, \"Pin_Distance\": 411, \"Club\": \"52 Degree Wedge\"}"
        ],
        [
         "{\"Record\": \"6a607be4-bf07-45ff-98f6-c4e838bae815\", \"Hole\": \"1\", \"Golfer\": \"Bob\", \"Stroke\": 1, \"Par\": 3, \"Yards_To_Pin\": 123, \"Pin_Distance\": 177, \"Club\": \"9 Iron\"}"
        ],
        [
         "{\"Record\": \"889e2813-8f0e-4003-b224-352347748191\", \"Hole\": \"1\", \"Golfer\": \"Bob\", \"Stroke\": 2, \"Par\": 3, \"Yards_To_Pin\": 151, \"Pin_Distance\": 177, \"Club\": \"52 Degree Wedge\"}"
        ],
        [
         "{\"Record\": \"eef50fef-a7a1-4e25-bdd8-5e21e6073cb0\", \"Hole\": \"1\", \"Golfer\": \"Bob\", \"Stroke\": 3, \"Par\": 3, \"Yards_To_Pin\": 177, \"Pin_Distance\": 177, \"Club\": \"Putter\"}"
        ],
        [
         "{\"Record\": \"125ebe86-dc3e-424e-8b0f-11f25a5fcaa8\", \"Hole\": \"2\", \"Golfer\": \"Bob\", \"Stroke\": 1, \"Par\": 3, \"Yards_To_Pin\": 98, \"Pin_Distance\": 167, \"Club\": \"6 Iron\"}"
        ],
        [
         "{\"Record\": \"e8e83971-089a-408c-a802-3154ef0f966c\", \"Hole\": \"2\", \"Golfer\": \"Bob\", \"Stroke\": 2, \"Par\": 3, \"Yards_To_Pin\": 125, \"Pin_Distance\": 167, \"Club\": \"54 Degree Wedge\"}"
        ],
        [
         "{\"Record\": \"6779df6f-4a82-4945-905d-34038628b052\", \"Hole\": \"2\", \"Golfer\": \"Bob\", \"Stroke\": 3, \"Par\": 3, \"Yards_To_Pin\": 135, \"Pin_Distance\": 167, \"Club\": \"Putter\"}"
        ],
        [
         "{\"Record\": \"1b32822f-4751-41e8-963a-258236bffd4b\", \"Hole\": \"2\", \"Golfer\": \"Bob\", \"Stroke\": 4, \"Par\": 3, \"Yards_To_Pin\": 167, \"Pin_Distance\": 167, \"Club\": \"Putter\"}"
        ],
        [
         "{\"Record\": \"738c051f-cd3a-4e55-a1e1-78896be3c06b\", \"Hole\": \"3\", \"Golfer\": \"Bob\", \"Stroke\": 1, \"Par\": 4, \"Yards_To_Pin\": 231, \"Pin_Distance\": 408, \"Club\": \"3 Wood\"}"
        ],
        [
         "{\"Record\": \"21f193db-441b-4615-a0a8-eb42ccf86847\", \"Hole\": \"3\", \"Golfer\": \"Bob\", \"Stroke\": 2, \"Par\": 4, \"Yards_To_Pin\": 349, \"Pin_Distance\": 408, \"Club\": \"8 Iron\"}"
        ],
        [
         "{\"Record\": \"3956673c-d364-4be6-8cbc-2ee8ef7bd361\", \"Hole\": \"3\", \"Golfer\": \"Bob\", \"Stroke\": 3, \"Par\": 4, \"Yards_To_Pin\": 387, \"Pin_Distance\": 408, \"Club\": \"52 Degree Wedge\"}"
        ],
        [
         "{\"Record\": \"651c54f0-4ca5-4e6d-a1d3-ea6ad6b939aa\", \"Hole\": \"3\", \"Golfer\": \"Bob\", \"Stroke\": 4, \"Par\": 4, \"Yards_To_Pin\": 408, \"Pin_Distance\": 408, \"Club\": \"52 Degree Wedge\"}"
        ],
        [
         "{\"Record\": \"bdb4b4b2-caab-46c0-8025-bb5c4c77f0d6\", \"Hole\": \"4\", \"Golfer\": \"Bob\", \"Stroke\": 1, \"Par\": 5, \"Yards_To_Pin\": 220, \"Pin_Distance\": 494, \"Club\": \"3 Wood\"}"
        ],
        [
         "{\"Record\": \"56ca98aa-cdad-4399-8dde-119cb09ed51a\", \"Hole\": \"4\", \"Golfer\": \"Bob\", \"Stroke\": 2, \"Par\": 5, \"Yards_To_Pin\": 335, \"Pin_Distance\": 494, \"Club\": \"6 Iron\"}"
        ],
        [
         "{\"Record\": \"578f58a1-19f8-427a-aeda-7bfb6d6e85ee\", \"Hole\": \"4\", \"Golfer\": \"Bob\", \"Stroke\": 3, \"Par\": 5, \"Yards_To_Pin\": 427, \"Pin_Distance\": 494, \"Club\": \"52 Degree Wedge\"}"
        ],
        [
         "{\"Record\": \"46ea3186-c8d4-48a6-9b19-36d0f2b94b2f\", \"Hole\": \"4\", \"Golfer\": \"Bob\", \"Stroke\": 4, \"Par\": 5, \"Yards_To_Pin\": 471, \"Pin_Distance\": 494, \"Club\": \"54 Degree Wedge\"}"
        ],
        [
         "{\"Record\": \"db29a5c2-2f77-4176-b8a8-5a8a3ffa69ac\", \"Hole\": \"4\", \"Golfer\": \"Bob\", \"Stroke\": 5, \"Par\": 5, \"Yards_To_Pin\": 492, \"Pin_Distance\": 494, \"Club\": \"56 Degree Wedge\"}"
        ],
        [
         "{\"Record\": \"80117572-52da-44f2-938d-fbd3d8766e49\", \"Hole\": \"4\", \"Golfer\": \"Bob\", \"Stroke\": 6, \"Par\": 5, \"Yards_To_Pin\": 494, \"Pin_Distance\": 494, \"Club\": \"Putter\"}"
        ],
        [
         "{\"Record\": \"81ecf214-b887-4917-9935-45aa246662e0\", \"Hole\": \"5\", \"Golfer\": \"Bob\", \"Stroke\": 1, \"Par\": 4, \"Yards_To_Pin\": 203, \"Pin_Distance\": 402, \"Club\": \"Driver\"}"
        ],
        [
         "{\"Record\": \"f6e99bf8-0589-46cc-8c6f-a65178080ae8\", \"Hole\": \"5\", \"Golfer\": \"Bob\", \"Stroke\": 2, \"Par\": 4, \"Yards_To_Pin\": 322, \"Pin_Distance\": 402, \"Club\": \"7 Iron\"}"
        ],
        [
         "{\"Record\": \"f8215462-3e14-4c1d-b5ca-8cbfc31cfdf7\", \"Hole\": \"5\", \"Golfer\": \"Bob\", \"Stroke\": 3, \"Par\": 4, \"Yards_To_Pin\": 402, \"Pin_Distance\": 402, \"Club\": \"54 Degree Wedge\"}"
        ],
        [
         "{\"Record\": \"32f976bb-6ec0-4a0c-a7b0-f6fad5362b88\", \"Hole\": \"6\", \"Golfer\": \"Bob\", \"Stroke\": 1, \"Par\": 5, \"Yards_To_Pin\": 239, \"Pin_Distance\": 483, \"Club\": \"3 Wood\"}"
        ],
        [
         "{\"Record\": \"f90037e6-34f6-4a9d-b5dd-2cfab2c682f4\", \"Hole\": \"6\", \"Golfer\": \"Bob\", \"Stroke\": 2, \"Par\": 5, \"Yards_To_Pin\": 359, \"Pin_Distance\": 483, \"Club\": \"6 Iron\"}"
        ],
        [
         "{\"Record\": \"9ee32915-a4fa-4349-a510-6ba984cb3613\", \"Hole\": \"6\", \"Golfer\": \"Bob\", \"Stroke\": 3, \"Par\": 5, \"Yards_To_Pin\": 432, \"Pin_Distance\": 483, \"Club\": \"56 Degree Wedge\"}"
        ],
        [
         "{\"Record\": \"fcfbaf75-f4e8-4602-89fd-15ea41b7d71b\", \"Hole\": \"6\", \"Golfer\": \"Bob\", \"Stroke\": 4, \"Par\": 5, \"Yards_To_Pin\": 482, \"Pin_Distance\": 483, \"Club\": \"54 Degree Wedge\"}"
        ],
        [
         "{\"Record\": \"8ff2a2de-4d21-4a8d-b04a-a08ee3cc4283\", \"Hole\": \"6\", \"Golfer\": \"Bob\", \"Stroke\": 5, \"Par\": 5, \"Yards_To_Pin\": 483, \"Pin_Distance\": 483, \"Club\": \"54 Degree Wedge\"}"
        ],
        [
         "{\"Record\": \"32b28839-4337-4646-92a4-d96a6d1d1bc1\", \"Hole\": \"7\", \"Golfer\": \"Bob\", \"Stroke\": 1, \"Par\": 4, \"Yards_To_Pin\": 202, \"Pin_Distance\": 419, \"Club\": \"Driver\"}"
        ],
        [
         "{\"Record\": \"bb4c396e-b971-434a-8915-68c2fba871fa\", \"Hole\": \"7\", \"Golfer\": \"Bob\", \"Stroke\": 2, \"Par\": 4, \"Yards_To_Pin\": 308, \"Pin_Distance\": 419, \"Club\": \"7 Iron\"}"
        ],
        [
         "{\"Record\": \"4e8109fe-fdd3-45cb-a2cd-97f27a9d7f1d\", \"Hole\": \"7\", \"Golfer\": \"Bob\", \"Stroke\": 3, \"Par\": 4, \"Yards_To_Pin\": 354, \"Pin_Distance\": 419, \"Club\": \"52 Degree Wedge\"}"
        ],
        [
         "{\"Record\": \"e9ec45a2-52f7-4327-8624-1cdea83d0ebd\", \"Hole\": \"7\", \"Golfer\": \"Bob\", \"Stroke\": 4, \"Par\": 4, \"Yards_To_Pin\": 390, \"Pin_Distance\": 419, \"Club\": \"54 Degree Wedge\"}"
        ],
        [
         "{\"Record\": \"d927b07e-995f-4627-92a6-ef816002c633\", \"Hole\": \"7\", \"Golfer\": \"Bob\", \"Stroke\": 5, \"Par\": 4, \"Yards_To_Pin\": 415, \"Pin_Distance\": 419, \"Club\": \"56 Degree Wedge\"}"
        ],
        [
         "{\"Record\": \"4019ea4d-2702-4137-a427-966f07918872\", \"Hole\": \"7\", \"Golfer\": \"Bob\", \"Stroke\": 6, \"Par\": 4, \"Yards_To_Pin\": 419, \"Pin_Distance\": 419, \"Club\": \"Putter\"}"
        ],
        [
         "{\"Record\": \"69d605ac-c303-4049-b9fa-c6525f2592a2\", \"Hole\": \"8\", \"Golfer\": \"Bob\", \"Stroke\": 1, \"Par\": 3, \"Yards_To_Pin\": 112, \"Pin_Distance\": 196, \"Club\": \"6 Iron\"}"
        ],
        [
         "{\"Record\": \"94ed6efa-3835-4dd6-9439-620003b02ef2\", \"Hole\": \"8\", \"Golfer\": \"Bob\", \"Stroke\": 2, \"Par\": 3, \"Yards_To_Pin\": 139, \"Pin_Distance\": 196, \"Club\": \"54 Degree Wedge\"}"
        ],
        [
         "{\"Record\": \"1aa9d48c-0bb4-4fd4-9752-3e060606f502\", \"Hole\": \"8\", \"Golfer\": \"Bob\", \"Stroke\": 3, \"Par\": 3, \"Yards_To_Pin\": 154, \"Pin_Distance\": 196, \"Club\": \"Putter\"}"
        ],
        [
         "{\"Record\": \"af48172e-0c3b-4ec6-b403-47c9e0533796\", \"Hole\": \"8\", \"Golfer\": \"Bob\", \"Stroke\": 4, \"Par\": 3, \"Yards_To_Pin\": 196, \"Pin_Distance\": 196, \"Club\": \"Putter\"}"
        ],
        [
         "{\"Record\": \"cc7e9479-db3a-4b79-8227-936bf13713f9\", \"Hole\": \"9\", \"Golfer\": \"Bob\", \"Stroke\": 1, \"Par\": 5, \"Yards_To_Pin\": 256, \"Pin_Distance\": 490, \"Club\": \"Driver\"}"
        ],
        [
         "{\"Record\": \"19423a52-cccc-42f3-9438-7c85e9014eb2\", \"Hole\": \"9\", \"Golfer\": \"Bob\", \"Stroke\": 2, \"Par\": 5, \"Yards_To_Pin\": 374, \"Pin_Distance\": 490, \"Club\": \"8 Iron\"}"
        ],
        [
         "{\"Record\": \"c6e9ff13-631f-445d-97ad-8f8b4900baad\", \"Hole\": \"9\", \"Golfer\": \"Bob\", \"Stroke\": 3, \"Par\": 5, \"Yards_To_Pin\": 421, \"Pin_Distance\": 490, \"Club\": \"52 Degree Wedge\"}"
        ],
        [
         "{\"Record\": \"bfd027f0-9dc7-4b36-90a3-f67a29da94c2\", \"Hole\": \"9\", \"Golfer\": \"Bob\", \"Stroke\": 4, \"Par\": 5, \"Yards_To_Pin\": 459, \"Pin_Distance\": 490, \"Club\": \"52 Degree Wedge\"}"
        ],
        [
         "{\"Record\": \"290b1a8c-406e-4a07-9f0a-7d202a0be2ff\", \"Hole\": \"9\", \"Golfer\": \"Bob\", \"Stroke\": 5, \"Par\": 5, \"Yards_To_Pin\": 479, \"Pin_Distance\": 490, \"Club\": \"54 Degree Wedge\"}"
        ],
        [
         "{\"Record\": \"507e3256-b592-4ef4-9ad8-1dc341a7c002\", \"Hole\": \"9\", \"Golfer\": \"Bob\", \"Stroke\": 6, \"Par\": 5, \"Yards_To_Pin\": 490, \"Pin_Distance\": 490, \"Club\": \"Putter\"}"
        ],
        [
         "{\"Record\": \"a82dca7d-7f50-443b-b1e2-b7aa3f81caf6\", \"Hole\": \"10\", \"Golfer\": \"Bob\", \"Stroke\": 1, \"Par\": 5, \"Yards_To_Pin\": 249, \"Pin_Distance\": 452, \"Club\": \"3 Wood\"}"
        ],
        [
         "{\"Record\": \"618c9782-94cb-4156-98d0-fd8416b05223\", \"Hole\": \"10\", \"Golfer\": \"Bob\", \"Stroke\": 2, \"Par\": 5, \"Yards_To_Pin\": 368, \"Pin_Distance\": 452, \"Club\": \"7 Iron\"}"
        ],
        [
         "{\"Record\": \"196fea21-55f3-4d3a-a891-2ec779e69974\", \"Hole\": \"10\", \"Golfer\": \"Bob\", \"Stroke\": 3, \"Par\": 5, \"Yards_To_Pin\": 425, \"Pin_Distance\": 452, \"Club\": \"56 Degree Wedge\"}"
        ],
        [
         "{\"Record\": \"4e8e1414-422b-43c9-b563-5366cb00af6c\", \"Hole\": \"10\", \"Golfer\": \"Bob\", \"Stroke\": 4, \"Par\": 5, \"Yards_To_Pin\": 452, \"Pin_Distance\": 452, \"Club\": \"54 Degree Wedge\"}"
        ],
        [
         "{\"Record\": \"896da4ee-853c-4618-9120-794527909ba5\", \"Hole\": \"11\", \"Golfer\": \"Bob\", \"Stroke\": 1, \"Par\": 4, \"Yards_To_Pin\": 242, \"Pin_Distance\": 395, \"Club\": \"3 Wood\"}"
        ],
        [
         "{\"Record\": \"6faabb10-5084-4db7-8bc2-3344b43fcbfa\", \"Hole\": \"11\", \"Golfer\": \"Bob\", \"Stroke\": 2, \"Par\": 4, \"Yards_To_Pin\": 354, \"Pin_Distance\": 395, \"Club\": \"8 Iron\"}"
        ],
        [
         "{\"Record\": \"151ebf19-44b5-4621-9d15-ac373a1c364d\", \"Hole\": \"11\", \"Golfer\": \"Bob\", \"Stroke\": 3, \"Par\": 4, \"Yards_To_Pin\": 391, \"Pin_Distance\": 395, \"Club\": \"56 Degree Wedge\"}"
        ],
        [
         "{\"Record\": \"86f191fd-f16d-43df-8afe-309cda9c20bd\", \"Hole\": \"11\", \"Golfer\": \"Bob\", \"Stroke\": 4, \"Par\": 4, \"Yards_To_Pin\": 395, \"Pin_Distance\": 395, \"Club\": \"54 Degree Wedge\"}"
        ],
        [
         "{\"Record\": \"82cf396f-6528-4c42-a377-1c11710b239b\", \"Hole\": \"12\", \"Golfer\": \"Bob\", \"Stroke\": 1, \"Par\": 3, \"Yards_To_Pin\": 112, \"Pin_Distance\": 170, \"Club\": \"6 Iron\"}"
        ],
        [
         "{\"Record\": \"47914baa-17aa-4b4b-82c9-ad533d3eb052\", \"Hole\": \"12\", \"Golfer\": \"Bob\", \"Stroke\": 2, \"Par\": 3, \"Yards_To_Pin\": 137, \"Pin_Distance\": 170, \"Club\": \"52 Degree Wedge\"}"
        ],
        [
         "{\"Record\": \"3d018e71-77d6-4b5d-ba66-ae304865811f\", \"Hole\": \"12\", \"Golfer\": \"Bob\", \"Stroke\": 3, \"Par\": 3, \"Yards_To_Pin\": 150, \"Pin_Distance\": 170, \"Club\": \"Putter\"}"
        ],
        [
         "{\"Record\": \"8ae74862-4b69-4c93-bad9-895f19cd38ad\", \"Hole\": \"12\", \"Golfer\": \"Bob\", \"Stroke\": 4, \"Par\": 3, \"Yards_To_Pin\": 170, \"Pin_Distance\": 170, \"Club\": \"Putter\"}"
        ],
        [
         "{\"Record\": \"24db381a-e658-44c4-a053-13bcb8c54358\", \"Hole\": \"13\", \"Golfer\": \"Bob\", \"Stroke\": 1, \"Par\": 4, \"Yards_To_Pin\": 223, \"Pin_Distance\": 405, \"Club\": \"Driver\"}"
        ],
        [
         "{\"Record\": \"6c4e20ef-4ba8-4e49-b973-0e9ff777d3e6\", \"Hole\": \"13\", \"Golfer\": \"Bob\", \"Stroke\": 2, \"Par\": 4, \"Yards_To_Pin\": 331, \"Pin_Distance\": 405, \"Club\": \"7 Iron\"}"
        ],
        [
         "{\"Record\": \"a3cca993-e0c2-46a0-aee5-39881d114503\", \"Hole\": \"13\", \"Golfer\": \"Bob\", \"Stroke\": 3, \"Par\": 4, \"Yards_To_Pin\": 405, \"Pin_Distance\": 405, \"Club\": \"54 Degree Wedge\"}"
        ],
        [
         "{\"Record\": \"d3039636-2c23-4e22-832a-a4d778885d59\", \"Hole\": \"14\", \"Golfer\": \"Bob\", \"Stroke\": 1, \"Par\": 4, \"Yards_To_Pin\": 211, \"Pin_Distance\": 439, \"Club\": \"Driver\"}"
        ],
        [
         "{\"Record\": \"8dbefb3a-72b8-43f0-9f3a-a859eb1cb865\", \"Hole\": \"14\", \"Golfer\": \"Bob\", \"Stroke\": 2, \"Par\": 4, \"Yards_To_Pin\": 316, \"Pin_Distance\": 439, \"Club\": \"9 Iron\"}"
        ],
        [
         "{\"Record\": \"a0754ce1-3960-488f-ac72-dbfe1b03827d\", \"Hole\": \"14\", \"Golfer\": \"Bob\", \"Stroke\": 3, \"Par\": 4, \"Yards_To_Pin\": 373, \"Pin_Distance\": 439, \"Club\": \"54 Degree Wedge\"}"
        ],
        [
         "{\"Record\": \"35bf6559-8539-4bfd-bd65-f0d1a2196856\", \"Hole\": \"14\", \"Golfer\": \"Bob\", \"Stroke\": 4, \"Par\": 4, \"Yards_To_Pin\": 421, \"Pin_Distance\": 439, \"Club\": \"52 Degree Wedge\"}"
        ],
        [
         "{\"Record\": \"70b702ae-c12a-4926-8d61-37883c44b637\", \"Hole\": \"14\", \"Golfer\": \"Bob\", \"Stroke\": 5, \"Par\": 4, \"Yards_To_Pin\": 439, \"Pin_Distance\": 439, \"Club\": \"56 Degree Wedge\"}"
        ],
        [
         "{\"Record\": \"d63214a3-5e59-415a-bee2-819abacdd5b9\", \"Hole\": \"15\", \"Golfer\": \"Bob\", \"Stroke\": 1, \"Par\": 3, \"Yards_To_Pin\": 148, \"Pin_Distance\": 194, \"Club\": \"8 Iron\"}"
        ],
        [
         "{\"Record\": \"f4a23461-122e-4373-a2ba-f8a6ff583cc0\", \"Hole\": \"15\", \"Golfer\": \"Bob\", \"Stroke\": 2, \"Par\": 3, \"Yards_To_Pin\": 178, \"Pin_Distance\": 194, \"Club\": \"52 Degree Wedge\"}"
        ],
        [
         "{\"Record\": \"7693d08d-b822-4c4b-b909-7e5bfb55234c\", \"Hole\": \"15\", \"Golfer\": \"Bob\", \"Stroke\": 3, \"Par\": 3, \"Yards_To_Pin\": 191, \"Pin_Distance\": 194, \"Club\": \"Putter\"}"
        ],
        [
         "{\"Record\": \"94bce3aa-0cad-4cef-8c46-12faae7908d4\", \"Hole\": \"15\", \"Golfer\": \"Bob\", \"Stroke\": 4, \"Par\": 3, \"Yards_To_Pin\": 194, \"Pin_Distance\": 194, \"Club\": \"Putter\"}"
        ],
        [
         "{\"Record\": \"53ae1888-6f65-4158-aa7b-8800bd44eb86\", \"Hole\": \"16\", \"Golfer\": \"Bob\", \"Stroke\": 1, \"Par\": 4, \"Yards_To_Pin\": 257, \"Pin_Distance\": 389, \"Club\": \"Driver\"}"
        ],
        [
         "{\"Record\": \"ab41284e-21c0-4217-9bed-81257dbe764f\", \"Hole\": \"16\", \"Golfer\": \"Bob\", \"Stroke\": 2, \"Par\": 4, \"Yards_To_Pin\": 371, \"Pin_Distance\": 389, \"Club\": \"9 Iron\"}"
        ],
        [
         "{\"Record\": \"e737f33e-b94d-44ef-89c4-728c53b74a4e\", \"Hole\": \"16\", \"Golfer\": \"Bob\", \"Stroke\": 3, \"Par\": 4, \"Yards_To_Pin\": 389, \"Pin_Distance\": 389, \"Club\": \"54 Degree Wedge\"}"
        ],
        [
         "{\"Record\": \"0d82188f-ae5c-4f7e-8754-672edc5ccbc8\", \"Hole\": \"17\", \"Golfer\": \"Bob\", \"Stroke\": 1, \"Par\": 5, \"Yards_To_Pin\": 253, \"Pin_Distance\": 452, \"Club\": \"Driver\"}"
        ],
        [
         "{\"Record\": \"389fcdc0-b0c2-479d-998d-e375c6406565\", \"Hole\": \"17\", \"Golfer\": \"Bob\", \"Stroke\": 2, \"Par\": 5, \"Yards_To_Pin\": 355, \"Pin_Distance\": 452, \"Club\": \"7 Iron\"}"
        ],
        [
         "{\"Record\": \"1803631f-fdf4-4bfd-91c4-5365ae45b33f\", \"Hole\": \"17\", \"Golfer\": \"Bob\", \"Stroke\": 3, \"Par\": 5, \"Yards_To_Pin\": 413, \"Pin_Distance\": 452, \"Club\": \"52 Degree Wedge\"}"
        ],
        [
         "{\"Record\": \"590967d5-0f90-4982-b36e-2f8cff70c645\", \"Hole\": \"17\", \"Golfer\": \"Bob\", \"Stroke\": 4, \"Par\": 5, \"Yards_To_Pin\": 452, \"Pin_Distance\": 452, \"Club\": \"52 Degree Wedge\"}"
        ],
        [
         "{\"Record\": \"95b7a510-87c4-4ea9-8d0b-626cea4a7d79\", \"Hole\": \"18\", \"Golfer\": \"Bob\", \"Stroke\": 1, \"Par\": 3, \"Yards_To_Pin\": 130, \"Pin_Distance\": 176, \"Club\": \"6 Iron\"}"
        ],
        [
         "{\"Record\": \"3118bb12-bc6d-41d4-b781-a1b391d370ee\", \"Hole\": \"18\", \"Golfer\": \"Bob\", \"Stroke\": 2, \"Par\": 3, \"Yards_To_Pin\": 152, \"Pin_Distance\": 176, \"Club\": \"52 Degree Wedge\"}"
        ],
        [
         "{\"Record\": \"abc85401-e518-48ef-9bc9-7fb661c051e0\", \"Hole\": \"18\", \"Golfer\": \"Bob\", \"Stroke\": 3, \"Par\": 3, \"Yards_To_Pin\": 164, \"Pin_Distance\": 176, \"Club\": \"Putter\"}"
        ],
        [
         "{\"Record\": \"636d9eae-ba84-4ab1-83cd-a2ebe61c9716\", \"Hole\": \"18\", \"Golfer\": \"Bob\", \"Stroke\": 4, \"Par\": 3, \"Yards_To_Pin\": 176, \"Pin_Distance\": 176, \"Club\": \"Putter\"}"
        ],
        [
         "{\"Record\": \"22631093-7340-4a87-a509-9a1640485825\", \"Hole\": \"1\", \"Golfer\": \"Bob\", \"Stroke\": 1, \"Par\": 3, \"Yards_To_Pin\": 141, \"Pin_Distance\": 199, \"Club\": \"7 Iron\"}"
        ],
        [
         "{\"Record\": \"0269ec03-031b-438f-8433-13e0faba7fe2\", \"Hole\": \"1\", \"Golfer\": \"Bob\", \"Stroke\": 2, \"Par\": 3, \"Yards_To_Pin\": 165, \"Pin_Distance\": 199, \"Club\": \"54 Degree Wedge\"}"
        ],
        [
         "{\"Record\": \"0abf4175-bbf6-4ca8-ac60-502e21b4457b\", \"Hole\": \"1\", \"Golfer\": \"Bob\", \"Stroke\": 3, \"Par\": 3, \"Yards_To_Pin\": 185, \"Pin_Distance\": 199, \"Club\": \"Putter\"}"
        ],
        [
         "{\"Record\": \"00f74e52-3491-409b-b00c-a646274b910e\", \"Hole\": \"1\", \"Golfer\": \"Bob\", \"Stroke\": 4, \"Par\": 3, \"Yards_To_Pin\": 199, \"Pin_Distance\": 199, \"Club\": \"Putter\"}"
        ],
        [
         "{\"Record\": \"1530fadc-7599-4708-a765-a66e1bdb7e67\", \"Hole\": \"2\", \"Golfer\": \"Bob\", \"Stroke\": 1, \"Par\": 5, \"Yards_To_Pin\": 231, \"Pin_Distance\": 478, \"Club\": \"3 Wood\"}"
        ],
        [
         "{\"Record\": \"53f2b5d4-57b8-4576-b9a1-bd7086160fcc\", \"Hole\": \"2\", \"Golfer\": \"Bob\", \"Stroke\": 2, \"Par\": 5, \"Yards_To_Pin\": 338, \"Pin_Distance\": 478, \"Club\": \"7 Iron\"}"
        ],
        [
         "{\"Record\": \"6826a9f8-7e8d-4b56-93a4-743324d07411\", \"Hole\": \"2\", \"Golfer\": \"Bob\", \"Stroke\": 3, \"Par\": 5, \"Yards_To_Pin\": 432, \"Pin_Distance\": 478, \"Club\": \"54 Degree Wedge\"}"
        ],
        [
         "{\"Record\": \"613d7a05-af31-4edc-a2b8-4893ced18c4a\", \"Hole\": \"2\", \"Golfer\": \"Bob\", \"Stroke\": 4, \"Par\": 5, \"Yards_To_Pin\": 478, \"Pin_Distance\": 478, \"Club\": \"52 Degree Wedge\"}"
        ],
        [
         "{\"Record\": \"8c7a301a-583e-40b3-9274-25fd60db0893\", \"Hole\": \"3\", \"Golfer\": \"Bob\", \"Stroke\": 1, \"Par\": 3, \"Yards_To_Pin\": 87, \"Pin_Distance\": 185, \"Club\": \"9 Iron\"}"
        ],
        [
         "{\"Record\": \"d3639176-39ec-4929-b0d0-463afad1d773\", \"Hole\": \"3\", \"Golfer\": \"Bob\", \"Stroke\": 2, \"Par\": 3, \"Yards_To_Pin\": 117, \"Pin_Distance\": 185, \"Club\": \"52 Degree Wedge\"}"
        ],
        [
         "{\"Record\": \"a26d3827-72f0-4cf0-bb8b-fd4888095889\", \"Hole\": \"3\", \"Golfer\": \"Bob\", \"Stroke\": 3, \"Par\": 3, \"Yards_To_Pin\": 143, \"Pin_Distance\": 185, \"Club\": \"Putter\"}"
        ],
        [
         "{\"Record\": \"5e448780-e64f-47f4-80c2-7a14073c1c06\", \"Hole\": \"3\", \"Golfer\": \"Bob\", \"Stroke\": 4, \"Par\": 3, \"Yards_To_Pin\": 183, \"Pin_Distance\": 185, \"Club\": \"Putter\"}"
        ],
        [
         "{\"Record\": \"dc247707-74ca-4867-a324-dffefc4b4090\", \"Hole\": \"3\", \"Golfer\": \"Bob\", \"Stroke\": 5, \"Par\": 3, \"Yards_To_Pin\": 185, \"Pin_Distance\": 185, \"Club\": \"Putter\"}"
        ],
        [
         "{\"Record\": \"7a444bf9-aca2-4c6f-967a-28326cc5fdeb\", \"Hole\": \"4\", \"Golfer\": \"Bob\", \"Stroke\": 1, \"Par\": 3, \"Yards_To_Pin\": 99, \"Pin_Distance\": 150, \"Club\": \"7 Iron\"}"
        ],
        [
         "{\"Record\": \"1709d11b-0006-4fb3-8510-f3f9949ceb81\", \"Hole\": \"4\", \"Golfer\": \"Bob\", \"Stroke\": 2, \"Par\": 3, \"Yards_To_Pin\": 126, \"Pin_Distance\": 150, \"Club\": \"52 Degree Wedge\"}"
        ],
        [
         "{\"Record\": \"4086aa38-53e2-4469-adf3-362ac91771d9\", \"Hole\": \"4\", \"Golfer\": \"Bob\", \"Stroke\": 3, \"Par\": 3, \"Yards_To_Pin\": 150, \"Pin_Distance\": 150, \"Club\": \"Putter\"}"
        ],
        [
         "{\"Record\": \"7d9f2dc5-c40c-46a4-bb64-24c2734906a3\", \"Hole\": \"5\", \"Golfer\": \"Bob\", \"Stroke\": 1, \"Par\": 5, \"Yards_To_Pin\": 231, \"Pin_Distance\": 473, \"Club\": \"Driver\"}"
        ],
        [
         "{\"Record\": \"0959ec7e-9bb1-41dd-a9fd-c332b0ecd383\", \"Hole\": \"5\", \"Golfer\": \"Bob\", \"Stroke\": 2, \"Par\": 5, \"Yards_To_Pin\": 348, \"Pin_Distance\": 473, \"Club\": \"9 Iron\"}"
        ],
        [
         "{\"Record\": \"00dce994-0833-4483-96ea-194569b8c44e\", \"Hole\": \"5\", \"Golfer\": \"Bob\", \"Stroke\": 3, \"Par\": 5, \"Yards_To_Pin\": 439, \"Pin_Distance\": 473, \"Club\": \"56 Degree Wedge\"}"
        ],
        [
         "{\"Record\": \"2b3d3ba3-b227-4b3c-aeb2-786e3494bf91\", \"Hole\": \"5\", \"Golfer\": \"Bob\", \"Stroke\": 4, \"Par\": 5, \"Yards_To_Pin\": 473, \"Pin_Distance\": 473, \"Club\": \"52 Degree Wedge\"}"
        ],
        [
         "{\"Record\": \"7eb56d57-f043-4b32-8b80-fd022b698a9e\", \"Hole\": \"6\", \"Golfer\": \"Bob\", \"Stroke\": 1, \"Par\": 4, \"Yards_To_Pin\": 260, \"Pin_Distance\": 413, \"Club\": \"Driver\"}"
        ],
        [
         "{\"Record\": \"3a8c7b36-ccb5-434e-babc-7ccaba13b355\", \"Hole\": \"6\", \"Golfer\": \"Bob\", \"Stroke\": 2, \"Par\": 4, \"Yards_To_Pin\": 367, \"Pin_Distance\": 413, \"Club\": \"7 Iron\"}"
        ],
        [
         "{\"Record\": \"5380e696-3b90-409a-a309-b50bce0c9ff8\", \"Hole\": \"6\", \"Golfer\": \"Bob\", \"Stroke\": 3, \"Par\": 4, \"Yards_To_Pin\": 413, \"Pin_Distance\": 413, \"Club\": \"52 Degree Wedge\"}"
        ],
        [
         "{\"Record\": \"e3eba505-0561-48af-80af-2382f696e963\", \"Hole\": \"7\", \"Golfer\": \"Bob\", \"Stroke\": 1, \"Par\": 4, \"Yards_To_Pin\": 202, \"Pin_Distance\": 400, \"Club\": \"3 Wood\"}"
        ],
        [
         "{\"Record\": \"b7561f97-dd2f-4b28-bbcb-b17e4d644fd5\", \"Hole\": \"7\", \"Golfer\": \"Bob\", \"Stroke\": 2, \"Par\": 4, \"Yards_To_Pin\": 313, \"Pin_Distance\": 400, \"Club\": \"7 Iron\"}"
        ],
        [
         "{\"Record\": \"a64deba0-ad69-4836-afe0-a9c150b0f4a2\", \"Hole\": \"7\", \"Golfer\": \"Bob\", \"Stroke\": 3, \"Par\": 4, \"Yards_To_Pin\": 388, \"Pin_Distance\": 400, \"Club\": \"54 Degree Wedge\"}"
        ],
        [
         "{\"Record\": \"824f61d0-ef84-4f96-bd35-5ac0767992d7\", \"Hole\": \"7\", \"Golfer\": \"Bob\", \"Stroke\": 4, \"Par\": 4, \"Yards_To_Pin\": 400, \"Pin_Distance\": 400, \"Club\": \"52 Degree Wedge\"}"
        ],
        [
         "{\"Record\": \"b4336186-770c-431d-9bcd-270b228daf32\", \"Hole\": \"8\", \"Golfer\": \"Bob\", \"Stroke\": 1, \"Par\": 4, \"Yards_To_Pin\": 225, \"Pin_Distance\": 411, \"Club\": \"3 Wood\"}"
        ],
        [
         "{\"Record\": \"6706b1c9-26b1-4a11-9816-6b03a3037c1b\", \"Hole\": \"8\", \"Golfer\": \"Bob\", \"Stroke\": 2, \"Par\": 4, \"Yards_To_Pin\": 333, \"Pin_Distance\": 411, \"Club\": \"7 Iron\"}"
        ],
        [
         "{\"Record\": \"190b9a5f-0fa6-427f-b7bc-c5190729752a\", \"Hole\": \"8\", \"Golfer\": \"Bob\", \"Stroke\": 3, \"Par\": 4, \"Yards_To_Pin\": 383, \"Pin_Distance\": 411, \"Club\": \"54 Degree Wedge\"}"
        ],
        [
         "{\"Record\": \"d4fc4b9f-451c-4499-a469-cd3a68f6db4e\", \"Hole\": \"8\", \"Golfer\": \"Bob\", \"Stroke\": 4, \"Par\": 4, \"Yards_To_Pin\": 411, \"Pin_Distance\": 411, \"Club\": \"52 Degree Wedge\"}"
        ],
        [
         "{\"Record\": \"3ab93dee-bf6c-48eb-9a00-306a6ac12837\", \"Hole\": \"9\", \"Golfer\": \"Bob\", \"Stroke\": 1, \"Par\": 3, \"Yards_To_Pin\": 103, \"Pin_Distance\": 200, \"Club\": \"8 Iron\"}"
        ],
        [
         "{\"Record\": \"ad92ae3e-4a45-4882-ba14-a2e515061d50\", \"Hole\": \"9\", \"Golfer\": \"Bob\", \"Stroke\": 2, \"Par\": 3, \"Yards_To_Pin\": 124, \"Pin_Distance\": 200, \"Club\": \"52 Degree Wedge\"}"
        ],
        [
         "{\"Record\": \"1a4a4ffa-1d1d-4a45-bd37-ccb118672fed\", \"Hole\": \"9\", \"Golfer\": \"Bob\", \"Stroke\": 3, \"Par\": 3, \"Yards_To_Pin\": 142, \"Pin_Distance\": 200, \"Club\": \"Putter\"}"
        ],
        [
         "{\"Record\": \"6c2a3893-7461-433c-8ba5-e495562b5d8b\", \"Hole\": \"9\", \"Golfer\": \"Bob\", \"Stroke\": 4, \"Par\": 3, \"Yards_To_Pin\": 187, \"Pin_Distance\": 200, \"Club\": \"Putter\"}"
        ],
        [
         "{\"Record\": \"444c02bb-7413-4ffe-ba28-7fb7b0be1ab1\", \"Hole\": \"9\", \"Golfer\": \"Bob\", \"Stroke\": 5, \"Par\": 3, \"Yards_To_Pin\": 200, \"Pin_Distance\": 200, \"Club\": \"Putter\"}"
        ],
        [
         "{\"Record\": \"1ffad68e-9aec-4b3a-970b-08fcae869a01\", \"Hole\": \"10\", \"Golfer\": \"Bob\", \"Stroke\": 1, \"Par\": 4, \"Yards_To_Pin\": 239, \"Pin_Distance\": 442, \"Club\": \"3 Wood\"}"
        ],
        [
         "{\"Record\": \"10cf729f-9a65-4c96-abc2-6d15f829fd95\", \"Hole\": \"10\", \"Golfer\": \"Bob\", \"Stroke\": 2, \"Par\": 4, \"Yards_To_Pin\": 351, \"Pin_Distance\": 442, \"Club\": \"9 Iron\"}"
        ],
        [
         "{\"Record\": \"f7760377-8978-44e8-b0fd-86539252e818\", \"Hole\": \"10\", \"Golfer\": \"Bob\", \"Stroke\": 3, \"Par\": 4, \"Yards_To_Pin\": 424, \"Pin_Distance\": 442, \"Club\": \"54 Degree Wedge\"}"
        ],
        [
         "{\"Record\": \"a1528002-a826-49e7-9350-0cae33746fff\", \"Hole\": \"10\", \"Golfer\": \"Bob\", \"Stroke\": 4, \"Par\": 4, \"Yards_To_Pin\": 442, \"Pin_Distance\": 442, \"Club\": \"52 Degree Wedge\"}"
        ],
        [
         "{\"Record\": \"4ccc335e-455d-4067-8872-c9bd08f99682\", \"Hole\": \"11\", \"Golfer\": \"Bob\", \"Stroke\": 1, \"Par\": 4, \"Yards_To_Pin\": 231, \"Pin_Distance\": 428, \"Club\": \"Driver\"}"
        ],
        [
         "{\"Record\": \"0b1de753-9630-47fa-8150-ce4aa250a272\", \"Hole\": \"11\", \"Golfer\": \"Bob\", \"Stroke\": 2, \"Par\": 4, \"Yards_To_Pin\": 350, \"Pin_Distance\": 428, \"Club\": \"7 Iron\"}"
        ],
        [
         "{\"Record\": \"ffbf6263-b8b6-478a-982f-22a05ccdc111\", \"Hole\": \"11\", \"Golfer\": \"Bob\", \"Stroke\": 3, \"Par\": 4, \"Yards_To_Pin\": 423, \"Pin_Distance\": 428, \"Club\": \"54 Degree Wedge\"}"
        ],
        [
         "{\"Record\": \"e6b313fa-6178-455d-b238-10cbaf099b87\", \"Hole\": \"11\", \"Golfer\": \"Bob\", \"Stroke\": 4, \"Par\": 4, \"Yards_To_Pin\": 428, \"Pin_Distance\": 428, \"Club\": \"52 Degree Wedge\"}"
        ],
        [
         "{\"Record\": \"6351cf62-4293-4411-9ea8-c8e0dad61073\", \"Hole\": \"12\", \"Golfer\": \"Bob\", \"Stroke\": 1, \"Par\": 4, \"Yards_To_Pin\": 204, \"Pin_Distance\": 449, \"Club\": \"Driver\"}"
        ],
        [
         "{\"Record\": \"47243c3a-548a-47b0-9be8-ba284c142b75\", \"Hole\": \"12\", \"Golfer\": \"Bob\", \"Stroke\": 2, \"Par\": 4, \"Yards_To_Pin\": 306, \"Pin_Distance\": 449, \"Club\": \"8 Iron\"}"
        ],
        [
         "{\"Record\": \"bbee67d1-cd4a-4d2b-af22-9a8d54195d0b\", \"Hole\": \"12\", \"Golfer\": \"Bob\", \"Stroke\": 3, \"Par\": 4, \"Yards_To_Pin\": 351, \"Pin_Distance\": 449, \"Club\": \"52 Degree Wedge\"}"
        ],
        [
         "{\"Record\": \"38e61425-719d-405d-a5d5-bd094fdb4f2a\", \"Hole\": \"12\", \"Golfer\": \"Bob\", \"Stroke\": 4, \"Par\": 4, \"Yards_To_Pin\": 398, \"Pin_Distance\": 449, \"Club\": \"52 Degree Wedge\"}"
        ],
        [
         "{\"Record\": \"cc39e8f0-23eb-4c0c-95dd-29b31ed8680d\", \"Hole\": \"12\", \"Golfer\": \"Bob\", \"Stroke\": 5, \"Par\": 4, \"Yards_To_Pin\": 422, \"Pin_Distance\": 449, \"Club\": \"54 Degree Wedge\"}"
        ],
        [
         "{\"Record\": \"a99c9242-68e4-433a-9ac0-6dad8d28022b\", \"Hole\": \"12\", \"Golfer\": \"Bob\", \"Stroke\": 6, \"Par\": 4, \"Yards_To_Pin\": 440, \"Pin_Distance\": 449, \"Club\": \"Putter\"}"
        ],
        [
         "{\"Record\": \"8683edbe-4dd4-4f34-ac98-22e0d663ec9c\", \"Hole\": \"12\", \"Golfer\": \"Bob\", \"Stroke\": 7, \"Par\": 4, \"Yards_To_Pin\": 449, \"Pin_Distance\": 449, \"Club\": \"Putter\"}"
        ],
        [
         "{\"Record\": \"69a5a04e-e5f0-4c6a-91a1-6a56855d2ac9\", \"Hole\": \"13\", \"Golfer\": \"Bob\", \"Stroke\": 1, \"Par\": 5, \"Yards_To_Pin\": 200, \"Pin_Distance\": 480, \"Club\": \"3 Wood\"}"
        ],
        [
         "{\"Record\": \"1fd5e46f-5010-4dd3-909b-25a232c75dee\", \"Hole\": \"13\", \"Golfer\": \"Bob\", \"Stroke\": 2, \"Par\": 5, \"Yards_To_Pin\": 320, \"Pin_Distance\": 480, \"Club\": \"7 Iron\"}"
        ],
        [
         "{\"Record\": \"918f9364-8347-4640-a98c-3e9c95e68d04\", \"Hole\": \"13\", \"Golfer\": \"Bob\", \"Stroke\": 3, \"Par\": 5, \"Yards_To_Pin\": 377, \"Pin_Distance\": 480, \"Club\": \"52 Degree Wedge\"}"
        ],
        [
         "{\"Record\": \"a0c93065-6c00-415e-bc62-fbfd65e81559\", \"Hole\": \"13\", \"Golfer\": \"Bob\", \"Stroke\": 4, \"Par\": 5, \"Yards_To_Pin\": 427, \"Pin_Distance\": 480, \"Club\": \"52 Degree Wedge\"}"
        ],
        [
         "{\"Record\": \"4553c579-db4f-4f7c-a29e-76eabf83a636\", \"Hole\": \"13\", \"Golfer\": \"Bob\", \"Stroke\": 5, \"Par\": 5, \"Yards_To_Pin\": 451, \"Pin_Distance\": 480, \"Club\": \"54 Degree Wedge\"}"
        ],
        [
         "{\"Record\": \"b506b8ba-4b76-444c-8920-ed33f1976948\", \"Hole\": \"13\", \"Golfer\": \"Bob\", \"Stroke\": 6, \"Par\": 5, \"Yards_To_Pin\": 471, \"Pin_Distance\": 480, \"Club\": \"Putter\"}"
        ],
        [
         "{\"Record\": \"07faca66-e984-4e2a-8bd9-e32c8ef8ba34\", \"Hole\": \"13\", \"Golfer\": \"Bob\", \"Stroke\": 7, \"Par\": 5, \"Yards_To_Pin\": 480, \"Pin_Distance\": 480, \"Club\": \"Putter\"}"
        ],
        [
         "{\"Record\": \"34c19b37-3e7c-41b4-bddd-7cef4acaa458\", \"Hole\": \"14\", \"Golfer\": \"Bob\", \"Stroke\": 1, \"Par\": 5, \"Yards_To_Pin\": 262, \"Pin_Distance\": 473, \"Club\": \"Driver\"}"
        ],
        [
         "{\"Record\": \"de6ba71b-8a7e-407c-9f33-1fbfcab271b8\", \"Hole\": \"14\", \"Golfer\": \"Bob\", \"Stroke\": 2, \"Par\": 5, \"Yards_To_Pin\": 378, \"Pin_Distance\": 473, \"Club\": \"7 Iron\"}"
        ],
        [
         "{\"Record\": \"e7e52d24-1cee-484f-8a05-89c15bda507f\", \"Hole\": \"14\", \"Golfer\": \"Bob\", \"Stroke\": 3, \"Par\": 5, \"Yards_To_Pin\": 470, \"Pin_Distance\": 473, \"Club\": \"52 Degree Wedge\"}"
        ],
        [
         "{\"Record\": \"d430c3c6-b25d-4814-b74f-79c82903ddb4\", \"Hole\": \"14\", \"Golfer\": \"Bob\", \"Stroke\": 4, \"Par\": 5, \"Yards_To_Pin\": 473, \"Pin_Distance\": 473, \"Club\": \"52 Degree Wedge\"}"
        ],
        [
         "{\"Record\": \"ba933a37-cd44-480c-9ca3-34007c3efbd6\", \"Hole\": \"15\", \"Golfer\": \"Bob\", \"Stroke\": 1, \"Par\": 5, \"Yards_To_Pin\": 206, \"Pin_Distance\": 473, \"Club\": \"3 Wood\"}"
        ],
        [
         "{\"Record\": \"ca58da0e-a3ab-4b94-8746-026f63c44798\", \"Hole\": \"15\", \"Golfer\": \"Bob\", \"Stroke\": 2, \"Par\": 5, \"Yards_To_Pin\": 313, \"Pin_Distance\": 473, \"Club\": \"7 Iron\"}"
        ],
        [
         "{\"Record\": \"6c55b62d-498a-4475-9dec-76f62795c8da\", \"Hole\": \"15\", \"Golfer\": \"Bob\", \"Stroke\": 3, \"Par\": 5, \"Yards_To_Pin\": 402, \"Pin_Distance\": 473, \"Club\": \"54 Degree Wedge\"}"
        ],
        [
         "{\"Record\": \"17f584f7-0daa-4841-a4d7-d4a11fe80ed6\", \"Hole\": \"15\", \"Golfer\": \"Bob\", \"Stroke\": 4, \"Par\": 5, \"Yards_To_Pin\": 444, \"Pin_Distance\": 473, \"Club\": \"54 Degree Wedge\"}"
        ],
        [
         "{\"Record\": \"939c826a-2fc2-4ecf-b0b4-d9b4215683a2\", \"Hole\": \"15\", \"Golfer\": \"Bob\", \"Stroke\": 5, \"Par\": 5, \"Yards_To_Pin\": 466, \"Pin_Distance\": 473, \"Club\": \"54 Degree Wedge\"}"
        ],
        [
         "{\"Record\": \"48e09104-5901-478d-a6ce-a9dc714c9c3c\", \"Hole\": \"15\", \"Golfer\": \"Bob\", \"Stroke\": 6, \"Par\": 5, \"Yards_To_Pin\": 473, \"Pin_Distance\": 473, \"Club\": \"Putter\"}"
        ],
        [
         "{\"Record\": \"900da32c-3856-45b0-8d45-cf04a1f074cc\", \"Hole\": \"16\", \"Golfer\": \"Bob\", \"Stroke\": 1, \"Par\": 5, \"Yards_To_Pin\": 201, \"Pin_Distance\": 456, \"Club\": \"Driver\"}"
        ],
        [
         "{\"Record\": \"9613f72f-30b3-4541-8a81-0c15028163c3\", \"Hole\": \"16\", \"Golfer\": \"Bob\", \"Stroke\": 2, \"Par\": 5, \"Yards_To_Pin\": 307, \"Pin_Distance\": 456, \"Club\": \"8 Iron\"}"
        ],
        [
         "{\"Record\": \"ffd6f25c-1dc5-4953-ae5b-b4bc21580b27\", \"Hole\": \"16\", \"Golfer\": \"Bob\", \"Stroke\": 3, \"Par\": 5, \"Yards_To_Pin\": 356, \"Pin_Distance\": 456, \"Club\": \"54 Degree Wedge\"}"
        ],
        [
         "{\"Record\": \"69651d35-12f7-427b-a37a-eda661b3b3dc\", \"Hole\": \"16\", \"Golfer\": \"Bob\", \"Stroke\": 4, \"Par\": 5, \"Yards_To_Pin\": 399, \"Pin_Distance\": 456, \"Club\": \"54 Degree Wedge\"}"
        ],
        [
         "{\"Record\": \"ae7ae60b-453b-40cd-9529-efeb8e655729\", \"Hole\": \"16\", \"Golfer\": \"Bob\", \"Stroke\": 5, \"Par\": 5, \"Yards_To_Pin\": 419, \"Pin_Distance\": 456, \"Club\": \"56 Degree Wedge\"}"
        ],
        [
         "{\"Record\": \"d2578312-40ab-4bdd-8a5e-fdded1ebc868\", \"Hole\": \"16\", \"Golfer\": \"Bob\", \"Stroke\": 6, \"Par\": 5, \"Yards_To_Pin\": 439, \"Pin_Distance\": 456, \"Club\": \"Putter\"}"
        ],
        [
         "{\"Record\": \"10116d47-4426-40cd-92cb-c1f4dc65107e\", \"Hole\": \"16\", \"Golfer\": \"Bob\", \"Stroke\": 7, \"Par\": 5, \"Yards_To_Pin\": 454, \"Pin_Distance\": 456, \"Club\": \"Putter\"}"
        ],
        [
         "{\"Record\": \"af11f728-fbb2-422f-ad6c-d11503332726\", \"Hole\": \"16\", \"Golfer\": \"Bob\", \"Stroke\": 8, \"Par\": 5, \"Yards_To_Pin\": 456, \"Pin_Distance\": 456, \"Club\": \"Putter\"}"
        ],
        [
         "{\"Record\": \"dfeb9761-a89e-4372-9e58-38ef30d4e851\", \"Hole\": \"17\", \"Golfer\": \"Bob\", \"Stroke\": 1, \"Par\": 4, \"Yards_To_Pin\": 265, \"Pin_Distance\": 392, \"Club\": \"3 Wood\"}"
        ],
        [
         "{\"Record\": \"6c9adbdd-0753-40a7-90cf-2c851d140cd7\", \"Hole\": \"17\", \"Golfer\": \"Bob\", \"Stroke\": 2, \"Par\": 4, \"Yards_To_Pin\": 381, \"Pin_Distance\": 392, \"Club\": \"6 Iron\"}"
        ],
        [
         "{\"Record\": \"53a9ba7e-91dc-433e-a96d-c028b0657648\", \"Hole\": \"17\", \"Golfer\": \"Bob\", \"Stroke\": 3, \"Par\": 4, \"Yards_To_Pin\": 392, \"Pin_Distance\": 392, \"Club\": \"52 Degree Wedge\"}"
        ],
        [
         "{\"Record\": \"f85554ac-0978-4cfc-96da-92f02541d3d8\", \"Hole\": \"18\", \"Golfer\": \"Bob\", \"Stroke\": 1, \"Par\": 4, \"Yards_To_Pin\": 251, \"Pin_Distance\": 432, \"Club\": \"3 Wood\"}"
        ],
        [
         "{\"Record\": \"54e5d033-c386-434e-a285-6303d6cf82da\", \"Hole\": \"18\", \"Golfer\": \"Bob\", \"Stroke\": 2, \"Par\": 4, \"Yards_To_Pin\": 368, \"Pin_Distance\": 432, \"Club\": \"6 Iron\"}"
        ],
        [
         "{\"Record\": \"6faf4090-1466-4e9f-99df-25ee6b105747\", \"Hole\": \"18\", \"Golfer\": \"Bob\", \"Stroke\": 3, \"Par\": 4, \"Yards_To_Pin\": 432, \"Pin_Distance\": 432, \"Club\": \"52 Degree Wedge\"}"
        ]
       ],
       "datasetInfos": [],
       "dbfsResultPath": null,
       "isJsonSchema": true,
       "metadata": {},
       "overflow": false,
       "plotOptions": {
        "customPlotOptions": {},
        "displayType": "table",
        "pivotAggregation": null,
        "pivotColumns": null,
        "xColumns": null,
        "yColumns": null
       },
       "removedWidgets": [],
       "schema": [
        {
         "metadata": "{}",
         "name": "value",
         "type": "\"string\""
        }
       ],
       "type": "table"
      }
     },
     "output_type": "display_data"
    }
   ],
   "source": [
    "# Decode raw dataframe\n",
    "decoded_df = kakfa_df_raw.selectExpr(\"CAST(value AS STRING)\")\n",
    "display(decoded_df)"
   ]
  },
  {
   "cell_type": "code",
   "execution_count": 0,
   "metadata": {
    "application/vnd.databricks.v1+cell": {
     "cellMetadata": {
      "byteLimit": 2048000,
      "rowLimit": 10000
     },
     "collapsed": true,
     "inputWidgets": {},
     "nuid": "ed86eda8-471f-473d-955c-44d4f40a628b",
     "showTitle": false,
     "tableResultSettingsMap": {},
     "title": ""
    }
   },
   "outputs": [
    {
     "output_type": "display_data",
     "data": {
      "text/html": [
       "<style scoped>\n",
       "  .ansiout {\n",
       "    display: block;\n",
       "    unicode-bidi: embed;\n",
       "    white-space: pre-wrap;\n",
       "    word-wrap: break-word;\n",
       "    word-break: break-all;\n",
       "    font-family: \"Menlo\", \"Monaco\", \"Consolas\", \"Ubuntu Mono\", \"Source Code Pro\", monospace;\n",
       "    font-size: 13px;\n",
       "    color: #555;\n",
       "    margin-left: 4px;\n",
       "    line-height: 19px;\n",
       "  }\n",
       "</style>"
      ]
     },
     "metadata": {
      "application/vnd.databricks.v1+output": {
       "arguments": {},
       "data": "",
       "errorSummary": "Cancelled",
       "errorTraceType": "html",
       "metadata": {},
       "type": "ipynbError"
      }
     },
     "output_type": "display_data"
    }
   ],
   "source": [
    "# Write decoded dataframe to ADLS as JSON file\n",
    "stream_writer = (decoded_df.writeStream\n",
    "         .format(\"json\") \n",
    "         .option(\"path\", container_path) # ADLS container\n",
    "         .option(\"checkpointLocation\", checkpoint_path)  # Fault tolerance location\n",
    "         .outputMode(\"append\")\n",
    "         .start())\n",
    "\n",
    "# Keep stream running until terminated\n",
    "stream_writer.awaitTermination()"
   ]
  }
 ],
 "metadata": {
  "application/vnd.databricks.v1+notebook": {
   "computePreferences": null,
   "dashboards": [],
   "environmentMetadata": {
    "base_environment": "",
    "environment_version": "1"
   },
   "inputWidgetPreferences": null,
   "language": "python",
   "notebookMetadata": {
    "pythonIndentUnit": 4
   },
   "notebookName": "golf_main_databricks",
   "widgets": {}
  }
 },
 "nbformat": 4,
 "nbformat_minor": 0
}